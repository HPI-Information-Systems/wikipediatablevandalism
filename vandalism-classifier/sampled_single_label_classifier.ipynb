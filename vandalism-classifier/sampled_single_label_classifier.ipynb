{
 "cells": [
  {
   "cell_type": "code",
   "execution_count": 1,
   "metadata": {},
   "outputs": [
    {
     "name": "stderr",
     "output_type": "stream",
     "text": [
      "/Users/philipphager/.local/share/virtualenvs/vandalism-classifier-WHUGQZpq/lib/python3.6/importlib/_bootstrap.py:205: RuntimeWarning: numpy.dtype size changed, may indicate binary incompatibility. Expected 96, got 88\n",
      "  return f(*args, **kwds)\n",
      "/Users/philipphager/.local/share/virtualenvs/vandalism-classifier-WHUGQZpq/lib/python3.6/importlib/_bootstrap.py:205: RuntimeWarning: numpy.dtype size changed, may indicate binary incompatibility. Expected 96, got 88\n",
      "  return f(*args, **kwds)\n",
      "/Users/philipphager/.local/share/virtualenvs/vandalism-classifier-WHUGQZpq/lib/python3.6/site-packages/sklearn/ensemble/weight_boosting.py:29: DeprecationWarning: numpy.core.umath_tests is an internal NumPy module and should not be imported. It will be removed in a future NumPy release.\n",
      "  from numpy.core.umath_tests import inner1d\n"
     ]
    }
   ],
   "source": [
    "import ipywidgets as widgets\n",
    "import pandas as pd\n",
    "import matplotlib.pyplot as plt\n",
    "import numpy as np\n",
    "import seaborn as sns\n",
    "import subprocess\n",
    "import json\n",
    "import os\n",
    "from ipywidgets import interact, interactive, fixed, interact_manual\n",
    "from sklearn.base import BaseEstimator, TransformerMixin\n",
    "from sklearn.pipeline import Pipeline\n",
    "from sklearn.preprocessing import LabelBinarizer\n",
    "from sklearn.model_selection import train_test_split, cross_validate, cross_val_predict, GridSearchCV\n",
    "from sklearn.metrics import classification_report, confusion_matrix, precision_recall_curve, average_precision_score, auc, roc_curve\n",
    "from sklearn.externals import joblib\n",
    "from sklearn.tree import DecisionTreeClassifier\n",
    "from sklearn.ensemble import RandomForestClassifier\n",
    "from imblearn.ensemble import BalancedBaggingClassifier\n",
    "from sklearn.metrics import make_scorer, f1_score, precision_score, recall_score, accuracy_score, roc_auc_score\n",
    "from plotting import plot_confusion_matrix, plot_roc, plot_scores, plot_precision_recall, plot_feature_importance, plot_information_gain\n",
    "from preprocessing import VandalismEncoder, RevisionGrouper, FeatureSelector\n",
    "from undersampling import undersample_1_1, undersample_15_1, undersample_2_1, undersample_25_1, undersample_3_1, undersample_5_1, undersample_10_1\n",
    "import warnings\n",
    "warnings.filterwarnings(action='ignore')"
   ]
  },
  {
   "cell_type": "code",
   "execution_count": 2,
   "metadata": {
    "scrolled": false
   },
   "outputs": [
    {
     "data": {
      "text/html": [
       "<div>\n",
       "<style scoped>\n",
       "    .dataframe tbody tr th:only-of-type {\n",
       "        vertical-align: middle;\n",
       "    }\n",
       "\n",
       "    .dataframe tbody tr th {\n",
       "        vertical-align: top;\n",
       "    }\n",
       "\n",
       "    .dataframe thead th {\n",
       "        text-align: right;\n",
       "    }\n",
       "</style>\n",
       "<table border=\"1\" class=\"dataframe\">\n",
       "  <thead>\n",
       "    <tr style=\"text-align: right;\">\n",
       "      <th></th>\n",
       "      <th>isContributorAnonymous</th>\n",
       "      <th>isBot</th>\n",
       "      <th>timeOfDay</th>\n",
       "      <th>localizedTimeOfDay</th>\n",
       "      <th>dayOfWeek</th>\n",
       "      <th>localizedDayOfWeek</th>\n",
       "      <th>isMinorEdit</th>\n",
       "      <th>authorRank</th>\n",
       "      <th>authorRankOfLast200Edits</th>\n",
       "      <th>authorRankOneMonth</th>\n",
       "      <th>...</th>\n",
       "      <th>rawCommentLength</th>\n",
       "      <th>userCommentLength</th>\n",
       "      <th>hasNumericOutlierInColumns</th>\n",
       "      <th>hasNumericOutlierInRows</th>\n",
       "      <th>tableDataTypeInformationGain</th>\n",
       "      <th>templateUseFlags</th>\n",
       "      <th>templateUseFifaFlags</th>\n",
       "      <th>templateUsePageLink</th>\n",
       "      <th>templateUseYesNo</th>\n",
       "      <th>tag_id</th>\n",
       "    </tr>\n",
       "    <tr>\n",
       "      <th>revision_id</th>\n",
       "      <th></th>\n",
       "      <th></th>\n",
       "      <th></th>\n",
       "      <th></th>\n",
       "      <th></th>\n",
       "      <th></th>\n",
       "      <th></th>\n",
       "      <th></th>\n",
       "      <th></th>\n",
       "      <th></th>\n",
       "      <th></th>\n",
       "      <th></th>\n",
       "      <th></th>\n",
       "      <th></th>\n",
       "      <th></th>\n",
       "      <th></th>\n",
       "      <th></th>\n",
       "      <th></th>\n",
       "      <th></th>\n",
       "      <th></th>\n",
       "      <th></th>\n",
       "    </tr>\n",
       "  </thead>\n",
       "  <tbody>\n",
       "    <tr>\n",
       "      <th>228189784</th>\n",
       "      <td>0.0</td>\n",
       "      <td>0.0</td>\n",
       "      <td>13.0</td>\n",
       "      <td>-1.0</td>\n",
       "      <td>7.0</td>\n",
       "      <td>-1.0</td>\n",
       "      <td>0.0</td>\n",
       "      <td>0.000000</td>\n",
       "      <td>0.000000</td>\n",
       "      <td>0.0</td>\n",
       "      <td>...</td>\n",
       "      <td>34.0</td>\n",
       "      <td>34.0</td>\n",
       "      <td>0.0</td>\n",
       "      <td>0.0</td>\n",
       "      <td>-1.000000</td>\n",
       "      <td>0.0</td>\n",
       "      <td>0.0</td>\n",
       "      <td>0.0</td>\n",
       "      <td>0.0</td>\n",
       "      <td>12</td>\n",
       "    </tr>\n",
       "    <tr>\n",
       "      <th>730449352</th>\n",
       "      <td>0.0</td>\n",
       "      <td>0.0</td>\n",
       "      <td>2.0</td>\n",
       "      <td>-1.0</td>\n",
       "      <td>2.0</td>\n",
       "      <td>-1.0</td>\n",
       "      <td>0.0</td>\n",
       "      <td>0.833333</td>\n",
       "      <td>0.857143</td>\n",
       "      <td>0.5</td>\n",
       "      <td>...</td>\n",
       "      <td>14.0</td>\n",
       "      <td>0.0</td>\n",
       "      <td>1.0</td>\n",
       "      <td>0.0</td>\n",
       "      <td>0.134129</td>\n",
       "      <td>0.0</td>\n",
       "      <td>0.0</td>\n",
       "      <td>0.0</td>\n",
       "      <td>0.0</td>\n",
       "      <td>12</td>\n",
       "    </tr>\n",
       "    <tr>\n",
       "      <th>216224416</th>\n",
       "      <td>0.0</td>\n",
       "      <td>0.0</td>\n",
       "      <td>17.0</td>\n",
       "      <td>-1.0</td>\n",
       "      <td>6.0</td>\n",
       "      <td>-1.0</td>\n",
       "      <td>1.0</td>\n",
       "      <td>0.000000</td>\n",
       "      <td>0.000000</td>\n",
       "      <td>0.0</td>\n",
       "      <td>...</td>\n",
       "      <td>67.0</td>\n",
       "      <td>0.0</td>\n",
       "      <td>0.0</td>\n",
       "      <td>0.0</td>\n",
       "      <td>0.000000</td>\n",
       "      <td>0.0</td>\n",
       "      <td>0.0</td>\n",
       "      <td>0.0</td>\n",
       "      <td>0.0</td>\n",
       "      <td>12</td>\n",
       "    </tr>\n",
       "    <tr>\n",
       "      <th>539338621</th>\n",
       "      <td>0.0</td>\n",
       "      <td>1.0</td>\n",
       "      <td>1.0</td>\n",
       "      <td>-1.0</td>\n",
       "      <td>4.0</td>\n",
       "      <td>-1.0</td>\n",
       "      <td>1.0</td>\n",
       "      <td>0.000000</td>\n",
       "      <td>0.000000</td>\n",
       "      <td>0.0</td>\n",
       "      <td>...</td>\n",
       "      <td>152.0</td>\n",
       "      <td>0.0</td>\n",
       "      <td>0.0</td>\n",
       "      <td>0.0</td>\n",
       "      <td>-1.000000</td>\n",
       "      <td>0.0</td>\n",
       "      <td>0.0</td>\n",
       "      <td>0.0</td>\n",
       "      <td>0.0</td>\n",
       "      <td>12</td>\n",
       "    </tr>\n",
       "    <tr>\n",
       "      <th>746191686</th>\n",
       "      <td>1.0</td>\n",
       "      <td>0.0</td>\n",
       "      <td>20.0</td>\n",
       "      <td>23.0</td>\n",
       "      <td>2.0</td>\n",
       "      <td>2.0</td>\n",
       "      <td>0.0</td>\n",
       "      <td>-1.000000</td>\n",
       "      <td>-1.000000</td>\n",
       "      <td>-1.0</td>\n",
       "      <td>...</td>\n",
       "      <td>10.0</td>\n",
       "      <td>0.0</td>\n",
       "      <td>0.0</td>\n",
       "      <td>0.0</td>\n",
       "      <td>0.000000</td>\n",
       "      <td>0.0</td>\n",
       "      <td>0.0</td>\n",
       "      <td>0.0</td>\n",
       "      <td>0.0</td>\n",
       "      <td>12</td>\n",
       "    </tr>\n",
       "  </tbody>\n",
       "</table>\n",
       "<p>5 rows × 109 columns</p>\n",
       "</div>"
      ],
      "text/plain": [
       "             isContributorAnonymous  isBot  timeOfDay  localizedTimeOfDay  \\\n",
       "revision_id                                                                 \n",
       "228189784                       0.0    0.0       13.0                -1.0   \n",
       "730449352                       0.0    0.0        2.0                -1.0   \n",
       "216224416                       0.0    0.0       17.0                -1.0   \n",
       "539338621                       0.0    1.0        1.0                -1.0   \n",
       "746191686                       1.0    0.0       20.0                23.0   \n",
       "\n",
       "             dayOfWeek  localizedDayOfWeek  isMinorEdit  authorRank  \\\n",
       "revision_id                                                           \n",
       "228189784          7.0                -1.0          0.0    0.000000   \n",
       "730449352          2.0                -1.0          0.0    0.833333   \n",
       "216224416          6.0                -1.0          1.0    0.000000   \n",
       "539338621          4.0                -1.0          1.0    0.000000   \n",
       "746191686          2.0                 2.0          0.0   -1.000000   \n",
       "\n",
       "             authorRankOfLast200Edits  authorRankOneMonth   ...    \\\n",
       "revision_id                                                 ...     \n",
       "228189784                    0.000000                 0.0   ...     \n",
       "730449352                    0.857143                 0.5   ...     \n",
       "216224416                    0.000000                 0.0   ...     \n",
       "539338621                    0.000000                 0.0   ...     \n",
       "746191686                   -1.000000                -1.0   ...     \n",
       "\n",
       "             rawCommentLength  userCommentLength  hasNumericOutlierInColumns  \\\n",
       "revision_id                                                                    \n",
       "228189784                34.0               34.0                         0.0   \n",
       "730449352                14.0                0.0                         1.0   \n",
       "216224416                67.0                0.0                         0.0   \n",
       "539338621               152.0                0.0                         0.0   \n",
       "746191686                10.0                0.0                         0.0   \n",
       "\n",
       "             hasNumericOutlierInRows  tableDataTypeInformationGain  \\\n",
       "revision_id                                                          \n",
       "228189784                        0.0                     -1.000000   \n",
       "730449352                        0.0                      0.134129   \n",
       "216224416                        0.0                      0.000000   \n",
       "539338621                        0.0                     -1.000000   \n",
       "746191686                        0.0                      0.000000   \n",
       "\n",
       "             templateUseFlags  templateUseFifaFlags  templateUsePageLink  \\\n",
       "revision_id                                                                \n",
       "228189784                 0.0                   0.0                  0.0   \n",
       "730449352                 0.0                   0.0                  0.0   \n",
       "216224416                 0.0                   0.0                  0.0   \n",
       "539338621                 0.0                   0.0                  0.0   \n",
       "746191686                 0.0                   0.0                  0.0   \n",
       "\n",
       "             templateUseYesNo  tag_id  \n",
       "revision_id                            \n",
       "228189784                 0.0      12  \n",
       "730449352                 0.0      12  \n",
       "216224416                 0.0      12  \n",
       "539338621                 0.0      12  \n",
       "746191686                 0.0      12  \n",
       "\n",
       "[5 rows x 109 columns]"
      ]
     },
     "execution_count": 2,
     "metadata": {},
     "output_type": "execute_result"
    }
   ],
   "source": [
    "# Import dataset\n",
    "df = pd.read_csv('./data/features-total-2f8f6676.csv', index_col='revision_id')\n",
    "tag_df = pd.read_csv('./data/tag.csv', index_col='id')\n",
    "df.head()"
   ]
  },
  {
   "cell_type": "code",
   "execution_count": 3,
   "metadata": {},
   "outputs": [
    {
     "data": {
      "image/png": "[encoded data removed]",
      "text/plain": [
       "<Figure size 432x288 with 1 Axes>"
      ]
     },
     "metadata": {},
     "output_type": "display_data"
    }
   ],
   "source": [
    "# Tag distribution\n",
    "sns.distplot(df['tag_id'], kde=False)\n",
    "plt.show()"
   ]
  },
  {
   "cell_type": "code",
   "execution_count": 4,
   "metadata": {},
   "outputs": [],
   "source": [
    "BASELINE_FEATURE_COLUMNS = [\n",
    "    # Context\n",
    "    'isContributorAnonymous',\n",
    "    'commentLength',\n",
    "    'sizeChange',\n",
    "    'timeSinceLastArticleEdit',\n",
    "    'timeOfDay',\n",
    "    'dayOfWeek',\n",
    "    'timeSinceFirstArticleEditBySameContributor',\n",
    "    'timeSinceContributorRevertedBeforeInThatArticle',\n",
    "    'sizeRatio',\n",
    "    'hasPreviousSameContributor',\n",
    "    # Text\n",
    "    'ratioOfNumericalCharsToAllChars',\n",
    "    'ratioOfAlphanumericCharsToAllChars',\n",
    "    'ratioOfUppercaseCharsToAllChars',\n",
    "    'ratioOfUppercaseCharsToLowercaseChars',\n",
    "    'lengthOfLongestConsecutiveSequenceOfSingleChar',\n",
    "    'lengthOfLongestToken',\n",
    "    'averageRelativeFrequencyOfNewAddedWords',\n",
    "    'LZWCompressionRate',\n",
    "    'KLDOfCharDistribution',\n",
    "    'previousLength',\n",
    "    # Language\n",
    "    'vulgarWordFrequencyInComment',\n",
    "    'vulgarWordFrequencyInTables',\n",
    "    'vulgarWordImpactInTables',\n",
    "    'personalPronounFrequencyInComment',\n",
    "    'personalPronounFrequencyInTable',\n",
    "    'personalPronounImpactInTable',\n",
    "    # Ref: Colloquial, high bias\n",
    "    'superlativeWordFrequencyInComment',\n",
    "    'superlativeWordFrequencyInTable',\n",
    "    'superlativeWordImpactInTable',\n",
    "    'sexualWordFrequencyInComment',\n",
    "    'sexualWordFrequencyInTables',\n",
    "    'sexualWordImpactInTables',\n",
    "    'averageAllBadWordFrequencyInComment',\n",
    "    'averageAllBadWordFrequencyInTable',\n",
    "    'averageAllBadWordImpactInTable',\n",
    "    # Ref: Good words\n",
    "    'wikiSyntaxElementFrequencyInTable',\n",
    "    'wikiSyntaxElementImpactInTable',\n",
    "    'wikiSyntaxElementFrequencyInComment',\n",
    "    'revertInComment'\n",
    "]"
   ]
  },
  {
   "cell_type": "markdown",
   "metadata": {},
   "source": [
    "---\n",
    "## Preprocessing"
   ]
  },
  {
   "cell_type": "code",
   "execution_count": 5,
   "metadata": {
    "scrolled": true
   },
   "outputs": [
    {
     "data": {
      "application/vnd.jupyter.widget-view+json": {
       "model_id": "7d43f20d5abd4f56a6640bd6159ccaa8",
       "version_major": 2,
       "version_minor": 0
      },
      "text/plain": [
       "interactive(children=(Dropdown(description='features', options=('all', 'baseline'), value='all'), Dropdown(des…"
      ]
     },
     "metadata": {},
     "output_type": "display_data"
    }
   ],
   "source": [
    "def preprocessing(features, tags):\n",
    "    feature_columns = None\n",
    "    selected_tags = []\n",
    "    \n",
    "    if features == 'baseline':\n",
    "        feature_columns = BASELINE_FEATURE_COLUMNS\n",
    "    \n",
    "    if tags == 'all vandalism':\n",
    "        selected_tags = [1, 2, 3, 5, 6, 9, 11]\n",
    "    else:\n",
    "        selected_tags.append(tags)\n",
    "\n",
    "    preprocess_pipeline = Pipeline([\n",
    "        ('vandalism_encoder', VandalismEncoder(selected_tags)),\n",
    "        ('revision_grouper', RevisionGrouper()),\n",
    "        ('feature_selector', FeatureSelector(feature_columns))\n",
    "    ])\n",
    "\n",
    "    print('Feature config:', features, 'Selected tags:', selected_tags)\n",
    "    return preprocess_pipeline.transform(df)\n",
    "    \n",
    "widget = interactive(preprocessing, features=['all', 'baseline'], tags=['all vandalism', 1, 2, 3, 5, 6, 9, 11, 12])\n",
    "display(widget)"
   ]
  },
  {
   "cell_type": "code",
   "execution_count": 6,
   "metadata": {
    "scrolled": true
   },
   "outputs": [
    {
     "name": "stdout",
     "output_type": "stream",
     "text": [
      "Feature config: all , Features after preprocessing: 109\n"
     ]
    },
    {
     "data": {
      "image/png": "[encoded data removed]",
      "text/plain": [
       "<Figure size 432x288 with 1 Axes>"
      ]
     },
     "metadata": {},
     "output_type": "display_data"
    }
   ],
   "source": [
    "processed_df = widget.result\n",
    "print('Feature config:', widget.kwargs['features'], ', Features after preprocessing:', len(processed_df.columns))\n",
    "\n",
    "sns.distplot(processed_df['is_vandalism'].map(lambda x: 1 if x else 0), kde=False,  bins=2)\n",
    "plt.show()"
   ]
  },
  {
   "cell_type": "code",
   "execution_count": 7,
   "metadata": {},
   "outputs": [],
   "source": [
    "# X, y split\n",
    "X = processed_df.drop(['is_vandalism'], axis=1)\n",
    "y = processed_df['is_vandalism']"
   ]
  },
  {
   "cell_type": "code",
   "execution_count": 8,
   "metadata": {
    "scrolled": true
   },
   "outputs": [
    {
     "name": "stdout",
     "output_type": "stream",
     "text": [
      "X train (3720, 108)\n",
      "y train (3720,)\n",
      "X test (1240, 108)\n",
      "y test (1240,)\n"
     ]
    }
   ],
   "source": [
    "# Train / Test split\n",
    "X_train, X_test, y_train, y_test = train_test_split(X, y, random_state=42)\n",
    "print('X train', X_train.shape)\n",
    "print('y train', y_train.shape)\n",
    "print('X test', X_test.shape)\n",
    "print('y test', y_test.shape)"
   ]
  },
  {
   "cell_type": "markdown",
   "metadata": {},
   "source": [
    "---\n",
    "## Grid search model parameters"
   ]
  },
  {
   "cell_type": "code",
   "execution_count": null,
   "metadata": {
    "scrolled": true
   },
   "outputs": [],
   "source": [
    "# Grid search model params\n",
    "parameters = [{\n",
    "    'n_estimators': [500],\n",
    "    'max_features': [0.5, 1.0],\n",
    "    'ratio': [\n",
    "        'majority',\n",
    "        undersample_1_1,\n",
    "        undersample_15_1,\n",
    "        undersample_2_1,\n",
    "        undersample_25_1,\n",
    "        undersample_3_1,\n",
    "        undersample_5_1,\n",
    "        undersample_10_1\n",
    "    ]\n",
    "}]\n",
    "\n",
    "# Custom scoring: Use only f1 of vandalism class\n",
    "scores = {\n",
    "    'f1_vandalism': make_scorer(f1_score, labels=[1], average=None),\n",
    "    'f1': make_scorer(f1_score),\n",
    "    'precision': make_scorer(precision_score),\n",
    "    'recall': make_scorer(recall_score),\n",
    "    'roc_auc': make_scorer(roc_auc_score)\n",
    "}\n",
    "\n",
    "grid_search = GridSearchCV(BalancedBaggingClassifier(DecisionTreeClassifier()),\n",
    "                           parameters, \n",
    "                           scoring=scores,\n",
    "                           refit='f1_vandalism',\n",
    "                           cv=10,\n",
    "                           n_jobs=-1)\n",
    "grid_search.fit(X_train, y_train)\n",
    "\n",
    "params = grid_search.best_params_\n",
    "print('Best params', grid_search.best_params_)\n",
    "print('Best score', grid_search.best_score_)"
   ]
  },
  {
   "cell_type": "markdown",
   "metadata": {},
   "source": [
    "---\n",
    "## Train: Cross evaluate model using best parameters"
   ]
  },
  {
   "cell_type": "code",
   "execution_count": null,
   "metadata": {},
   "outputs": [],
   "source": [
    "# Train scores & predictions\n",
    "clf = BalancedBaggingClassifier(DecisionTreeClassifier(),\n",
    "                                n_estimators=params['n_estimators'],\n",
    "                                ratio=params['ratio'],\n",
    "                                max_features=params['max_features'],\n",
    "                                n_jobs=-1)\n",
    "\n",
    "train_scores = cross_validate(clf, X_train, y_train,\n",
    "                        scoring=['f1', 'f1_micro', 'precision', 'recall', 'roc_auc', 'accuracy'],\n",
    "                        cv=10, n_jobs=-1, return_train_score=False)\n",
    "\n",
    "y_train_predict = cross_val_predict(clf, X_train, y_train, cv=10, n_jobs=-1, method='predict')\n",
    "y_train_predict_proba = cross_val_predict(clf, X_train, y_train, cv=10, n_jobs=-1, method='predict_proba')"
   ]
  },
  {
   "cell_type": "code",
   "execution_count": null,
   "metadata": {},
   "outputs": [],
   "source": [
    "plot_scores(train_scores)"
   ]
  },
  {
   "cell_type": "code",
   "execution_count": null,
   "metadata": {
    "scrolled": true
   },
   "outputs": [],
   "source": [
    "plot_confusion_matrix(y_train, y_train_predict)"
   ]
  },
  {
   "cell_type": "code",
   "execution_count": null,
   "metadata": {},
   "outputs": [],
   "source": [
    "plot_precision_recall(y_train, y_train_predict_proba[:, 1])"
   ]
  },
  {
   "cell_type": "code",
   "execution_count": null,
   "metadata": {},
   "outputs": [],
   "source": [
    "plot_roc(y_train, y_train_predict_proba[:, 1])"
   ]
  },
  {
   "cell_type": "code",
   "execution_count": null,
   "metadata": {},
   "outputs": [],
   "source": [
    "# Estimate feature importance with random forrest\n",
    "clf = RandomForestClassifier(n_estimators=params['n_estimators'], n_jobs=-1)\n",
    "clf.fit(X_train, y_train)\n",
    "plot_feature_importance(clf, X_train.columns)"
   ]
  },
  {
   "cell_type": "markdown",
   "metadata": {},
   "source": [
    "---\n",
    "## Test: Test model on final test dataset"
   ]
  },
  {
   "cell_type": "code",
   "execution_count": null,
   "metadata": {},
   "outputs": [],
   "source": [
    "clf = BalancedBaggingClassifier(DecisionTreeClassifier(),\n",
    "                                n_estimators=params['n_estimators'],\n",
    "                                max_features=params['max_features'],\n",
    "                                ratio=params['ratio'],\n",
    "                                n_jobs=-1)\n",
    "clf.fit(X_train, y_train)"
   ]
  },
  {
   "cell_type": "code",
   "execution_count": null,
   "metadata": {},
   "outputs": [],
   "source": [
    "y_test_predict = clf.predict(X_test)\n",
    "y_test_predict_proba = clf.predict_proba(X_test)"
   ]
  },
  {
   "cell_type": "code",
   "execution_count": null,
   "metadata": {},
   "outputs": [],
   "source": [
    "plot_confusion_matrix(y_test, y_test_predict)"
   ]
  },
  {
   "cell_type": "code",
   "execution_count": null,
   "metadata": {},
   "outputs": [],
   "source": [
    "plot_precision_recall(y_test, y_test_predict_proba[:, 1])"
   ]
  },
  {
   "cell_type": "code",
   "execution_count": null,
   "metadata": {},
   "outputs": [],
   "source": [
    "plot_roc(y_test, y_test_predict_proba[:, 1])"
   ]
  },
  {
   "cell_type": "code",
   "execution_count": null,
   "metadata": {},
   "outputs": [],
   "source": [
    "# False positives for the test set\n",
    "fp_test = X_test[(y_test == 0) & (y_test_predict == 1)]\n",
    "fp_with_labels = fp_test.join(df, rsuffix='_original')\n",
    "fp_with_labels[['tag_id']].head(10)"
   ]
  },
  {
   "cell_type": "code",
   "execution_count": null,
   "metadata": {
    "scrolled": false
   },
   "outputs": [],
   "source": [
    "# False negatives for the test set\n",
    "fp_test = X_test[(y_test == 1) & (y_test_predict == 0)]\n",
    "fp_with_labels = fp_test.join(df, rsuffix='_original')\n",
    "fp_with_labels[['tag_id']].head(20)"
   ]
  },
  {
   "cell_type": "code",
   "execution_count": null,
   "metadata": {},
   "outputs": [],
   "source": [
    "# Inspect revision\n",
    "@interact(revision_id='', label=X.columns)\n",
    "def show_revision(revision_id, label):\n",
    "    if len(revision_id) > 1:\n",
    "        print(df.loc[int(revision_id)][['tag_id', label]])"
   ]
  },
  {
   "cell_type": "code",
   "execution_count": null,
   "metadata": {},
   "outputs": [],
   "source": [
    "# Feature histogramm\n",
    "@interact(label=X.columns)\n",
    "def show_feature_per_tag(label):\n",
    "    sns.jointplot(x='tag_id', y=label, data=df)\n",
    "    plt.show()\n",
    "    print('Revisions with highest values')\n",
    "    print(df.sort_values([label], ascending=[False])[['tag_id', label]].head(10))"
   ]
  },
  {
   "cell_type": "code",
   "execution_count": null,
   "metadata": {
    "scrolled": true
   },
   "outputs": [],
   "source": [
    "# Information Gain\n",
    "plot_information_gain(X, y)"
   ]
  }
 ],
 "metadata": {
  "kernelspec": {
   "display_name": "Python 3",
   "language": "python",
   "name": "python3"
  },
  "language_info": {
   "codemirror_mode": {
    "name": "ipython",
    "version": 3
   },
   "file_extension": ".py",
   "mimetype": "text/x-python",
   "name": "python",
   "nbconvert_exporter": "python",
   "pygments_lexer": "ipython3",
   "version": "3.6.0"
  }
 },
 "nbformat": 4,
 "nbformat_minor": 2
}
