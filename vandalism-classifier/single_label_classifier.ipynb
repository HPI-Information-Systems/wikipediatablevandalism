{
 "cells": [
  {
   "cell_type": "code",
   "execution_count": 1,
   "metadata": {},
   "outputs": [
    {
     "name": "stderr",
     "output_type": "stream",
     "text": [
      "/Users/philipphager/.local/share/virtualenvs/vandalism-classifier-WHUGQZpq/lib/python3.6/importlib/_bootstrap.py:205: RuntimeWarning: numpy.dtype size changed, may indicate binary incompatibility. Expected 96, got 88\n",
      "  return f(*args, **kwds)\n",
      "/Users/philipphager/.local/share/virtualenvs/vandalism-classifier-WHUGQZpq/lib/python3.6/importlib/_bootstrap.py:205: RuntimeWarning: numpy.dtype size changed, may indicate binary incompatibility. Expected 96, got 88\n",
      "  return f(*args, **kwds)\n",
      "/Users/philipphager/.local/share/virtualenvs/vandalism-classifier-WHUGQZpq/lib/python3.6/site-packages/sklearn/ensemble/weight_boosting.py:29: DeprecationWarning: numpy.core.umath_tests is an internal NumPy module and should not be imported. It will be removed in a future NumPy release.\n",
      "  from numpy.core.umath_tests import inner1d\n"
     ]
    }
   ],
   "source": [
    "from ipywidgets import interact, interactive, fixed, interact_manual\n",
    "import ipywidgets as widgets\n",
    "import pandas as pd\n",
    "import matplotlib.pyplot as plt\n",
    "import numpy as np\n",
    "import seaborn as sns\n",
    "import subprocess\n",
    "import json\n",
    "import os\n",
    "from sklearn.base import BaseEstimator, TransformerMixin\n",
    "from sklearn.ensemble import RandomForestClassifier\n",
    "from sklearn.pipeline import Pipeline\n",
    "from sklearn.preprocessing import LabelBinarizer\n",
    "from sklearn.model_selection import train_test_split, cross_validate, cross_val_predict, GridSearchCV\n",
    "from sklearn.metrics import classification_report, confusion_matrix, precision_recall_curve, average_precision_score, auc, roc_curve\n",
    "from sklearn.externals import joblib"
   ]
  },
  {
   "cell_type": "code",
   "execution_count": 25,
   "metadata": {
    "scrolled": false
   },
   "outputs": [
    {
     "data": {
      "text/html": [
       "<div>\n",
       "<style scoped>\n",
       "    .dataframe tbody tr th:only-of-type {\n",
       "        vertical-align: middle;\n",
       "    }\n",
       "\n",
       "    .dataframe tbody tr th {\n",
       "        vertical-align: top;\n",
       "    }\n",
       "\n",
       "    .dataframe thead th {\n",
       "        text-align: right;\n",
       "    }\n",
       "</style>\n",
       "<table border=\"1\" class=\"dataframe\">\n",
       "  <thead>\n",
       "    <tr style=\"text-align: right;\">\n",
       "      <th></th>\n",
       "      <th>isContributorAnonymous</th>\n",
       "      <th>isBot</th>\n",
       "      <th>timeOfDay</th>\n",
       "      <th>localizedTimeOfDay</th>\n",
       "      <th>dayOfWeek</th>\n",
       "      <th>localizedDayOfWeek</th>\n",
       "      <th>isMinorEdit</th>\n",
       "      <th>authorRank</th>\n",
       "      <th>authorRankOfLast200Edits</th>\n",
       "      <th>authorRankOneMonth</th>\n",
       "      <th>...</th>\n",
       "      <th>sizeRatio</th>\n",
       "      <th>LZWCompressionRate</th>\n",
       "      <th>KLDOfCharDistribution</th>\n",
       "      <th>commentLength</th>\n",
       "      <th>userCommentLength</th>\n",
       "      <th>templateUseFlags</th>\n",
       "      <th>templateUseFifaFlags</th>\n",
       "      <th>templateUsePageLink</th>\n",
       "      <th>templateUseYesNo</th>\n",
       "      <th>tag_id</th>\n",
       "    </tr>\n",
       "    <tr>\n",
       "      <th>revision_id</th>\n",
       "      <th></th>\n",
       "      <th></th>\n",
       "      <th></th>\n",
       "      <th></th>\n",
       "      <th></th>\n",
       "      <th></th>\n",
       "      <th></th>\n",
       "      <th></th>\n",
       "      <th></th>\n",
       "      <th></th>\n",
       "      <th></th>\n",
       "      <th></th>\n",
       "      <th></th>\n",
       "      <th></th>\n",
       "      <th></th>\n",
       "      <th></th>\n",
       "      <th></th>\n",
       "      <th></th>\n",
       "      <th></th>\n",
       "      <th></th>\n",
       "      <th></th>\n",
       "    </tr>\n",
       "  </thead>\n",
       "  <tbody>\n",
       "    <tr>\n",
       "      <th>228189784</th>\n",
       "      <td>0.0</td>\n",
       "      <td>0.0</td>\n",
       "      <td>13.0</td>\n",
       "      <td>-1.0</td>\n",
       "      <td>7.0</td>\n",
       "      <td>-1.0</td>\n",
       "      <td>0.0</td>\n",
       "      <td>0.000000</td>\n",
       "      <td>0.000000</td>\n",
       "      <td>0.0</td>\n",
       "      <td>...</td>\n",
       "      <td>11910.000000</td>\n",
       "      <td>0.513889</td>\n",
       "      <td>1024.000000</td>\n",
       "      <td>34.0</td>\n",
       "      <td>34.0</td>\n",
       "      <td>0.0</td>\n",
       "      <td>0.0</td>\n",
       "      <td>0.0</td>\n",
       "      <td>0.0</td>\n",
       "      <td>12</td>\n",
       "    </tr>\n",
       "    <tr>\n",
       "      <th>730449352</th>\n",
       "      <td>0.0</td>\n",
       "      <td>0.0</td>\n",
       "      <td>2.0</td>\n",
       "      <td>-1.0</td>\n",
       "      <td>2.0</td>\n",
       "      <td>-1.0</td>\n",
       "      <td>0.0</td>\n",
       "      <td>0.833333</td>\n",
       "      <td>0.857143</td>\n",
       "      <td>0.5</td>\n",
       "      <td>...</td>\n",
       "      <td>0.003832</td>\n",
       "      <td>0.308994</td>\n",
       "      <td>4.126739</td>\n",
       "      <td>14.0</td>\n",
       "      <td>14.0</td>\n",
       "      <td>0.0</td>\n",
       "      <td>0.0</td>\n",
       "      <td>0.0</td>\n",
       "      <td>0.0</td>\n",
       "      <td>12</td>\n",
       "    </tr>\n",
       "    <tr>\n",
       "      <th>216224416</th>\n",
       "      <td>0.0</td>\n",
       "      <td>0.0</td>\n",
       "      <td>17.0</td>\n",
       "      <td>-1.0</td>\n",
       "      <td>6.0</td>\n",
       "      <td>-1.0</td>\n",
       "      <td>1.0</td>\n",
       "      <td>0.000000</td>\n",
       "      <td>0.000000</td>\n",
       "      <td>0.0</td>\n",
       "      <td>...</td>\n",
       "      <td>0.003622</td>\n",
       "      <td>0.434896</td>\n",
       "      <td>85.525822</td>\n",
       "      <td>67.0</td>\n",
       "      <td>0.0</td>\n",
       "      <td>0.0</td>\n",
       "      <td>0.0</td>\n",
       "      <td>2.0</td>\n",
       "      <td>0.0</td>\n",
       "      <td>12</td>\n",
       "    </tr>\n",
       "    <tr>\n",
       "      <th>539338621</th>\n",
       "      <td>0.0</td>\n",
       "      <td>1.0</td>\n",
       "      <td>1.0</td>\n",
       "      <td>-1.0</td>\n",
       "      <td>4.0</td>\n",
       "      <td>-1.0</td>\n",
       "      <td>1.0</td>\n",
       "      <td>0.000000</td>\n",
       "      <td>0.000000</td>\n",
       "      <td>0.0</td>\n",
       "      <td>...</td>\n",
       "      <td>-0.000196</td>\n",
       "      <td>0.353894</td>\n",
       "      <td>1.286642</td>\n",
       "      <td>152.0</td>\n",
       "      <td>0.0</td>\n",
       "      <td>0.0</td>\n",
       "      <td>0.0</td>\n",
       "      <td>0.0</td>\n",
       "      <td>0.0</td>\n",
       "      <td>12</td>\n",
       "    </tr>\n",
       "    <tr>\n",
       "      <th>746191686</th>\n",
       "      <td>1.0</td>\n",
       "      <td>0.0</td>\n",
       "      <td>20.0</td>\n",
       "      <td>23.0</td>\n",
       "      <td>2.0</td>\n",
       "      <td>2.0</td>\n",
       "      <td>0.0</td>\n",
       "      <td>-1.000000</td>\n",
       "      <td>-1.000000</td>\n",
       "      <td>-1.0</td>\n",
       "      <td>...</td>\n",
       "      <td>0.000048</td>\n",
       "      <td>0.428264</td>\n",
       "      <td>342.595182</td>\n",
       "      <td>10.0</td>\n",
       "      <td>10.0</td>\n",
       "      <td>0.0</td>\n",
       "      <td>0.0</td>\n",
       "      <td>0.0</td>\n",
       "      <td>0.0</td>\n",
       "      <td>12</td>\n",
       "    </tr>\n",
       "  </tbody>\n",
       "</table>\n",
       "<p>5 rows × 84 columns</p>\n",
       "</div>"
      ],
      "text/plain": [
       "             isContributorAnonymous  isBot  timeOfDay  localizedTimeOfDay  \\\n",
       "revision_id                                                                 \n",
       "228189784                       0.0    0.0       13.0                -1.0   \n",
       "730449352                       0.0    0.0        2.0                -1.0   \n",
       "216224416                       0.0    0.0       17.0                -1.0   \n",
       "539338621                       0.0    1.0        1.0                -1.0   \n",
       "746191686                       1.0    0.0       20.0                23.0   \n",
       "\n",
       "             dayOfWeek  localizedDayOfWeek  isMinorEdit  authorRank  \\\n",
       "revision_id                                                           \n",
       "228189784          7.0                -1.0          0.0    0.000000   \n",
       "730449352          2.0                -1.0          0.0    0.833333   \n",
       "216224416          6.0                -1.0          1.0    0.000000   \n",
       "539338621          4.0                -1.0          1.0    0.000000   \n",
       "746191686          2.0                 2.0          0.0   -1.000000   \n",
       "\n",
       "             authorRankOfLast200Edits  authorRankOneMonth   ...    \\\n",
       "revision_id                                                 ...     \n",
       "228189784                    0.000000                 0.0   ...     \n",
       "730449352                    0.857143                 0.5   ...     \n",
       "216224416                    0.000000                 0.0   ...     \n",
       "539338621                    0.000000                 0.0   ...     \n",
       "746191686                   -1.000000                -1.0   ...     \n",
       "\n",
       "                sizeRatio  LZWCompressionRate  KLDOfCharDistribution  \\\n",
       "revision_id                                                            \n",
       "228189784    11910.000000            0.513889            1024.000000   \n",
       "730449352        0.003832            0.308994               4.126739   \n",
       "216224416        0.003622            0.434896              85.525822   \n",
       "539338621       -0.000196            0.353894               1.286642   \n",
       "746191686        0.000048            0.428264             342.595182   \n",
       "\n",
       "             commentLength  userCommentLength  templateUseFlags  \\\n",
       "revision_id                                                       \n",
       "228189784             34.0               34.0               0.0   \n",
       "730449352             14.0               14.0               0.0   \n",
       "216224416             67.0                0.0               0.0   \n",
       "539338621            152.0                0.0               0.0   \n",
       "746191686             10.0               10.0               0.0   \n",
       "\n",
       "             templateUseFifaFlags  templateUsePageLink  templateUseYesNo  \\\n",
       "revision_id                                                                \n",
       "228189784                     0.0                  0.0               0.0   \n",
       "730449352                     0.0                  0.0               0.0   \n",
       "216224416                     0.0                  2.0               0.0   \n",
       "539338621                     0.0                  0.0               0.0   \n",
       "746191686                     0.0                  0.0               0.0   \n",
       "\n",
       "             tag_id  \n",
       "revision_id          \n",
       "228189784        12  \n",
       "730449352        12  \n",
       "216224416        12  \n",
       "539338621        12  \n",
       "746191686        12  \n",
       "\n",
       "[5 rows x 84 columns]"
      ]
     },
     "execution_count": 25,
     "metadata": {},
     "output_type": "execute_result"
    }
   ],
   "source": [
    "# Import dataset\n",
    "df = pd.read_csv('../data/features-total-4a115a8.csv', index_col='revision_id')\n",
    "tag_df = pd.read_csv('../data/tag.csv', index_col='id')\n",
    "df.head()"
   ]
  },
  {
   "cell_type": "code",
   "execution_count": 3,
   "metadata": {},
   "outputs": [],
   "source": [
    "BASELINE_FEATURE_COLUMNS = [\n",
    "    # Context\n",
    "    'isContributorAnonymous',\n",
    "    'commentLength',\n",
    "    'sizeChange',\n",
    "    'timeSinceLastArticleEdit',\n",
    "    'timeOfDay',\n",
    "    'dayOfWeek',\n",
    "    'timeSinceFirstArticleEditBySameContributor',\n",
    "    'timeSinceContributorRevertedBeforeInThatArticle',\n",
    "    'sizeRatio',\n",
    "    'hasPreviousSameContributor',\n",
    "    # Text\n",
    "    'ratioOfNumericalCharsToAllChars',\n",
    "    'ratioOfAlphanumericCharsToAllChars',\n",
    "    'ratioOfUppercaseCharsToAllChars',\n",
    "    'ratioOfUppercaseCharsToLowercaseChars',\n",
    "    'lengthOfLongestConsecutiveSequenceOfSingleChar',\n",
    "    'lengthOfLongestToken',\n",
    "    'averageRelativeFrequencyOfNewAddedWords',\n",
    "    'LZWCompressionRate',\n",
    "    'KLDOfCharDistribution',\n",
    "    'previousLength',\n",
    "    # Language\n",
    "    'vulgarWordFrequencyInComment',\n",
    "    'vulgarWordFrequencyInTables',\n",
    "    'vulgarWordImpactInTables',\n",
    "    'personalPronounFrequencyInComment',\n",
    "    'personalPronounFrequencyInTable',\n",
    "    'personalPronounImpactInTable',\n",
    "    # Ref: Colloquial, high bias\n",
    "    'superlativeWordFrequencyInComment',\n",
    "    'superlativeWordFrequencyInTable',\n",
    "    'superlativeWordImpactInTable',\n",
    "    'sexualWordFrequencyInComment',\n",
    "    'sexualWordFrequencyInTables',\n",
    "    'sexualWordImpactInTables',\n",
    "    'averageAllBadWordFrequencyInComment',\n",
    "    'averageAllBadWordFrequencyInTable',\n",
    "    'averageAllBadWordImpactInTable',\n",
    "    # Ref: Good words\n",
    "    'wikiSyntaxElementFrequencyInTable',\n",
    "    'wikiSyntaxElementImpactInTable',\n",
    "    'wikiSyntaxElementFrequencyInComment',\n",
    "    'revertInComment'\n",
    "]"
   ]
  },
  {
   "cell_type": "code",
   "execution_count": 4,
   "metadata": {},
   "outputs": [],
   "source": [
    "# Evaluation utils\n",
    "def plot_confusion_matrix(y_true, y_pred):\n",
    "    vandalism_count = y_true.value_counts()[True]\n",
    "    no_vandalism_count = y_true.value_counts()[False]\n",
    "    cfn_matrix = confusion_matrix(y_true, y_pred)\n",
    "    cfn_norm_matrix = np.array([[1.0/no_vandalism_count, 1.0/no_vandalism_count], [1.0/vandalism_count, 1.0/vandalism_count]])\n",
    "    norm_cfn_matrix = cfn_matrix * cfn_norm_matrix\n",
    "    \n",
    "    fig = plt.figure(figsize=(15,5))\n",
    "    ax = fig.add_subplot(1,2,1)\n",
    "    sns.heatmap(cfn_matrix, annot=True, fmt=\"d\", linewidths=0.5, ax=ax)\n",
    "    plt.title('Confusion Matrix')\n",
    "    plt.ylabel('Real Classes')\n",
    "    plt.xlabel('Predicted Classes')\n",
    "\n",
    "    ax = fig.add_subplot(1,2,2)\n",
    "    sns.heatmap(norm_cfn_matrix, linewidths=0.5, annot=True, ax=ax)\n",
    "    plt.title('Normalized Confusion Matrix')\n",
    "    plt.ylabel('Real Classes')\n",
    "    plt.xlabel('Predicted Classes')\n",
    "    plt.show()\n",
    "    \n",
    "    print('Classification Report')\n",
    "    classes = ['No Vandalism', 'Vandalism']\n",
    "    print(classification_report(y_true, y_pred, target_names=classes))\n",
    "    \n",
    "def plot_scores(scores):\n",
    "    print('Cross validation scores')\n",
    "    scores = list(scores.items())[2:]\n",
    "\n",
    "    for score in scores:\n",
    "        sns.lineplot(range(0, 10), score[1], label=score[0])\n",
    "        plt.legend(bbox_to_anchor=(1.1, 1.05))\n",
    "    plt.show()\n",
    "\n",
    "def plot_precision_recall(y_true, y_predict_proba):\n",
    "    precision, recall, thresholds = precision_recall_curve(y_true, y_predict_proba)\n",
    "    average_precision = average_precision_score(y_true, y_predict_proba)\n",
    "    pr_auc = auc(recall, precision)\n",
    "\n",
    "    plt.title('Precision-Recall: Average Precision=  %0.2f' % average_precision)\n",
    "    plt.step(recall, precision, color='b', where='post')\n",
    "    plt.xticks(np.arange(0, 1.1, 0.1))\n",
    "    plt.yticks(np.arange(0, 1.1, 0.1))\n",
    "    plt.ylabel('Precision')\n",
    "    plt.xlabel('Recall')\n",
    "    plt.show()\n",
    "    print('Precision / Recall AUC', pr_auc)\n",
    "    \n",
    "def plot_roc(y_true, y_predict_proba):\n",
    "    false_positive_rate, true_positive_rate, thresholds = roc_curve(y_true, y_predict_proba)\n",
    "    roc_auc = auc(false_positive_rate, true_positive_rate)\n",
    "\n",
    "    plt.title('Receiver Operating Characteristic')\n",
    "    plt.plot(false_positive_rate, true_positive_rate, 'b', label='AUC = %0.2f' % roc_auc)\n",
    "    plt.legend(loc='lower right')\n",
    "    plt.plot([0, 1], [0, 1], 'r--')\n",
    "    plt.xlim([0, 1])\n",
    "    plt.ylim([0, 1])\n",
    "    plt.ylabel('True Positive Rate')\n",
    "    plt.xlabel('False Positive Rate')\n",
    "    plt.show()\n",
    "    print('Receiver Operation Characteristic AUC', roc_auc)"
   ]
  },
  {
   "cell_type": "code",
   "execution_count": 5,
   "metadata": {},
   "outputs": [],
   "source": [
    "# Preprocessing utils\n",
    "class VandalismEncoder(BaseEstimator, TransformerMixin):\n",
    "    def __init__(self, tag_ids):\n",
    "        self.tag_ids = tag_ids\n",
    "        \n",
    "    def fit(self, X, y=None):\n",
    "        return self\n",
    "\n",
    "    def transform(self, X):\n",
    "        X['is_vandalism'] = X.tag_id.isin(self.tag_ids)\n",
    "        X = X.drop(['tag_id'], axis=1)\n",
    "        return X\n",
    "\n",
    "    def fit_transform(self, X, y):\n",
    "        return self.transform(X)\n",
    "    \n",
    "class RevisionGrouper(BaseEstimator, TransformerMixin):        \n",
    "    def fit(self, X, y=None):\n",
    "        return self\n",
    "\n",
    "    def transform(self, X):\n",
    "        X = X.groupby(X.index).apply(self._vandalism_revision_or_first)\n",
    "        return X\n",
    "\n",
    "    def fit_transform(self, X, y=None):\n",
    "        return self.transform(X)\n",
    "    \n",
    "    def _vandalism_revision_or_first(self, group):\n",
    "        vandalism_revisions = group.loc[group['is_vandalism'] == True]\n",
    "        return vandalism_revisions.iloc[0] if len(vandalism_revisions) > 0 else group.iloc[0]\n",
    "\n",
    "class FeatureSelector(BaseEstimator, TransformerMixin):        \n",
    "    def __init__(self, columns=None):\n",
    "        self.columns = columns\n",
    "        \n",
    "    def fit(self, X, y=None):\n",
    "        return self\n",
    "\n",
    "    def transform(self, X):\n",
    "        if self.columns != None:\n",
    "            # Do not remove 'is_vandalism'\n",
    "            self.columns.append('is_vandalism')\n",
    "            X = X[self.columns]\n",
    "        return X\n",
    "\n",
    "\n",
    "    \n",
    "    def fit_transform(self, X, y=None):\n",
    "        return self.transform(X)"
   ]
  },
  {
   "cell_type": "markdown",
   "metadata": {},
   "source": [
    "## Preprocessing"
   ]
  },
  {
   "cell_type": "code",
   "execution_count": 6,
   "metadata": {},
   "outputs": [
    {
     "data": {
      "application/vnd.jupyter.widget-view+json": {
       "model_id": "6809769b4bfa4d358e1d4fadda2a5949",
       "version_major": 2,
       "version_minor": 0
      },
      "text/plain": [
       "interactive(children=(Dropdown(description='features', options=('all', 'baseline'), value='all'), Dropdown(des…"
      ]
     },
     "metadata": {},
     "output_type": "display_data"
    }
   ],
   "source": [
    "def preprocessing(features, tags):\n",
    "    feature_columns = None\n",
    "    selected_tags = []\n",
    "    \n",
    "    if features == 'baseline':\n",
    "        feature_columns = BASELINE_FEATURE_COLUMNS\n",
    "    \n",
    "    if tags == 'all vandalism':\n",
    "        selected_tags = [1, 2, 3, 5, 6, 9, 11]\n",
    "    else:\n",
    "        selected_tags.append(tags)\n",
    "\n",
    "    preprocess_pipeline = Pipeline([\n",
    "        ('vandalism_encoder', VandalismEncoder(selected_tags)),\n",
    "        ('revision_grouper', RevisionGrouper()),\n",
    "        ('feature_selector', FeatureSelector(feature_columns))\n",
    "    ])\n",
    "\n",
    "    print('Feature config:', features, 'Selected tags:', selected_tags)\n",
    "    return preprocess_pipeline.transform(df)\n",
    "    \n",
    "widget = interactive(preprocessing, features=['all', 'baseline'], tags=['all vandalism', 1, 2, 3, 5, 6, 9, 11, 12])\n",
    "display(widget)"
   ]
  },
  {
   "cell_type": "code",
   "execution_count": 7,
   "metadata": {},
   "outputs": [
    {
     "name": "stdout",
     "output_type": "stream",
     "text": [
      "Feature config: all , Features after preprocessing: 84\n"
     ]
    },
    {
     "data": {
      "text/html": [
       "<div>\n",
       "<style scoped>\n",
       "    .dataframe tbody tr th:only-of-type {\n",
       "        vertical-align: middle;\n",
       "    }\n",
       "\n",
       "    .dataframe tbody tr th {\n",
       "        vertical-align: top;\n",
       "    }\n",
       "\n",
       "    .dataframe thead th {\n",
       "        text-align: right;\n",
       "    }\n",
       "</style>\n",
       "<table border=\"1\" class=\"dataframe\">\n",
       "  <thead>\n",
       "    <tr style=\"text-align: right;\">\n",
       "      <th></th>\n",
       "      <th>isContributorAnonymous</th>\n",
       "      <th>isBot</th>\n",
       "      <th>timeOfDay</th>\n",
       "      <th>localizedTimeOfDay</th>\n",
       "      <th>dayOfWeek</th>\n",
       "      <th>localizedDayOfWeek</th>\n",
       "      <th>isMinorEdit</th>\n",
       "      <th>authorRank</th>\n",
       "      <th>authorRankOfLast200Edits</th>\n",
       "      <th>authorRankOneMonth</th>\n",
       "      <th>...</th>\n",
       "      <th>sizeRatio</th>\n",
       "      <th>LZWCompressionRate</th>\n",
       "      <th>KLDOfCharDistribution</th>\n",
       "      <th>commentLength</th>\n",
       "      <th>userCommentLength</th>\n",
       "      <th>templateUseFlags</th>\n",
       "      <th>templateUseFifaFlags</th>\n",
       "      <th>templateUsePageLink</th>\n",
       "      <th>templateUseYesNo</th>\n",
       "      <th>is_vandalism</th>\n",
       "    </tr>\n",
       "    <tr>\n",
       "      <th>revision_id</th>\n",
       "      <th></th>\n",
       "      <th></th>\n",
       "      <th></th>\n",
       "      <th></th>\n",
       "      <th></th>\n",
       "      <th></th>\n",
       "      <th></th>\n",
       "      <th></th>\n",
       "      <th></th>\n",
       "      <th></th>\n",
       "      <th></th>\n",
       "      <th></th>\n",
       "      <th></th>\n",
       "      <th></th>\n",
       "      <th></th>\n",
       "      <th></th>\n",
       "      <th></th>\n",
       "      <th></th>\n",
       "      <th></th>\n",
       "      <th></th>\n",
       "      <th></th>\n",
       "    </tr>\n",
       "  </thead>\n",
       "  <tbody>\n",
       "    <tr>\n",
       "      <th>2148821</th>\n",
       "      <td>0.0</td>\n",
       "      <td>0.0</td>\n",
       "      <td>16.0</td>\n",
       "      <td>-1.0</td>\n",
       "      <td>1.0</td>\n",
       "      <td>-1.0</td>\n",
       "      <td>1.0</td>\n",
       "      <td>0.000000</td>\n",
       "      <td>0.000000</td>\n",
       "      <td>0.0</td>\n",
       "      <td>...</td>\n",
       "      <td>0.004293</td>\n",
       "      <td>0.492325</td>\n",
       "      <td>0.000000</td>\n",
       "      <td>0.0</td>\n",
       "      <td>0.0</td>\n",
       "      <td>0.0</td>\n",
       "      <td>0.0</td>\n",
       "      <td>0.0</td>\n",
       "      <td>0.0</td>\n",
       "      <td>False</td>\n",
       "    </tr>\n",
       "    <tr>\n",
       "      <th>2359434</th>\n",
       "      <td>0.0</td>\n",
       "      <td>0.0</td>\n",
       "      <td>0.0</td>\n",
       "      <td>-1.0</td>\n",
       "      <td>3.0</td>\n",
       "      <td>-1.0</td>\n",
       "      <td>0.0</td>\n",
       "      <td>0.666667</td>\n",
       "      <td>0.666667</td>\n",
       "      <td>0.0</td>\n",
       "      <td>...</td>\n",
       "      <td>3293.000000</td>\n",
       "      <td>0.711944</td>\n",
       "      <td>1024.000000</td>\n",
       "      <td>0.0</td>\n",
       "      <td>0.0</td>\n",
       "      <td>0.0</td>\n",
       "      <td>0.0</td>\n",
       "      <td>0.0</td>\n",
       "      <td>0.0</td>\n",
       "      <td>False</td>\n",
       "    </tr>\n",
       "    <tr>\n",
       "      <th>2880168</th>\n",
       "      <td>0.0</td>\n",
       "      <td>0.0</td>\n",
       "      <td>3.0</td>\n",
       "      <td>-1.0</td>\n",
       "      <td>1.0</td>\n",
       "      <td>-1.0</td>\n",
       "      <td>0.0</td>\n",
       "      <td>0.000000</td>\n",
       "      <td>0.000000</td>\n",
       "      <td>0.0</td>\n",
       "      <td>...</td>\n",
       "      <td>6130.000000</td>\n",
       "      <td>0.854406</td>\n",
       "      <td>734.611386</td>\n",
       "      <td>5.0</td>\n",
       "      <td>5.0</td>\n",
       "      <td>0.0</td>\n",
       "      <td>0.0</td>\n",
       "      <td>0.0</td>\n",
       "      <td>0.0</td>\n",
       "      <td>False</td>\n",
       "    </tr>\n",
       "    <tr>\n",
       "      <th>2970351</th>\n",
       "      <td>0.0</td>\n",
       "      <td>0.0</td>\n",
       "      <td>22.0</td>\n",
       "      <td>-1.0</td>\n",
       "      <td>7.0</td>\n",
       "      <td>-1.0</td>\n",
       "      <td>0.0</td>\n",
       "      <td>0.000000</td>\n",
       "      <td>0.000000</td>\n",
       "      <td>0.0</td>\n",
       "      <td>...</td>\n",
       "      <td>1683.000000</td>\n",
       "      <td>0.879781</td>\n",
       "      <td>1024.000000</td>\n",
       "      <td>0.0</td>\n",
       "      <td>0.0</td>\n",
       "      <td>0.0</td>\n",
       "      <td>0.0</td>\n",
       "      <td>0.0</td>\n",
       "      <td>0.0</td>\n",
       "      <td>False</td>\n",
       "    </tr>\n",
       "    <tr>\n",
       "      <th>2975763</th>\n",
       "      <td>1.0</td>\n",
       "      <td>0.0</td>\n",
       "      <td>0.0</td>\n",
       "      <td>18.0</td>\n",
       "      <td>2.0</td>\n",
       "      <td>1.0</td>\n",
       "      <td>0.0</td>\n",
       "      <td>-1.000000</td>\n",
       "      <td>-1.000000</td>\n",
       "      <td>-1.0</td>\n",
       "      <td>...</td>\n",
       "      <td>-0.999848</td>\n",
       "      <td>0.000000</td>\n",
       "      <td>0.000000</td>\n",
       "      <td>0.0</td>\n",
       "      <td>0.0</td>\n",
       "      <td>0.0</td>\n",
       "      <td>0.0</td>\n",
       "      <td>0.0</td>\n",
       "      <td>0.0</td>\n",
       "      <td>True</td>\n",
       "    </tr>\n",
       "  </tbody>\n",
       "</table>\n",
       "<p>5 rows × 84 columns</p>\n",
       "</div>"
      ],
      "text/plain": [
       "             isContributorAnonymous  isBot  timeOfDay  localizedTimeOfDay  \\\n",
       "revision_id                                                                 \n",
       "2148821                         0.0    0.0       16.0                -1.0   \n",
       "2359434                         0.0    0.0        0.0                -1.0   \n",
       "2880168                         0.0    0.0        3.0                -1.0   \n",
       "2970351                         0.0    0.0       22.0                -1.0   \n",
       "2975763                         1.0    0.0        0.0                18.0   \n",
       "\n",
       "             dayOfWeek  localizedDayOfWeek  isMinorEdit  authorRank  \\\n",
       "revision_id                                                           \n",
       "2148821            1.0                -1.0          1.0    0.000000   \n",
       "2359434            3.0                -1.0          0.0    0.666667   \n",
       "2880168            1.0                -1.0          0.0    0.000000   \n",
       "2970351            7.0                -1.0          0.0    0.000000   \n",
       "2975763            2.0                 1.0          0.0   -1.000000   \n",
       "\n",
       "             authorRankOfLast200Edits  authorRankOneMonth      ...       \\\n",
       "revision_id                                                    ...        \n",
       "2148821                      0.000000                 0.0      ...        \n",
       "2359434                      0.666667                 0.0      ...        \n",
       "2880168                      0.000000                 0.0      ...        \n",
       "2970351                      0.000000                 0.0      ...        \n",
       "2975763                     -1.000000                -1.0      ...        \n",
       "\n",
       "               sizeRatio  LZWCompressionRate  KLDOfCharDistribution  \\\n",
       "revision_id                                                           \n",
       "2148821         0.004293            0.492325               0.000000   \n",
       "2359434      3293.000000            0.711944            1024.000000   \n",
       "2880168      6130.000000            0.854406             734.611386   \n",
       "2970351      1683.000000            0.879781            1024.000000   \n",
       "2975763        -0.999848            0.000000               0.000000   \n",
       "\n",
       "             commentLength  userCommentLength  templateUseFlags  \\\n",
       "revision_id                                                       \n",
       "2148821                0.0                0.0               0.0   \n",
       "2359434                0.0                0.0               0.0   \n",
       "2880168                5.0                5.0               0.0   \n",
       "2970351                0.0                0.0               0.0   \n",
       "2975763                0.0                0.0               0.0   \n",
       "\n",
       "             templateUseFifaFlags  templateUsePageLink  templateUseYesNo  \\\n",
       "revision_id                                                                \n",
       "2148821                       0.0                  0.0               0.0   \n",
       "2359434                       0.0                  0.0               0.0   \n",
       "2880168                       0.0                  0.0               0.0   \n",
       "2970351                       0.0                  0.0               0.0   \n",
       "2975763                       0.0                  0.0               0.0   \n",
       "\n",
       "             is_vandalism  \n",
       "revision_id                \n",
       "2148821             False  \n",
       "2359434             False  \n",
       "2880168             False  \n",
       "2970351             False  \n",
       "2975763              True  \n",
       "\n",
       "[5 rows x 84 columns]"
      ]
     },
     "execution_count": 7,
     "metadata": {},
     "output_type": "execute_result"
    }
   ],
   "source": [
    "processed_df = widget.result\n",
    "print('Feature config:', widget.kwargs['features'], ', Features after preprocessing:', len(processed_df.columns))\n",
    "processed_df.head()"
   ]
  },
  {
   "cell_type": "code",
   "execution_count": 8,
   "metadata": {},
   "outputs": [],
   "source": [
    "# X, y split\n",
    "X = processed_df.drop(['is_vandalism'], axis=1)\n",
    "y = processed_df['is_vandalism']"
   ]
  },
  {
   "cell_type": "code",
   "execution_count": 9,
   "metadata": {},
   "outputs": [
    {
     "name": "stdout",
     "output_type": "stream",
     "text": [
      "X train (3723, 83)\n",
      "y train (3723,)\n",
      "X test (1242, 83)\n",
      "y test (1242,)\n"
     ]
    }
   ],
   "source": [
    "# Train / Test split\n",
    "X_train, X_test, y_train, y_test = train_test_split(X, y, random_state=42)\n",
    "print('X train', X_train.shape)\n",
    "print('y train', y_train.shape)\n",
    "print('X test', X_test.shape)\n",
    "print('y test', y_test.shape)"
   ]
  },
  {
   "cell_type": "markdown",
   "metadata": {},
   "source": [
    "## Grid search model parameters"
   ]
  },
  {
   "cell_type": "code",
   "execution_count": 11,
   "metadata": {
    "scrolled": true
   },
   "outputs": [
    {
     "name": "stdout",
     "output_type": "stream",
     "text": [
      "Best params {'class_weight': {0: 2, 1: 1}, 'n_estimators': 250}\n",
      "Best score 0.6443204601750295\n"
     ]
    }
   ],
   "source": [
    "# Grid search model params\n",
    "parameters = [{\n",
    "    'n_estimators': [100, 250, 500, 750],\n",
    "    'class_weight': [None, 'balanced', {0:1,1:1}, {0:2,1:1}, {0:4,1:1}, {0:6,1:1}, {0:8,1:1}, {0:10,1:1}]\n",
    "}]\n",
    "\n",
    "grid_search = GridSearchCV(RandomForestClassifier(),\n",
    "                           parameters, \n",
    "                           scoring=['f1', 'precision', 'recall', 'roc_auc'],\n",
    "                           refit='f1',\n",
    "                           cv=10,\n",
    "                           n_jobs=-1)\n",
    "grid_search.fit(X_train, y_train)\n",
    "\n",
    "params = grid_search.best_params_\n",
    "print('Best params', grid_search.best_params_)\n",
    "print('Best score', grid_search.best_score_)"
   ]
  },
  {
   "cell_type": "markdown",
   "metadata": {},
   "source": [
    "## Train: Cross evaluate model using best parameters"
   ]
  },
  {
   "cell_type": "code",
   "execution_count": 12,
   "metadata": {},
   "outputs": [],
   "source": [
    "# Train scores & predictions\n",
    "clf = RandomForestClassifier(n_estimators=params['n_estimators'], class_weight=params['class_weight'], n_jobs=-1)\n",
    "train_scores = cross_validate(clf, X_train, y_train,\n",
    "                        scoring=['f1', 'precision', 'recall', 'roc_auc', 'accuracy'],\n",
    "                        cv=10, n_jobs=-1, return_train_score=False)\n",
    "\n",
    "y_train_predict = cross_val_predict(clf, X_train, y_train, cv=10, n_jobs=-1, method='predict')\n",
    "y_train_predict_proba = cross_val_predict(clf, X_train, y_train, cv=10, n_jobs=-1, method='predict_proba')"
   ]
  },
  {
   "cell_type": "code",
   "execution_count": 13,
   "metadata": {},
   "outputs": [
    {
     "name": "stdout",
     "output_type": "stream",
     "text": [
      "Cross validation scores\n"
     ]
    },
    {
     "data": {
      "image/png": "[encoded data removed]",
      "text/plain": [
       "<Figure size 432x288 with 1 Axes>"
      ]
     },
     "metadata": {},
     "output_type": "display_data"
    }
   ],
   "source": [
    "plot_scores(train_scores)"
   ]
  },
  {
   "cell_type": "code",
   "execution_count": 14,
   "metadata": {
    "scrolled": true
   },
   "outputs": [
    {
     "data": {
      "image/png": "[encoded data removed]",
      "text/plain": [
       "<Figure size 1080x360 with 4 Axes>"
      ]
     },
     "metadata": {},
     "output_type": "display_data"
    },
    {
     "name": "stdout",
     "output_type": "stream",
     "text": [
      "Classification Report\n",
      "              precision    recall  f1-score   support\n",
      "\n",
      "No Vandalism       0.84      0.90      0.87      2651\n",
      "   Vandalism       0.70      0.59      0.64      1072\n",
      "\n",
      " avg / total       0.80      0.81      0.80      3723\n",
      "\n"
     ]
    }
   ],
   "source": [
    "plot_confusion_matrix(y_train, y_train_predict)"
   ]
  },
  {
   "cell_type": "code",
   "execution_count": 15,
   "metadata": {},
   "outputs": [
    {
     "data": {
      "image/png": "[encoded data removed]",
      "text/plain": [
       "<Figure size 432x288 with 1 Axes>"
      ]
     },
     "metadata": {},
     "output_type": "display_data"
    },
    {
     "name": "stdout",
     "output_type": "stream",
     "text": [
      "Precision / Recall AUC 0.7341410388306897\n"
     ]
    }
   ],
   "source": [
    "plot_precision_recall(y_train, y_train_predict_proba[:, 1])"
   ]
  },
  {
   "cell_type": "code",
   "execution_count": 16,
   "metadata": {},
   "outputs": [
    {
     "data": {
      "image/png": "[encoded data removed]",
      "text/plain": [
       "<Figure size 432x288 with 1 Axes>"
      ]
     },
     "metadata": {},
     "output_type": "display_data"
    },
    {
     "name": "stdout",
     "output_type": "stream",
     "text": [
      "Receiver Operation Characteristic AUC 0.8579733710737149\n"
     ]
    }
   ],
   "source": [
    "plot_roc(y_train, y_train_predict_proba[:, 1])"
   ]
  },
  {
   "cell_type": "markdown",
   "metadata": {},
   "source": [
    "## Test: Test model on final test dataset"
   ]
  },
  {
   "cell_type": "code",
   "execution_count": 17,
   "metadata": {},
   "outputs": [
    {
     "data": {
      "text/plain": [
       "RandomForestClassifier(bootstrap=True, class_weight={0: 2, 1: 1},\n",
       "            criterion='gini', max_depth=None, max_features='auto',\n",
       "            max_leaf_nodes=None, min_impurity_decrease=0.0,\n",
       "            min_impurity_split=None, min_samples_leaf=1,\n",
       "            min_samples_split=2, min_weight_fraction_leaf=0.0,\n",
       "            n_estimators=250, n_jobs=-1, oob_score=False,\n",
       "            random_state=None, verbose=0, warm_start=False)"
      ]
     },
     "execution_count": 17,
     "metadata": {},
     "output_type": "execute_result"
    }
   ],
   "source": [
    "clf = RandomForestClassifier(n_estimators=params['n_estimators'], class_weight=params['class_weight'], n_jobs=-1)\n",
    "clf.fit(X_train, y_train)"
   ]
  },
  {
   "cell_type": "code",
   "execution_count": 18,
   "metadata": {},
   "outputs": [],
   "source": [
    "y_test_predict = clf.predict(X_test)\n",
    "y_test_predict_proba = clf.predict_proba(X_test)"
   ]
  },
  {
   "cell_type": "code",
   "execution_count": 19,
   "metadata": {},
   "outputs": [
    {
     "data": {
      "image/png": "[encoded data removed]",
      "text/plain": [
       "<Figure size 1080x360 with 4 Axes>"
      ]
     },
     "metadata": {},
     "output_type": "display_data"
    },
    {
     "name": "stdout",
     "output_type": "stream",
     "text": [
      "Classification Report\n",
      "              precision    recall  f1-score   support\n",
      "\n",
      "No Vandalism       0.84      0.90      0.87       842\n",
      "   Vandalism       0.76      0.64      0.70       400\n",
      "\n",
      " avg / total       0.82      0.82      0.82      1242\n",
      "\n"
     ]
    }
   ],
   "source": [
    "plot_confusion_matrix(y_test, y_test_predict)"
   ]
  },
  {
   "cell_type": "code",
   "execution_count": 20,
   "metadata": {},
   "outputs": [
    {
     "data": {
      "image/png": "[encoded data removed]",
      "text/plain": [
       "<Figure size 432x288 with 1 Axes>"
      ]
     },
     "metadata": {},
     "output_type": "display_data"
    },
    {
     "name": "stdout",
     "output_type": "stream",
     "text": [
      "Precision / Recall AUC 0.7605729218969544\n"
     ]
    }
   ],
   "source": [
    "plot_precision_recall(y_test, y_test_predict_proba[:, 1])"
   ]
  },
  {
   "cell_type": "code",
   "execution_count": 21,
   "metadata": {},
   "outputs": [
    {
     "data": {
      "image/png": "[encoded data removed]",
      "text/plain": [
       "<Figure size 432x288 with 1 Axes>"
      ]
     },
     "metadata": {},
     "output_type": "display_data"
    },
    {
     "name": "stdout",
     "output_type": "stream",
     "text": [
      "Receiver Operation Characteristic AUC 0.8621912114014252\n"
     ]
    }
   ],
   "source": [
    "plot_roc(y_test, y_test_predict_proba[:, 1])"
   ]
  },
  {
   "cell_type": "markdown",
   "metadata": {},
   "source": [
    "## Generate models for all tags"
   ]
  },
  {
   "cell_type": "code",
   "execution_count": 22,
   "metadata": {},
   "outputs": [],
   "source": [
    "def get_git_revision_hash():\n",
    "    return subprocess.check_output(['git', 'rev-parse', 'HEAD'])\\\n",
    "        .decode(\"utf-8\")\\\n",
    "        .replace('\\n', '')\\\n",
    "        .replace('\\r', '')"
   ]
  },
  {
   "cell_type": "code",
   "execution_count": null,
   "metadata": {},
   "outputs": [
    {
     "name": "stdout",
     "output_type": "stream",
     "text": [
      "Feature config: all Selected tags: [1]\n"
     ]
    }
   ],
   "source": [
    "for tag in [1, 2, 3, 5, 6, 9, 11]:\n",
    "    processed_df = preprocessing('all', tag)\n",
    "    # X, y split\n",
    "    X = processed_df.drop(['is_vandalism'], axis=1)\n",
    "    y = processed_df['is_vandalism']\n",
    "    \n",
    "    # Train / Test split\n",
    "    X_train, X_test, y_train, y_test = train_test_split(X, y, random_state=42)\n",
    "    print('X train', X_train.shape)\n",
    "    print('y train', y_train.shape)\n",
    "    print('X test', X_test.shape)\n",
    "    print('y test', y_test.shape)\n",
    "    \n",
    "    # Grid search model params\n",
    "    parameters = [{\n",
    "        'n_estimators': [100],\n",
    "        'class_weight': [None]\n",
    "    }]\n",
    "\n",
    "    grid_search = GridSearchCV(RandomForestClassifier(),\n",
    "                               parameters, \n",
    "                               scoring=['f1', 'precision', 'recall', 'roc_auc'],\n",
    "                               refit='f1',\n",
    "                               cv=10,\n",
    "                               n_jobs=-1)\n",
    "    grid_search.fit(X_train, y_train)\n",
    "\n",
    "    params = grid_search.best_params_\n",
    "    print('Best params', grid_search.best_params_)\n",
    "    print('Best score', grid_search.best_score_)\n",
    "    \n",
    "    # Train scores & predictions\n",
    "    clf = RandomForestClassifier(n_estimators=params['n_estimators'], class_weight=params['class_weight'], n_jobs=-1)\n",
    "    train_scores = cross_validate(clf, X_train, y_train,\n",
    "                            scoring=['f1', 'precision', 'recall', 'roc_auc', 'accuracy'],\n",
    "                            cv=10, n_jobs=-1, return_train_score=False)\n",
    "\n",
    "    y_train_predict = cross_val_predict(clf, X_train, y_train, cv=10, n_jobs=-1, method='predict')\n",
    "    y_train_predict_proba = cross_val_predict(clf, X_train, y_train, cv=10, n_jobs=-1, method='predict_proba')\n",
    "    plot_confusion_matrix(y_train, y_train_predict)\n",
    "    \n",
    "    # Save to disk\n",
    "    if not os.path.exists('models'):\n",
    "        os.makedirs('models')\n",
    "    \n",
    "    # Pickle dump model\n",
    "    joblib.dump(clf, 'models/tag_' + str(tag) + '.pkl')\n",
    "    \n",
    "    # Dump model meta data\n",
    "    meta = {\n",
    "        'tag_id': tag,\n",
    "        'class_weight': params['class_weight'],\n",
    "        'n_estimators': params['n_estimators'],\n",
    "        'git_hash': get_git_revision_hash(),\n",
    "        'train_scores': {k: v.tolist() for k, v in train_scores.items()}\n",
    "    }\n",
    "\n",
    "    with open('models/tag_' + str(tag) + '.meta', 'w') as f:\n",
    "        json.dump(meta, f)"
   ]
  }
 ],
 "metadata": {
  "kernelspec": {
   "display_name": "Python 3",
   "language": "python",
   "name": "python3"
  },
  "language_info": {
   "codemirror_mode": {
    "name": "ipython",
    "version": 3
   },
   "file_extension": ".py",
   "mimetype": "text/x-python",
   "name": "python",
   "nbconvert_exporter": "python",
   "pygments_lexer": "ipython3",
   "version": "3.6.0"
  }
 },
 "nbformat": 4,
 "nbformat_minor": 2
}
