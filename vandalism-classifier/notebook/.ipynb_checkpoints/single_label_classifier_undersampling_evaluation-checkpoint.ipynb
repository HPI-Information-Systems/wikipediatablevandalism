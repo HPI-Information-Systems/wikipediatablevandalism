{
 "cells": [
  {
   "cell_type": "code",
   "execution_count": null,
   "metadata": {},
   "outputs": [],
   "source": [
    "import os\n",
    "import sys\n",
    "module_path = os.path.abspath(os.path.join('..'))\n",
    "if module_path not in sys.path:\n",
    "    sys.path.append(module_path)"
   ]
  },
  {
   "cell_type": "code",
   "execution_count": null,
   "metadata": {},
   "outputs": [],
   "source": [
    "import pandas as pd\n",
    "from classifier.single_label_classifier import SingleLabelClassifier\n",
    "from sklearn.metrics import classification_report, accuracy_score, f1_score, precision_score, recall_score, roc_curve, auc, precision_recall_curve, average_precision_score, precision_recall_fscore_support\n",
    "from preprocessing.features import BASELINE_FEATURE_COLUMNS\n",
    "from preprocessing.preprocessor import Preprocessor\n",
    "from preprocessing.tags import Tags\n",
    "from evaluation.utils import create_confusion_matrix, create_classification_report, create_precision_recall_graph, create_receiver_operation_characteristic_graph, create_error_matrix_graph, create_feature_importance_graph, false_positives, false_negatives, create_revision_link_html, create_revisions_by_tag_graph\n",
    "import csv"
   ]
  },
  {
   "cell_type": "markdown",
   "metadata": {},
   "source": [
    "## Preprocess dataset"
   ]
  },
  {
   "cell_type": "code",
   "execution_count": null,
   "metadata": {},
   "outputs": [],
   "source": [
    "features = '../data/features-total-80c4772.csv'\n",
    "tag_df = pd.read_csv('../data/tag.csv')\n",
    "\n",
    "all_tags = [\n",
    "    Tags.BLANKING,\n",
    "    Tags.NONSENSE,\n",
    "    Tags.QUALITY_ISSUE,\n",
    "    Tags.PERSONAL_STORY,\n",
    "    Tags.FALSE_FACT,\n",
    "    Tags.SYNTAX,\n",
    "    Tags.MERGE_CONFLICT,\n",
    "    Tags.TEMPLATE,\n",
    "    Tags.EDIT_WARS,\n",
    "    Tags.SEO,\n",
    "    Tags.INTENTION\n",
    "]\n",
    "undersampling_rates = [0.05, 0.1, 0.15, 0.2, 0.25, 0.3, 0.35, 0.4, 0.45, 0.5, 0.55, 0.6, 0.65, 0.7, 0.75, 0.8, 0.85, 0.9, 0.95]\n",
    "scores = ['precision', 'recall', 'f1', 'support']\n",
    "classes = ['no_vandalism', 'vandalism']\n",
    "report = []\n",
    "\n",
    "for rate in undersampling_rates:\n",
    "    row = {}\n",
    "    preprocessor = Preprocessor(features, all_tags, vandalism_sample_rate=0.3)\n",
    "    output = preprocessor.run()\n",
    "    clf = SingleLabelClassifier(output, 300)\n",
    "        \n",
    "    print(f'Rate: {rate}, Training')\n",
    "    row['rate'] = rate\n",
    "    y_train_predict, y_train_predict_proba = clf.train_predict()\n",
    "    y_train = output.y_train\n",
    "    prfs = precision_recall_fscore_support(y_train, y_train_predict)\n",
    "    \n",
    "    scores = ['precision', 'recall', 'f1', 'support']\n",
    "    classes = ['no_vandalism', 'vandalism']\n",
    "    for s, score_name in enumerate(scores):\n",
    "        for c, class_name in enumerate(classes):\n",
    "            row[f'train_{score_name}_{class_name}'] = prfs[s][c]\n",
    "    \n",
    "    print(f'Rate: {rate}, Test')\n",
    "    y_predict, y_predict_proba = clf.test_predict()\n",
    "    y = output.y_test\n",
    "    prfs = precision_recall_fscore_support(y, y_predict)\n",
    "    print(create_classification_report(y, y_predict))\n",
    "\n",
    "    for s, score_name in enumerate(scores):\n",
    "        for c, class_name in enumerate(classes):\n",
    "            row[f'test_{score_name}_{class_name}'] = prfs[s][c]\n",
    "\n",
    "    print(row)\n",
    "    report.append(row)\n",
    "\n",
    "with open('undersampling_report.csv') as f:\n",
    "    writer = csv.writer(f)\n",
    "    for row in report:\n",
    "        writer.writedict(row)"
   ]
  }
 ],
 "metadata": {
  "kernelspec": {
   "display_name": "Python 2",
   "language": "python",
   "name": "python2"
  },
  "language_info": {
   "codemirror_mode": {
    "name": "ipython",
    "version": 3
   },
   "file_extension": ".py",
   "mimetype": "text/x-python",
   "name": "python",
   "nbconvert_exporter": "python",
   "pygments_lexer": "ipython3",
   "version": "3.6.0"
  }
 },
 "nbformat": 4,
 "nbformat_minor": 1
}
