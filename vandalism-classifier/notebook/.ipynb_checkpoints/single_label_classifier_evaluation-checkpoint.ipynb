{
 "cells": [
  {
   "cell_type": "code",
   "execution_count": 1,
   "metadata": {},
   "outputs": [],
   "source": [
    "import os\n",
    "import sys\n",
    "module_path = os.path.abspath(os.path.join('..'))\n",
    "if module_path not in sys.path:\n",
    "    sys.path.append(module_path)"
   ]
  },
  {
   "cell_type": "code",
   "execution_count": 2,
   "metadata": {},
   "outputs": [
    {
     "name": "stderr",
     "output_type": "stream",
     "text": [
      "/Users/philipphager/.local/share/virtualenvs/vandalism-classifier-WHUGQZpq/lib/python3.6/importlib/_bootstrap.py:205: RuntimeWarning: numpy.dtype size changed, may indicate binary incompatibility. Expected 96, got 88\n",
      "  return f(*args, **kwds)\n",
      "/Users/philipphager/.local/share/virtualenvs/vandalism-classifier-WHUGQZpq/lib/python3.6/importlib/_bootstrap.py:205: RuntimeWarning: numpy.dtype size changed, may indicate binary incompatibility. Expected 96, got 88\n",
      "  return f(*args, **kwds)\n",
      "/Users/philipphager/.local/share/virtualenvs/vandalism-classifier-WHUGQZpq/lib/python3.6/site-packages/sklearn/ensemble/weight_boosting.py:29: DeprecationWarning: numpy.core.umath_tests is an internal NumPy module and should not be imported. It will be removed in a future NumPy release.\n",
      "  from numpy.core.umath_tests import inner1d\n"
     ]
    }
   ],
   "source": [
    "import pandas as pd\n",
    "from classifier.single_label_classifier import SingleLabelClassifier\n",
    "from sklearn.metrics import classification_report, accuracy_score, f1_score, precision_score, recall_score, roc_curve, auc, precision_recall_curve, average_precision_score\n",
    "from preprocessing.features import BASELINE_FEATURE_COLUMNS\n",
    "from preprocessing.preprocessor import Preprocessor\n",
    "from preprocessing.tags import Tags\n",
    "from evaluation.utils import create_confusion_matrix, create_classification_report, create_precision_recall_graph, create_receiver_operation_characteristic_graph, create_error_matrix_graph, create_feature_importance_graph"
   ]
  },
  {
   "cell_type": "code",
   "execution_count": 3,
   "metadata": {},
   "outputs": [],
   "source": [
    "features = '../data/features-total-80c4772.csv'\n",
    "preprocessor = Preprocessor(features, [Tags.BLANKING], BASELINE_FEATURE_COLUMNS, vandalism_sample_rate=0.3)\n",
    "output = preprocessor.run()\n",
    "clf = SingleLabelClassifier(output, 300)"
   ]
  },
  {
   "cell_type": "code",
   "execution_count": 4,
   "metadata": {},
   "outputs": [
    {
     "data": {
      "text/plain": [
       "{'fit_time': array([1.51706004, 1.45581579, 1.48647594, 1.56385708, 1.63505793,\n",
       "        1.66332102, 1.69625974, 2.12814784, 1.23983383, 1.18807793]),\n",
       " 'score_time': array([0.5328021 , 0.73554516, 0.53321123, 0.52646399, 0.65194893,\n",
       "        0.64458513, 0.7374332 , 0.53165007, 0.53155708, 0.53045297]),\n",
       " 'test_f1': array([0.86046512, 0.8       , 0.81632653, 0.80487805, 0.87640449,\n",
       "        0.81395349, 0.79012346, 0.79545455, 0.82105263, 0.72      ]),\n",
       " 'test_precision': array([0.90243902, 0.85      , 0.75471698, 0.89189189, 0.86666667,\n",
       "        0.83333333, 0.86486486, 0.79545455, 0.76470588, 0.64285714]),\n",
       " 'test_recall': array([0.82222222, 0.75555556, 0.88888889, 0.73333333, 0.88636364,\n",
       "        0.79545455, 0.72727273, 0.79545455, 0.88636364, 0.81818182]),\n",
       " 'test_roc_auc': array([0.98279915, 0.96089744, 0.95267094, 0.95779915, 0.96918706,\n",
       "        0.96470717, 0.91637246, 0.95311121, 0.94097529, 0.93203883]),\n",
       " 'test_accuracy': array([0.91946309, 0.88590604, 0.87919463, 0.89261745, 0.92567568,\n",
       "        0.89189189, 0.88435374, 0.87755102, 0.88435374, 0.80952381])}"
      ]
     },
     "execution_count": 4,
     "metadata": {},
     "output_type": "execute_result"
    }
   ],
   "source": [
    "clf.cross_validate()"
   ]
  },
  {
   "cell_type": "code",
   "execution_count": 5,
   "metadata": {},
   "outputs": [],
   "source": [
    "y_predict, y_predict_proba = clf.predict()\n",
    "y = output.y"
   ]
  },
  {
   "cell_type": "code",
   "execution_count": 6,
   "metadata": {
    "scrolled": true
   },
   "outputs": [
    {
     "data": {
      "text/html": [
       "<div>\n",
       "<style scoped>\n",
       "    .dataframe tbody tr th:only-of-type {\n",
       "        vertical-align: middle;\n",
       "    }\n",
       "\n",
       "    .dataframe tbody tr th {\n",
       "        vertical-align: top;\n",
       "    }\n",
       "\n",
       "    .dataframe thead th {\n",
       "        text-align: right;\n",
       "    }\n",
       "</style>\n",
       "<table border=\"1\" class=\"dataframe\">\n",
       "  <thead>\n",
       "    <tr style=\"text-align: right;\">\n",
       "      <th></th>\n",
       "      <th>Predicted No Vandalism</th>\n",
       "      <th>Predicted Vandalism</th>\n",
       "    </tr>\n",
       "  </thead>\n",
       "  <tbody>\n",
       "    <tr>\n",
       "      <th>True No Vandalism</th>\n",
       "      <td>950</td>\n",
       "      <td>86</td>\n",
       "    </tr>\n",
       "    <tr>\n",
       "      <th>True Vandalism</th>\n",
       "      <td>84</td>\n",
       "      <td>360</td>\n",
       "    </tr>\n",
       "  </tbody>\n",
       "</table>\n",
       "</div>"
      ],
      "text/plain": [
       "                   Predicted No Vandalism  Predicted Vandalism\n",
       "True No Vandalism                     950                   86\n",
       "True Vandalism                         84                  360"
      ]
     },
     "execution_count": 6,
     "metadata": {},
     "output_type": "execute_result"
    }
   ],
   "source": [
    "# Evaluate model parameters: Confusion matrix\n",
    "create_confusion_matrix(y, y_predict)"
   ]
  },
  {
   "cell_type": "code",
   "execution_count": 7,
   "metadata": {
    "scrolled": true
   },
   "outputs": [
    {
     "name": "stdout",
     "output_type": "stream",
     "text": [
      "              precision    recall  f1-score   support\n",
      "\n",
      "No Vandalism       0.92      0.92      0.92      1036\n",
      "   Vandalism       0.81      0.81      0.81       444\n",
      "\n",
      " avg / total       0.89      0.89      0.89      1480\n",
      "\n"
     ]
    }
   ],
   "source": [
    "# Evaluate model parameters: Classification report\n",
    "print(create_classification_report(y, y_predict))"
   ]
  },
  {
   "cell_type": "code",
   "execution_count": 8,
   "metadata": {},
   "outputs": [
    {
     "data": {
      "image/png": "[encoded data removed]",
      "text/plain": [
       "<Figure size 432x288 with 1 Axes>"
      ]
     },
     "metadata": {},
     "output_type": "display_data"
    },
    {
     "name": "stdout",
     "output_type": "stream",
     "text": [
      "PR-AUC 0.8977174094210058\n"
     ]
    }
   ],
   "source": [
    "plt, pr_auc = create_precision_recall_graph(y, y_predict_proba[:,1])\n",
    "plt.show()\n",
    "print(\"PR-AUC\", pr_auc)"
   ]
  },
  {
   "cell_type": "code",
   "execution_count": 9,
   "metadata": {},
   "outputs": [
    {
     "data": {
      "image/png": "[encoded data removed]",
      "text/plain": [
       "<Figure size 432x288 with 1 Axes>"
      ]
     },
     "metadata": {},
     "output_type": "display_data"
    },
    {
     "name": "stdout",
     "output_type": "stream",
     "text": [
      "ROC-AUC 0.9511276479181884\n"
     ]
    }
   ],
   "source": [
    "plt, roc_auc = create_receiver_operation_characteristic_graph(y, y_predict_proba[:,1])\n",
    "plt.show()\n",
    "print(\"ROC-AUC\", roc_auc)"
   ]
  },
  {
   "cell_type": "code",
   "execution_count": 10,
   "metadata": {
    "scrolled": true
   },
   "outputs": [
    {
     "data": {
      "image/png": "[encoded data removed]",
      "text/plain": [
       "<Figure size 288x288 with 1 Axes>"
      ]
     },
     "metadata": {},
     "output_type": "display_data"
    }
   ],
   "source": [
    "plt = create_error_matrix_graph(y, y_predict)\n",
    "plt.show()"
   ]
  },
  {
   "cell_type": "markdown",
   "metadata": {},
   "source": [
    "plt = create_feature_importance_graph(clf, output.labels)\n",
    "plt.show()"
   ]
  }
 ],
 "metadata": {
  "kernelspec": {
   "display_name": "Python 2",
   "language": "python",
   "name": "python2"
  },
  "language_info": {
   "codemirror_mode": {
    "name": "ipython",
    "version": 3
   },
   "file_extension": ".py",
   "mimetype": "text/x-python",
   "name": "python",
   "nbconvert_exporter": "python",
   "pygments_lexer": "ipython3",
   "version": "3.6.0"
  }
 },
 "nbformat": 4,
 "nbformat_minor": 1
}
