{
 "cells": [
  {
   "cell_type": "code",
   "execution_count": 5,
   "metadata": {},
   "outputs": [],
   "source": [
    "# Import local modules\n",
    "import os\n",
    "import sys\n",
    "\n",
    "module_path = os.path.abspath(os.path.join('..'))\n",
    "if module_path not in sys.path:\n",
    "    sys.path.append(module_path)"
   ]
  },
  {
   "cell_type": "code",
   "execution_count": 6,
   "metadata": {
    "scrolled": true
   },
   "outputs": [
    {
     "ename": "SyntaxError",
     "evalue": "invalid syntax (preprocessing.py, line 42)",
     "output_type": "error",
     "traceback": [
      "Traceback \u001b[0;36m(most recent call last)\u001b[0m:\n",
      "  File \u001b[1;32m\"/Users/philipphager/.local/share/virtualenvs/vandalism-classifier-WHUGQZpq/lib/python3.6/site-packages/IPython/core/interactiveshell.py\"\u001b[0m, line \u001b[1;32m2961\u001b[0m, in \u001b[1;35mrun_code\u001b[0m\n    exec(code_obj, self.user_global_ns, self.user_ns)\n",
      "\u001b[0;36m  File \u001b[0;32m\"<ipython-input-6-4d4b8323d9f4>\"\u001b[0;36m, line \u001b[0;32m2\u001b[0;36m, in \u001b[0;35m<module>\u001b[0;36m\u001b[0m\n\u001b[0;31m    from preprocessing import VandalismEncoder, RevisionGrouper, FeatureSelector\u001b[0m\n",
      "\u001b[0;36m  File \u001b[0;32m\"/Users/philipphager/Developer/uni/semester-3/vandalism-detection/wikipedia-table-vandalism-detection/vandalism-classifier/preprocessing.py\"\u001b[0;36m, line \u001b[0;32m42\u001b[0m\n\u001b[0;31m    if self.columns != None\u001b[0m\n\u001b[0m                            ^\u001b[0m\n\u001b[0;31mSyntaxError\u001b[0m\u001b[0;31m:\u001b[0m invalid syntax\n"
     ]
    }
   ],
   "source": [
    "import pandas as pd\n",
    "from preprocessing import VandalismEncoder, RevisionGrouper, FeatureSelector\n",
    "from persistence import save_model\n",
    "from baseline import BASELINE_FEATURE_COLUMNS\n",
    "from plotting import plot_confusion_matrix\n",
    "from undersampling import undersample_1_1, undersample_15_1, undersample_2_1, undersample_25_1, undersample_3_1, undersample_5_1, undersample_10_1\n",
    "from sklearn.model_selection import train_test_split, cross_validate, cross_val_predict, GridSearchCV\n",
    "from sklearn.metrics import make_scorer, f1_score, precision_score, recall_score, accuracy_score, roc_auc_score\n",
    "from sklearn.tree import DecisionTreeClassifier\n",
    "from imblearn.ensemble import BalancedBaggingClassifier\n",
    "from sklearn.metrics import classification_report, confusion_matrix\n",
    "from sklearn.pipeline import Pipeline\n",
    "from ipywidgets import interactive"
   ]
  },
  {
   "cell_type": "code",
   "execution_count": null,
   "metadata": {
    "scrolled": true
   },
   "outputs": [],
   "source": [
    "# Import dataset\n",
    "df = pd.read_csv('./data/features-0c25f9f.csv', index_col='revision_id')\n",
    "df.head()"
   ]
  },
  {
   "cell_type": "markdown",
   "metadata": {},
   "source": [
    "---\n",
    "## Preprocessing"
   ]
  },
  {
   "cell_type": "code",
   "execution_count": null,
   "metadata": {
    "scrolled": true
   },
   "outputs": [],
   "source": [
    "def preprocessing(frame, features='all', tag=1):\n",
    "    feature_columns = None\n",
    "    \n",
    "    if features == 'baseline':\n",
    "        feature_columns = BASELINE_FEATURE_COLUMNS\n",
    "\n",
    "    preprocess_pipeline = Pipeline([\n",
    "        ('vandalism_encoder', VandalismEncoder([tag])),\n",
    "        ('revision_grouper', RevisionGrouper()),\n",
    "        ('feature_selector', FeatureSelector(feature_columns))\n",
    "    ])\n",
    "\n",
    "    print('Feature config:', features, 'Selected tag:', tag)\n",
    "    return preprocess_pipeline.transform(frame)"
   ]
  },
  {
   "cell_type": "markdown",
   "metadata": {},
   "source": [
    "---\n",
    "## Generate single label classifier per tag"
   ]
  },
  {
   "cell_type": "code",
   "execution_count": null,
   "metadata": {
    "scrolled": false
   },
   "outputs": [],
   "source": [
    "for tag in [1, 2, 3, 5, 6, 9, 11, 12]:\n",
    "    processed_df = preprocessing(df, 'baseline', tag)\n",
    "    \n",
    "    # TODO: REMOVE!!!!\n",
    "    processed_df = processed_df.fillna(0)\n",
    "    \n",
    "    # X, y split\n",
    "    X = processed_df.drop(['is_vandalism'], axis=1)\n",
    "    y = processed_df['is_vandalism']\n",
    "    \n",
    "    # Train / test split\n",
    "    X_train, X_test, y_train, y_test = train_test_split(X, y, random_state=42)\n",
    "    print('X train', X_train.shape)\n",
    "    print('y train', y_train.shape)\n",
    "    print('X test', X_test.shape)\n",
    "    print('y test', y_test.shape)\n",
    "    \n",
    "    # Grid search model params\n",
    "    parameters = [{\n",
    "        'n_estimators': [300],\n",
    "        'max_features': [1.0],\n",
    "        'ratio': [\n",
    "            'majority',\n",
    "            undersample_15_1,\n",
    "            undersample_2_1,\n",
    "            undersample_25_1,\n",
    "            undersample_3_1,\n",
    "            undersample_5_1,\n",
    "            undersample_10_1\n",
    "        ]\n",
    "    }]\n",
    "\n",
    "    # Custom scoring: Use only f1 of vandalism class\n",
    "    scores = {\n",
    "        'f1_vandalism': make_scorer(f1_score, labels=[1], average=None),\n",
    "        'f1': make_scorer(f1_score),\n",
    "        'precision': make_scorer(precision_score),\n",
    "        'recall': make_scorer(recall_score),\n",
    "        'roc_auc': make_scorer(roc_auc_score)\n",
    "    }\n",
    "\n",
    "    grid_search = GridSearchCV(BalancedBaggingClassifier(DecisionTreeClassifier()),\n",
    "                               parameters, \n",
    "                               scoring=scores,\n",
    "                               refit='f1_vandalism',\n",
    "                               cv=10,\n",
    "                               n_jobs=-1)\n",
    "    grid_search.fit(X_train, y_train)\n",
    "\n",
    "    params = grid_search.best_params_\n",
    "    print('Best params', grid_search.best_params_)\n",
    "    print('Best score', grid_search.best_score_)\n",
    "    \n",
    "    # Train scores & predictions\n",
    "    clf = BalancedBaggingClassifier(DecisionTreeClassifier(),\n",
    "                                n_estimators=params['n_estimators'],\n",
    "                                max_features=params['max_features'],\n",
    "                                ratio=params['ratio'])\n",
    "    \n",
    "    train_scores = cross_validate(clf, X_train, y_train,\n",
    "                            scoring=['f1', 'f1_micro', 'precision', 'recall', 'roc_auc', 'accuracy'],\n",
    "                            cv=10, n_jobs=-1, return_train_score=False)\n",
    "\n",
    "    y_train_predict = cross_val_predict(clf, X_train, y_train, cv=10, n_jobs=-1, method='predict')\n",
    "    plot_confusion_matrix(y_train, y_train_predict)\n",
    "\n",
    "    save_model(tag, clf, train_scores, grid_search)"
   ]
  }
 ],
 "metadata": {
  "kernelspec": {
   "display_name": "Python 3",
   "language": "python",
   "name": "python3"
  },
  "language_info": {
   "codemirror_mode": {
    "name": "ipython",
    "version": 3
   },
   "file_extension": ".py",
   "mimetype": "text/x-python",
   "name": "python",
   "nbconvert_exporter": "python",
   "pygments_lexer": "ipython3",
   "version": "3.6.0"
  }
 },
 "nbformat": 4,
 "nbformat_minor": 2
}
