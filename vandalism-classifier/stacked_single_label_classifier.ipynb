{
 "cells": [
  {
   "cell_type": "code",
   "execution_count": 1,
   "metadata": {},
   "outputs": [
    {
     "name": "stderr",
     "output_type": "stream",
     "text": [
      "/Users/philipphager/.local/share/virtualenvs/vandalism-classifier-WHUGQZpq/lib/python3.6/importlib/_bootstrap.py:205: RuntimeWarning: numpy.dtype size changed, may indicate binary incompatibility. Expected 96, got 88\n",
      "  return f(*args, **kwds)\n",
      "/Users/philipphager/.local/share/virtualenvs/vandalism-classifier-WHUGQZpq/lib/python3.6/importlib/_bootstrap.py:205: RuntimeWarning: numpy.dtype size changed, may indicate binary incompatibility. Expected 96, got 88\n",
      "  return f(*args, **kwds)\n",
      "/Users/philipphager/.local/share/virtualenvs/vandalism-classifier-WHUGQZpq/lib/python3.6/site-packages/sklearn/ensemble/weight_boosting.py:29: DeprecationWarning: numpy.core.umath_tests is an internal NumPy module and should not be imported. It will be removed in a future NumPy release.\n",
      "  from numpy.core.umath_tests import inner1d\n"
     ]
    }
   ],
   "source": [
    "import glob\n",
    "import os\n",
    "import json\n",
    "import pandas as pd\n",
    "import matplotlib.pyplot as plt\n",
    "import numpy as np\n",
    "import seaborn as sns\n",
    "from sklearn.externals import joblib\n",
    "from sklearn.base import BaseEstimator, TransformerMixin\n",
    "from sklearn.pipeline import Pipeline\n",
    "from sklearn.model_selection import train_test_split, cross_validate, cross_val_predict\n",
    "from sklearn.metrics import classification_report, confusion_matrix\n",
    "from sklearn.ensemble import VotingClassifier\n",
    "from ipywidgets import interact, interactive\n",
    "from preprocessing import VandalismEncoder, RevisionGrouper, FeatureSelector\n",
    "from plotting import plot_confusion_matrix, plot_scores"
   ]
  },
  {
   "cell_type": "code",
   "execution_count": 2,
   "metadata": {
    "scrolled": false
   },
   "outputs": [
    {
     "name": "stdout",
     "output_type": "stream",
     "text": [
      "Loading model tag_2\n",
      "Loading model tag_1\n"
     ]
    }
   ],
   "source": [
    "# Load classifiers\n",
    "classifiers = {}\n",
    "\n",
    "def load_meta(base_dir, file_name):\n",
    "    path = os.path.join(base_dir, file_name + '.meta')\n",
    "    with open(path, 'r') as f:\n",
    "        return json.load(f)\n",
    "\n",
    "def load_clf(base_dir, file_name):\n",
    "    path = os.path.join(base_dir, file_name + '.pkl')\n",
    "    return joblib.load(path)\n",
    "\n",
    "def clfs_are_same_version(clfs):\n",
    "    hashes = [classifier['meta']['git_hash'] for tag_id, classifier in classifiers.items()]\n",
    "    return len(set(hashes)) == 1\n",
    "\n",
    "for f in os.listdir(\"./models/\"):\n",
    "    if f.endswith(\".pkl\"):\n",
    "        filename = os.path.splitext(f)[0]\n",
    "        print('Loading model', filename)\n",
    "        meta = load_meta('./models/', filename)\n",
    "        clf = load_clf('./models/', filename)\n",
    "        tag_id = meta['tag_id']\n",
    "        classifiers[tag_id] = {\n",
    "            'clf': clf,\n",
    "            'meta': meta\n",
    "        }\n",
    "        \n",
    "# Version verification\n",
    "assert clfs_are_same_version(classifiers), 'Warning loaded classifiers were not generated on the same git hash!'"
   ]
  },
  {
   "cell_type": "markdown",
   "metadata": {},
   "source": [
    "---\n",
    "## Import Dataset"
   ]
  },
  {
   "cell_type": "code",
   "execution_count": 4,
   "metadata": {},
   "outputs": [
    {
     "data": {
      "text/html": [
       "<div>\n",
       "<style scoped>\n",
       "    .dataframe tbody tr th:only-of-type {\n",
       "        vertical-align: middle;\n",
       "    }\n",
       "\n",
       "    .dataframe tbody tr th {\n",
       "        vertical-align: top;\n",
       "    }\n",
       "\n",
       "    .dataframe thead th {\n",
       "        text-align: right;\n",
       "    }\n",
       "</style>\n",
       "<table border=\"1\" class=\"dataframe\">\n",
       "  <thead>\n",
       "    <tr style=\"text-align: right;\">\n",
       "      <th></th>\n",
       "      <th>isContributorAnonymous</th>\n",
       "      <th>isBot</th>\n",
       "      <th>timeOfDay</th>\n",
       "      <th>localizedTimeOfDay</th>\n",
       "      <th>dayOfWeek</th>\n",
       "      <th>localizedDayOfWeek</th>\n",
       "      <th>isMinorEdit</th>\n",
       "      <th>authorRank</th>\n",
       "      <th>authorRankOfLast200Edits</th>\n",
       "      <th>authorRankOneMonth</th>\n",
       "      <th>...</th>\n",
       "      <th>userCommentLength</th>\n",
       "      <th>hasNumericOutlierInColumns</th>\n",
       "      <th>hasNumericOutlierInRows</th>\n",
       "      <th>tableDataTypeInformationGain</th>\n",
       "      <th>templateUseFlags</th>\n",
       "      <th>templateUseFifaFlags</th>\n",
       "      <th>templateUsePageLink</th>\n",
       "      <th>templateUseYesNo</th>\n",
       "      <th>revision_id</th>\n",
       "      <th>tag_id</th>\n",
       "    </tr>\n",
       "  </thead>\n",
       "  <tbody>\n",
       "    <tr>\n",
       "      <th>0</th>\n",
       "      <td>0.0</td>\n",
       "      <td>0.0</td>\n",
       "      <td>13.0</td>\n",
       "      <td>-1.0</td>\n",
       "      <td>7.0</td>\n",
       "      <td>-1.0</td>\n",
       "      <td>0.0</td>\n",
       "      <td>0.000000</td>\n",
       "      <td>0.000000</td>\n",
       "      <td>0.0</td>\n",
       "      <td>...</td>\n",
       "      <td>34.0</td>\n",
       "      <td>0.0</td>\n",
       "      <td>0.0</td>\n",
       "      <td>-1.000000</td>\n",
       "      <td>0.0</td>\n",
       "      <td>0.0</td>\n",
       "      <td>0.0</td>\n",
       "      <td>0.0</td>\n",
       "      <td>228189784</td>\n",
       "      <td>12</td>\n",
       "    </tr>\n",
       "    <tr>\n",
       "      <th>1</th>\n",
       "      <td>0.0</td>\n",
       "      <td>0.0</td>\n",
       "      <td>2.0</td>\n",
       "      <td>-1.0</td>\n",
       "      <td>2.0</td>\n",
       "      <td>-1.0</td>\n",
       "      <td>0.0</td>\n",
       "      <td>0.833333</td>\n",
       "      <td>0.857143</td>\n",
       "      <td>0.5</td>\n",
       "      <td>...</td>\n",
       "      <td>0.0</td>\n",
       "      <td>1.0</td>\n",
       "      <td>0.0</td>\n",
       "      <td>0.134129</td>\n",
       "      <td>0.0</td>\n",
       "      <td>0.0</td>\n",
       "      <td>0.0</td>\n",
       "      <td>0.0</td>\n",
       "      <td>730449352</td>\n",
       "      <td>12</td>\n",
       "    </tr>\n",
       "    <tr>\n",
       "      <th>2</th>\n",
       "      <td>0.0</td>\n",
       "      <td>0.0</td>\n",
       "      <td>17.0</td>\n",
       "      <td>-1.0</td>\n",
       "      <td>6.0</td>\n",
       "      <td>-1.0</td>\n",
       "      <td>1.0</td>\n",
       "      <td>0.000000</td>\n",
       "      <td>0.000000</td>\n",
       "      <td>0.0</td>\n",
       "      <td>...</td>\n",
       "      <td>0.0</td>\n",
       "      <td>0.0</td>\n",
       "      <td>0.0</td>\n",
       "      <td>0.000000</td>\n",
       "      <td>0.0</td>\n",
       "      <td>0.0</td>\n",
       "      <td>0.0</td>\n",
       "      <td>0.0</td>\n",
       "      <td>216224416</td>\n",
       "      <td>12</td>\n",
       "    </tr>\n",
       "    <tr>\n",
       "      <th>3</th>\n",
       "      <td>0.0</td>\n",
       "      <td>1.0</td>\n",
       "      <td>1.0</td>\n",
       "      <td>-1.0</td>\n",
       "      <td>4.0</td>\n",
       "      <td>-1.0</td>\n",
       "      <td>1.0</td>\n",
       "      <td>0.000000</td>\n",
       "      <td>0.000000</td>\n",
       "      <td>0.0</td>\n",
       "      <td>...</td>\n",
       "      <td>0.0</td>\n",
       "      <td>0.0</td>\n",
       "      <td>0.0</td>\n",
       "      <td>-1.000000</td>\n",
       "      <td>0.0</td>\n",
       "      <td>0.0</td>\n",
       "      <td>0.0</td>\n",
       "      <td>0.0</td>\n",
       "      <td>539338621</td>\n",
       "      <td>12</td>\n",
       "    </tr>\n",
       "    <tr>\n",
       "      <th>4</th>\n",
       "      <td>1.0</td>\n",
       "      <td>0.0</td>\n",
       "      <td>20.0</td>\n",
       "      <td>23.0</td>\n",
       "      <td>2.0</td>\n",
       "      <td>2.0</td>\n",
       "      <td>0.0</td>\n",
       "      <td>-1.000000</td>\n",
       "      <td>-1.000000</td>\n",
       "      <td>-1.0</td>\n",
       "      <td>...</td>\n",
       "      <td>0.0</td>\n",
       "      <td>0.0</td>\n",
       "      <td>0.0</td>\n",
       "      <td>0.000000</td>\n",
       "      <td>0.0</td>\n",
       "      <td>0.0</td>\n",
       "      <td>0.0</td>\n",
       "      <td>0.0</td>\n",
       "      <td>746191686</td>\n",
       "      <td>12</td>\n",
       "    </tr>\n",
       "  </tbody>\n",
       "</table>\n",
       "<p>5 rows × 110 columns</p>\n",
       "</div>"
      ],
      "text/plain": [
       "   isContributorAnonymous  isBot  timeOfDay  localizedTimeOfDay  dayOfWeek  \\\n",
       "0                     0.0    0.0       13.0                -1.0        7.0   \n",
       "1                     0.0    0.0        2.0                -1.0        2.0   \n",
       "2                     0.0    0.0       17.0                -1.0        6.0   \n",
       "3                     0.0    1.0        1.0                -1.0        4.0   \n",
       "4                     1.0    0.0       20.0                23.0        2.0   \n",
       "\n",
       "   localizedDayOfWeek  isMinorEdit  authorRank  authorRankOfLast200Edits  \\\n",
       "0                -1.0          0.0    0.000000                  0.000000   \n",
       "1                -1.0          0.0    0.833333                  0.857143   \n",
       "2                -1.0          1.0    0.000000                  0.000000   \n",
       "3                -1.0          1.0    0.000000                  0.000000   \n",
       "4                 2.0          0.0   -1.000000                 -1.000000   \n",
       "\n",
       "   authorRankOneMonth   ...    userCommentLength  hasNumericOutlierInColumns  \\\n",
       "0                 0.0   ...                 34.0                         0.0   \n",
       "1                 0.5   ...                  0.0                         1.0   \n",
       "2                 0.0   ...                  0.0                         0.0   \n",
       "3                 0.0   ...                  0.0                         0.0   \n",
       "4                -1.0   ...                  0.0                         0.0   \n",
       "\n",
       "   hasNumericOutlierInRows  tableDataTypeInformationGain  templateUseFlags  \\\n",
       "0                      0.0                     -1.000000               0.0   \n",
       "1                      0.0                      0.134129               0.0   \n",
       "2                      0.0                      0.000000               0.0   \n",
       "3                      0.0                     -1.000000               0.0   \n",
       "4                      0.0                      0.000000               0.0   \n",
       "\n",
       "   templateUseFifaFlags  templateUsePageLink  templateUseYesNo  revision_id  \\\n",
       "0                   0.0                  0.0               0.0    228189784   \n",
       "1                   0.0                  0.0               0.0    730449352   \n",
       "2                   0.0                  0.0               0.0    216224416   \n",
       "3                   0.0                  0.0               0.0    539338621   \n",
       "4                   0.0                  0.0               0.0    746191686   \n",
       "\n",
       "   tag_id  \n",
       "0      12  \n",
       "1      12  \n",
       "2      12  \n",
       "3      12  \n",
       "4      12  \n",
       "\n",
       "[5 rows x 110 columns]"
      ]
     },
     "execution_count": 4,
     "metadata": {},
     "output_type": "execute_result"
    }
   ],
   "source": [
    "df = pd.read_csv('./data/features-total-2f8f6676.csv')\n",
    "df.head()"
   ]
  },
  {
   "cell_type": "markdown",
   "metadata": {},
   "source": [
    "---\n",
    "## Preprocessing"
   ]
  },
  {
   "cell_type": "code",
   "execution_count": null,
   "metadata": {},
   "outputs": [
    {
     "data": {
      "application/vnd.jupyter.widget-view+json": {
       "model_id": "236d716671e8497ba47bb2823d3d34d9",
       "version_major": 2,
       "version_minor": 0
      },
      "text/plain": [
       "interactive(children=(Dropdown(description='features', options=('all', 'baseline'), value='all'), Dropdown(des…"
      ]
     },
     "metadata": {},
     "output_type": "display_data"
    }
   ],
   "source": [
    "def preprocessing(features, tags):\n",
    "    feature_columns = None\n",
    "    selected_tags = []\n",
    "    \n",
    "    if features == 'baseline':\n",
    "        feature_columns = BASELINE_FEATURE_COLUMNS\n",
    "    \n",
    "    if tags == 'all vandalism':\n",
    "        selected_tags = [1, 2, 3, 5, 6, 9, 11]\n",
    "    else:\n",
    "        selected_tags.append(tags)\n",
    "\n",
    "    preprocess_pipeline = Pipeline([\n",
    "        ('vandalism_encoder', VandalismEncoder(selected_tags)),\n",
    "        ('revision_grouper', RevisionGrouper()),\n",
    "        ('feature_selector', FeatureSelector(feature_columns))\n",
    "    ])\n",
    "\n",
    "    print('Feature config:', features, 'Selected tags:', selected_tags)\n",
    "    return preprocess_pipeline.transform(df)\n",
    "    \n",
    "widget = interactive(preprocessing, features=['all', 'baseline'], tags=['all vandalism', 1, 2, 3, 5, 6, 9, 11, 12])\n",
    "display(widget)"
   ]
  },
  {
   "cell_type": "code",
   "execution_count": null,
   "metadata": {},
   "outputs": [],
   "source": [
    "processed_df = widget.result\n",
    "print('Feature config:', widget.kwargs['features'], ', Features after preprocessing:', len(processed_df.columns))"
   ]
  },
  {
   "cell_type": "code",
   "execution_count": null,
   "metadata": {},
   "outputs": [],
   "source": [
    "# X, y split\n",
    "X = processed_df.drop(['is_vandalism'], axis=1)\n",
    "y = processed_df['is_vandalism']"
   ]
  },
  {
   "cell_type": "code",
   "execution_count": null,
   "metadata": {
    "scrolled": false
   },
   "outputs": [],
   "source": [
    "# Train / Test split\n",
    "X_train, X_test, y_train, y_test = train_test_split(X, y, random_state=42)\n",
    "print('X train', X_train.shape)\n",
    "print('y train', y_train.shape)\n",
    "print('X test', X_test.shape)\n",
    "print('y test', y_test.shape)"
   ]
  },
  {
   "cell_type": "code",
   "execution_count": null,
   "metadata": {},
   "outputs": [],
   "source": [
    "estimators = [(str(tag_id), model['clf']) for tag_id, model in classifiers.items()]\n",
    "clf = VotingClassifier(estimators, voting='soft', n_jobs=-1)"
   ]
  },
  {
   "cell_type": "code",
   "execution_count": null,
   "metadata": {},
   "outputs": [],
   "source": [
    "clf.fit(X_train, y_train)\n",
    "y_test_predict = clf.predict(X_test)\n",
    "\n",
    "plot_confusion_matrix(y_test, y_test_predict)"
   ]
  }
 ],
 "metadata": {
  "kernelspec": {
   "display_name": "Python 3",
   "language": "python",
   "name": "python3"
  },
  "language_info": {
   "codemirror_mode": {
    "name": "ipython",
    "version": 3
   },
   "file_extension": ".py",
   "mimetype": "text/x-python",
   "name": "python",
   "nbconvert_exporter": "python",
   "pygments_lexer": "ipython3",
   "version": "3.6.0"
  }
 },
 "nbformat": 4,
 "nbformat_minor": 2
}
