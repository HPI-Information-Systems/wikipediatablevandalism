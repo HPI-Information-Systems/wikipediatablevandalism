{
 "cells": [
  {
   "cell_type": "code",
   "execution_count": 1,
   "metadata": {},
   "outputs": [],
   "source": [
    "import pandas as pd\n",
    "import numpy as np\n",
    "import matplotlib.pyplot as plt\n",
    "import graphviz\n",
    "from sklearn.model_selection import train_test_split, cross_validate, cross_val_predict\n",
    "from sklearn.ensemble import RandomForestClassifier\n",
    "from sklearn.feature_selection import SelectFromModel\n",
    "from sklearn.metrics import classification_report, accuracy_score, f1_score, precision_score, recall_score, roc_curve, auc, precision_recall_curve, confusion_matrix, average_precision_score\n",
    "from sklearn.pipeline import Pipeline"
   ]
  },
  {
   "cell_type": "code",
   "execution_count": 2,
   "metadata": {},
   "outputs": [
    {
     "data": {
      "text/html": [
       "<div>\n",
       "<style scoped>\n",
       "    .dataframe tbody tr th:only-of-type {\n",
       "        vertical-align: middle;\n",
       "    }\n",
       "\n",
       "    .dataframe tbody tr th {\n",
       "        vertical-align: top;\n",
       "    }\n",
       "\n",
       "    .dataframe thead th {\n",
       "        text-align: right;\n",
       "    }\n",
       "</style>\n",
       "<table border=\"1\" class=\"dataframe\">\n",
       "  <thead>\n",
       "    <tr style=\"text-align: right;\">\n",
       "      <th></th>\n",
       "      <th>currentRowCount</th>\n",
       "      <th>currentColumnCount</th>\n",
       "      <th>currentCellCount</th>\n",
       "      <th>unmatchedTableRatio</th>\n",
       "      <th>unmatchedRowRatio</th>\n",
       "      <th>isContributorAnonymous</th>\n",
       "      <th>timeOfDay</th>\n",
       "      <th>dayOfWeek</th>\n",
       "      <th>isMinorEdit</th>\n",
       "      <th>commentLength</th>\n",
       "      <th>...</th>\n",
       "      <th>previousLength</th>\n",
       "      <th>offensiveWordCountInTables</th>\n",
       "      <th>offensiveWordCountInComment</th>\n",
       "      <th>averageRelativeFrequencyOfNewAddedWords</th>\n",
       "      <th>LZWCompressionRate</th>\n",
       "      <th>KLDOfCharDistribution</th>\n",
       "      <th>isCommentDeleted</th>\n",
       "      <th>isContributorDeleted</th>\n",
       "      <th>revision_id</th>\n",
       "      <th>tag_id</th>\n",
       "    </tr>\n",
       "  </thead>\n",
       "  <tbody>\n",
       "    <tr>\n",
       "      <th>0</th>\n",
       "      <td>7</td>\n",
       "      <td>6</td>\n",
       "      <td>42</td>\n",
       "      <td>1.0</td>\n",
       "      <td>0.285714</td>\n",
       "      <td>0</td>\n",
       "      <td>2</td>\n",
       "      <td>2</td>\n",
       "      <td>0</td>\n",
       "      <td>14</td>\n",
       "      <td>...</td>\n",
       "      <td>8160</td>\n",
       "      <td>10</td>\n",
       "      <td>0</td>\n",
       "      <td>1.222222</td>\n",
       "      <td>0.335988</td>\n",
       "      <td>315.482353</td>\n",
       "      <td>0</td>\n",
       "      <td>0</td>\n",
       "      <td>730449352</td>\n",
       "      <td>12</td>\n",
       "    </tr>\n",
       "    <tr>\n",
       "      <th>1</th>\n",
       "      <td>6</td>\n",
       "      <td>2</td>\n",
       "      <td>12</td>\n",
       "      <td>1.0</td>\n",
       "      <td>0.000000</td>\n",
       "      <td>0</td>\n",
       "      <td>20</td>\n",
       "      <td>3</td>\n",
       "      <td>0</td>\n",
       "      <td>16</td>\n",
       "      <td>...</td>\n",
       "      <td>3531</td>\n",
       "      <td>2</td>\n",
       "      <td>0</td>\n",
       "      <td>1.000000</td>\n",
       "      <td>0.516629</td>\n",
       "      <td>782.615290</td>\n",
       "      <td>0</td>\n",
       "      <td>0</td>\n",
       "      <td>483213111</td>\n",
       "      <td>2</td>\n",
       "    </tr>\n",
       "    <tr>\n",
       "      <th>2</th>\n",
       "      <td>6</td>\n",
       "      <td>2</td>\n",
       "      <td>12</td>\n",
       "      <td>1.0</td>\n",
       "      <td>0.000000</td>\n",
       "      <td>0</td>\n",
       "      <td>20</td>\n",
       "      <td>3</td>\n",
       "      <td>0</td>\n",
       "      <td>16</td>\n",
       "      <td>...</td>\n",
       "      <td>3531</td>\n",
       "      <td>2</td>\n",
       "      <td>0</td>\n",
       "      <td>1.000000</td>\n",
       "      <td>0.516629</td>\n",
       "      <td>782.615290</td>\n",
       "      <td>0</td>\n",
       "      <td>0</td>\n",
       "      <td>483213111</td>\n",
       "      <td>11</td>\n",
       "    </tr>\n",
       "    <tr>\n",
       "      <th>3</th>\n",
       "      <td>0</td>\n",
       "      <td>0</td>\n",
       "      <td>0</td>\n",
       "      <td>1.0</td>\n",
       "      <td>1.000000</td>\n",
       "      <td>0</td>\n",
       "      <td>17</td>\n",
       "      <td>6</td>\n",
       "      <td>1</td>\n",
       "      <td>67</td>\n",
       "      <td>...</td>\n",
       "      <td>1629</td>\n",
       "      <td>0</td>\n",
       "      <td>0</td>\n",
       "      <td>1.000000</td>\n",
       "      <td>0.588710</td>\n",
       "      <td>827.648471</td>\n",
       "      <td>0</td>\n",
       "      <td>0</td>\n",
       "      <td>216224416</td>\n",
       "      <td>12</td>\n",
       "    </tr>\n",
       "    <tr>\n",
       "      <th>4</th>\n",
       "      <td>0</td>\n",
       "      <td>0</td>\n",
       "      <td>0</td>\n",
       "      <td>1.0</td>\n",
       "      <td>1.000000</td>\n",
       "      <td>0</td>\n",
       "      <td>1</td>\n",
       "      <td>4</td>\n",
       "      <td>1</td>\n",
       "      <td>152</td>\n",
       "      <td>...</td>\n",
       "      <td>12135</td>\n",
       "      <td>5</td>\n",
       "      <td>0</td>\n",
       "      <td>1.000000</td>\n",
       "      <td>0.445522</td>\n",
       "      <td>8321.063893</td>\n",
       "      <td>0</td>\n",
       "      <td>0</td>\n",
       "      <td>539338621</td>\n",
       "      <td>12</td>\n",
       "    </tr>\n",
       "  </tbody>\n",
       "</table>\n",
       "<p>5 rows × 39 columns</p>\n",
       "</div>"
      ],
      "text/plain": [
       "   currentRowCount  currentColumnCount  currentCellCount  unmatchedTableRatio  \\\n",
       "0                7                   6                42                  1.0   \n",
       "1                6                   2                12                  1.0   \n",
       "2                6                   2                12                  1.0   \n",
       "3                0                   0                 0                  1.0   \n",
       "4                0                   0                 0                  1.0   \n",
       "\n",
       "   unmatchedRowRatio  isContributorAnonymous  timeOfDay  dayOfWeek  \\\n",
       "0           0.285714                       0          2          2   \n",
       "1           0.000000                       0         20          3   \n",
       "2           0.000000                       0         20          3   \n",
       "3           1.000000                       0         17          6   \n",
       "4           1.000000                       0          1          4   \n",
       "\n",
       "   isMinorEdit  commentLength   ...    previousLength  \\\n",
       "0            0             14   ...              8160   \n",
       "1            0             16   ...              3531   \n",
       "2            0             16   ...              3531   \n",
       "3            1             67   ...              1629   \n",
       "4            1            152   ...             12135   \n",
       "\n",
       "   offensiveWordCountInTables  offensiveWordCountInComment  \\\n",
       "0                          10                            0   \n",
       "1                           2                            0   \n",
       "2                           2                            0   \n",
       "3                           0                            0   \n",
       "4                           5                            0   \n",
       "\n",
       "   averageRelativeFrequencyOfNewAddedWords  LZWCompressionRate  \\\n",
       "0                                 1.222222            0.335988   \n",
       "1                                 1.000000            0.516629   \n",
       "2                                 1.000000            0.516629   \n",
       "3                                 1.000000            0.588710   \n",
       "4                                 1.000000            0.445522   \n",
       "\n",
       "   KLDOfCharDistribution  isCommentDeleted  isContributorDeleted  revision_id  \\\n",
       "0             315.482353                 0                     0    730449352   \n",
       "1             782.615290                 0                     0    483213111   \n",
       "2             782.615290                 0                     0    483213111   \n",
       "3             827.648471                 0                     0    216224416   \n",
       "4            8321.063893                 0                     0    539338621   \n",
       "\n",
       "   tag_id  \n",
       "0      12  \n",
       "1       2  \n",
       "2      11  \n",
       "3      12  \n",
       "4      12  \n",
       "\n",
       "[5 rows x 39 columns]"
      ]
     },
     "execution_count": 2,
     "metadata": {},
     "output_type": "execute_result"
    }
   ],
   "source": [
    "# Import dataset\n",
    "df = pd.read_csv('./data/features-modified-total-5f03bf5.csv')\n",
    "tag_df = pd.read_csv('./data/tag.csv')\n",
    "labels = df.columns\n",
    "df.head()"
   ]
  },
  {
   "cell_type": "code",
   "execution_count": 3,
   "metadata": {},
   "outputs": [],
   "source": [
    "# Encode vandalism or no vandalism. Tag_id 12 is 'constructive'\n",
    "df['tag_id'] = df['tag_id'].map(lambda x: 0 if x == 12 else 1)"
   ]
  },
  {
   "cell_type": "code",
   "execution_count": 4,
   "metadata": {},
   "outputs": [],
   "source": [
    "# Convert from pandas to numpy arrays\n",
    "X = df.drop(['tag_id'], axis=1)\n",
    "y = df['tag_id']\n",
    "labels = X.columns\n",
    "X = X.values\n",
    "y = y.values"
   ]
  },
  {
   "cell_type": "code",
   "execution_count": 5,
   "metadata": {},
   "outputs": [
    {
     "name": "stdout",
     "output_type": "stream",
     "text": [
      "Train X (2775, 38)\n",
      "Train y (2775,)\n",
      "Test X (926, 38)\n",
      "Test y (926,)\n"
     ]
    }
   ],
   "source": [
    "# Split dataset into training and test\n",
    "X_train, X_test, y_train, y_test = train_test_split(X, y)\n",
    "\n",
    "print('Train X', X_train.shape)\n",
    "print('Train y', y_train.shape)\n",
    "\n",
    "print('Test X', X_test.shape)\n",
    "print('Test y', y_test.shape)"
   ]
  },
  {
   "cell_type": "code",
   "execution_count": 6,
   "metadata": {
    "scrolled": true
   },
   "outputs": [
    {
     "name": "stdout",
     "output_type": "stream",
     "text": [
      "Training scores:\n",
      "fit_time : 0.08 (+/- 0.05)\n",
      "score_time : 0.02 (+/- 0.01)\n",
      "test_f1 : 0.71 (+/- 0.04)\n",
      "test_precision : 0.74 (+/- 0.02)\n",
      "test_recall : 0.68 (+/- 0.07)\n",
      "test_roc_auc : 0.84 (+/- 0.01)\n",
      "test_accuracy : 0.76 (+/- 0.02)\n"
     ]
    }
   ],
   "source": [
    "# Build model and evaluate parameters using crossvalidation\n",
    "clf = RandomForestClassifier(class_weight='balanced')\n",
    "\n",
    "scores = cross_validate(clf, X_train, y_train,\n",
    "                        scoring=['f1', 'precision', 'recall', 'roc_auc', 'accuracy'],\n",
    "                        cv=3, return_train_score=False)    \n",
    "\n",
    "print('Training scores:')\n",
    "for name, values in scores.items():\n",
    "    print(name, \": %0.2f (+/- %0.2f)\" % (values.mean(), values.std() * 2))"
   ]
  },
  {
   "cell_type": "code",
   "execution_count": 7,
   "metadata": {
    "scrolled": true
   },
   "outputs": [
    {
     "name": "stdout",
     "output_type": "stream",
     "text": [
      "Training scores:\n"
     ]
    },
    {
     "data": {
      "text/html": [
       "<div>\n",
       "<style scoped>\n",
       "    .dataframe tbody tr th:only-of-type {\n",
       "        vertical-align: middle;\n",
       "    }\n",
       "\n",
       "    .dataframe tbody tr th {\n",
       "        vertical-align: top;\n",
       "    }\n",
       "\n",
       "    .dataframe thead th {\n",
       "        text-align: right;\n",
       "    }\n",
       "</style>\n",
       "<table border=\"1\" class=\"dataframe\">\n",
       "  <thead>\n",
       "    <tr style=\"text-align: right;\">\n",
       "      <th></th>\n",
       "      <th>Predicted No Vandalism</th>\n",
       "      <th>Predicted Vandalism</th>\n",
       "    </tr>\n",
       "  </thead>\n",
       "  <tbody>\n",
       "    <tr>\n",
       "      <th>True No Vandalism</th>\n",
       "      <td>1313</td>\n",
       "      <td>270</td>\n",
       "    </tr>\n",
       "    <tr>\n",
       "      <th>True Vandalism</th>\n",
       "      <td>360</td>\n",
       "      <td>832</td>\n",
       "    </tr>\n",
       "  </tbody>\n",
       "</table>\n",
       "</div>"
      ],
      "text/plain": [
       "                   Predicted No Vandalism  Predicted Vandalism\n",
       "True No Vandalism                    1313                  270\n",
       "True Vandalism                        360                  832"
      ]
     },
     "execution_count": 7,
     "metadata": {},
     "output_type": "execute_result"
    }
   ],
   "source": [
    "# Evaluate model parameters: Confusion matrix\n",
    "columns = ['Predicted No Vandalism', 'Predicted Vandalism']\n",
    "index = ['True No Vandalism', 'True Vandalism']\n",
    "classes = ['No Vandalism', 'Vandalism']\n",
    "\n",
    "y_train_predict = cross_val_predict(clf, X_train, y_train, cv=3)\n",
    "cf_matrix = confusion_matrix(y_train, y_train_predict)\n",
    "\n",
    "print('Training scores:')\n",
    "pd.DataFrame(cf_matrix, columns=columns, index=index)"
   ]
  },
  {
   "cell_type": "code",
   "execution_count": 8,
   "metadata": {
    "scrolled": false
   },
   "outputs": [
    {
     "name": "stdout",
     "output_type": "stream",
     "text": [
      "Training scores:\n",
      "              precision    recall  f1-score   support\n",
      "\n",
      "No Vandalism       0.78      0.83      0.81      1583\n",
      "   Vandalism       0.75      0.70      0.73      1192\n",
      "\n",
      " avg / total       0.77      0.77      0.77      2775\n",
      "\n"
     ]
    }
   ],
   "source": [
    "# Evaluate model parameters: Classification report\n",
    "print('Training scores:')\n",
    "print(classification_report(y_train, y_train_predict, target_names=classes))"
   ]
  },
  {
   "cell_type": "code",
   "execution_count": 9,
   "metadata": {
    "scrolled": true
   },
   "outputs": [],
   "source": [
    "# Train model\n",
    "clf.fit(X_train, y_train)\n",
    "y_predict = clf.predict(X_test)\n",
    "y_predict_prob = clf.predict_proba(X_test)\n",
    "y_predict_vandalism = y_predict_prob[:,1]"
   ]
  },
  {
   "cell_type": "code",
   "execution_count": 10,
   "metadata": {},
   "outputs": [
    {
     "name": "stdout",
     "output_type": "stream",
     "text": [
      "Precision and recall scores:\n"
     ]
    },
    {
     "data": {
      "image/png": "[encoded data removed]",
      "text/plain": [
       "<Figure size 432x288 with 1 Axes>"
      ]
     },
     "metadata": {},
     "output_type": "display_data"
    }
   ],
   "source": [
    "# Evaluate model: Precision & Recall\n",
    "print('Precision and recall scores:')\n",
    "\n",
    "precision, recall, thresholds = precision_recall_curve(y_test, y_predict_vandalism)\n",
    "average_precision = average_precision_score(y_test, y_predict_vandalism)\n",
    "\n",
    "plt.title('Precision-Recall: Average Precision=  %0.2f' % average_precision)\n",
    "plt.step(recall, precision, color='b', where='post')\n",
    "plt.xticks(np.arange(0, 1.1, 0.1))\n",
    "plt.yticks(np.arange(0, 1.1, 0.1))\n",
    "plt.ylabel('Precision')\n",
    "plt.xlabel('Recall')\n",
    "plt.show()"
   ]
  },
  {
   "cell_type": "code",
   "execution_count": 11,
   "metadata": {},
   "outputs": [
    {
     "name": "stdout",
     "output_type": "stream",
     "text": [
      "Final model scores:\n"
     ]
    },
    {
     "data": {
      "text/html": [
       "<div>\n",
       "<style scoped>\n",
       "    .dataframe tbody tr th:only-of-type {\n",
       "        vertical-align: middle;\n",
       "    }\n",
       "\n",
       "    .dataframe tbody tr th {\n",
       "        vertical-align: top;\n",
       "    }\n",
       "\n",
       "    .dataframe thead th {\n",
       "        text-align: right;\n",
       "    }\n",
       "</style>\n",
       "<table border=\"1\" class=\"dataframe\">\n",
       "  <thead>\n",
       "    <tr style=\"text-align: right;\">\n",
       "      <th></th>\n",
       "      <th>Predicted No Vandalism</th>\n",
       "      <th>Predicted Vandalism</th>\n",
       "    </tr>\n",
       "  </thead>\n",
       "  <tbody>\n",
       "    <tr>\n",
       "      <th>True No Vandalism</th>\n",
       "      <td>450</td>\n",
       "      <td>82</td>\n",
       "    </tr>\n",
       "    <tr>\n",
       "      <th>True Vandalism</th>\n",
       "      <td>100</td>\n",
       "      <td>294</td>\n",
       "    </tr>\n",
       "  </tbody>\n",
       "</table>\n",
       "</div>"
      ],
      "text/plain": [
       "                   Predicted No Vandalism  Predicted Vandalism\n",
       "True No Vandalism                     450                   82\n",
       "True Vandalism                        100                  294"
      ]
     },
     "execution_count": 11,
     "metadata": {},
     "output_type": "execute_result"
    }
   ],
   "source": [
    "# Evaluate model: Confusion matrix\n",
    "columns = ['Predicted No Vandalism', 'Predicted Vandalism']\n",
    "index = ['True No Vandalism', 'True Vandalism']\n",
    "\n",
    "print('Final model scores:')\n",
    "pd.DataFrame(confusion_matrix(y_test, y_predict), columns=columns, index=index)"
   ]
  },
  {
   "cell_type": "code",
   "execution_count": 12,
   "metadata": {},
   "outputs": [
    {
     "name": "stdout",
     "output_type": "stream",
     "text": [
      "Final model scores:\n",
      "              precision    recall  f1-score   support\n",
      "\n",
      "No Vandalism       0.82      0.85      0.83       532\n",
      "   Vandalism       0.78      0.75      0.76       394\n",
      "\n",
      " avg / total       0.80      0.80      0.80       926\n",
      "\n"
     ]
    }
   ],
   "source": [
    "# Evaluate model: Classification report\n",
    "print('Final model scores:')\n",
    "print(classification_report(y_test, y_predict, target_names=classes))"
   ]
  },
  {
   "cell_type": "code",
   "execution_count": 13,
   "metadata": {},
   "outputs": [
    {
     "name": "stdout",
     "output_type": "stream",
     "text": [
      "Final model scores:\n",
      "roc_auc 0.8645447692836152\n"
     ]
    },
    {
     "data": {
      "image/png": "[encoded data removed]",
      "text/plain": [
       "<Figure size 432x288 with 1 Axes>"
      ]
     },
     "metadata": {},
     "output_type": "display_data"
    }
   ],
   "source": [
    "false_positive_rate, true_positive_rate, thresholds = roc_curve(y_test, y_predict_vandalism)\n",
    "roc_auc = auc(false_positive_rate, true_positive_rate)\n",
    "print('Final model scores:')\n",
    "print('roc_auc', roc_auc)\n",
    "\n",
    "plt.title('Receiver Operating Characteristic')\n",
    "plt.plot(false_positive_rate, true_positive_rate, 'b', label = 'AUC = %0.2f' % roc_auc)\n",
    "plt.legend(loc = 'lower right')\n",
    "plt.plot([0, 1], [0, 1],'r--')\n",
    "plt.xlim([0, 1])\n",
    "plt.ylim([0, 1])\n",
    "plt.ylabel('True Positive Rate')\n",
    "plt.xlabel('False Positive Rate')\n",
    "plt.show()"
   ]
  },
  {
   "cell_type": "code",
   "execution_count": 14,
   "metadata": {},
   "outputs": [
    {
     "data": {
      "text/plain": [
       "<matplotlib.image.AxesImage at 0x10e327438>"
      ]
     },
     "execution_count": 14,
     "metadata": {},
     "output_type": "execute_result"
    },
    {
     "data": {
      "image/png": "[encoded data removed]",
      "text/plain": [
       "<Figure size 288x288 with 1 Axes>"
      ]
     },
     "metadata": {},
     "output_type": "display_data"
    }
   ],
   "source": [
    "# Error analysis\n",
    "y_train_predict = cross_val_predict(clf, X_train, y_train, cv=3)\n",
    "cf_matrix = confusion_matrix(y_train, y_train_predict)\n",
    "\n",
    "plt.matshow(cf_matrix, cmap=plt.cm.gray)"
   ]
  },
  {
   "cell_type": "code",
   "execution_count": null,
   "metadata": {},
   "outputs": [],
   "source": []
  }
 ],
 "metadata": {
  "kernelspec": {
   "display_name": "Python 3",
   "language": "python",
   "name": "python3"
  },
  "language_info": {
   "codemirror_mode": {
    "name": "ipython",
    "version": 3
   },
   "file_extension": ".py",
   "mimetype": "text/x-python",
   "name": "python",
   "nbconvert_exporter": "python",
   "pygments_lexer": "ipython3",
   "version": "3.6.5"
  }
 },
 "nbformat": 4,
 "nbformat_minor": 2
}
