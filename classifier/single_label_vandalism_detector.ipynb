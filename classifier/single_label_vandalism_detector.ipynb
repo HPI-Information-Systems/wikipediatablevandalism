{
 "cells": [
  {
   "cell_type": "markdown",
   "metadata": {},
   "source": [
    "Improvements over binary classifier:\n",
    "\n",
    "- removed unused graphviz import\n",
    "- define labels to classify: simply encode (no) vandalism according to a set of labels\n",
    "- use features computed by rev 5f03bf5 of the vandalism detector, includes revision ID\n",
    "- use DataFrame - it works the same and retains column labels etc.\n",
    "- added plt.show() to error analysis to draw matrix\n",
    "- add example FP and FN (= misclassified revisions)\n",
    "- added plot for FP frequency per tag\n"
   ]
  },
  {
   "cell_type": "code",
   "execution_count": 139,
   "metadata": {},
   "outputs": [],
   "source": [
    "import pandas as pd\n",
    "import numpy as np\n",
    "import matplotlib.pyplot as plt\n",
    "from sklearn.model_selection import train_test_split, cross_validate, cross_val_predict\n",
    "from sklearn.ensemble import RandomForestClassifier\n",
    "from sklearn.feature_selection import SelectFromModel\n",
    "from sklearn.metrics import classification_report, accuracy_score, f1_score, precision_score, recall_score, roc_curve, auc, precision_recall_curve, confusion_matrix, average_precision_score\n",
    "from sklearn.pipeline import Pipeline\n",
    "from imblearn.under_sampling import RandomUnderSampler\n",
    "from IPython.display import HTML, display"
   ]
  },
  {
   "cell_type": "code",
   "execution_count": 140,
   "metadata": {},
   "outputs": [],
   "source": [
    "np.random.seed(4222968274)"
   ]
  },
  {
   "cell_type": "code",
   "execution_count": 141,
   "metadata": {
    "scrolled": true
   },
   "outputs": [
    {
     "data": {
      "text/html": [
       "<div>\n",
       "<style scoped>\n",
       "    .dataframe tbody tr th:only-of-type {\n",
       "        vertical-align: middle;\n",
       "    }\n",
       "\n",
       "    .dataframe tbody tr th {\n",
       "        vertical-align: top;\n",
       "    }\n",
       "\n",
       "    .dataframe thead th {\n",
       "        text-align: right;\n",
       "    }\n",
       "</style>\n",
       "<table border=\"1\" class=\"dataframe\">\n",
       "  <thead>\n",
       "    <tr style=\"text-align: right;\">\n",
       "      <th></th>\n",
       "      <th>isContributorAnonymous</th>\n",
       "      <th>isBot</th>\n",
       "      <th>timeOfDay</th>\n",
       "      <th>localizedTimeOfDay</th>\n",
       "      <th>dayOfWeek</th>\n",
       "      <th>localizedDayOfWeek</th>\n",
       "      <th>isMinorEdit</th>\n",
       "      <th>authorRank</th>\n",
       "      <th>authorRankOfLast200Edits</th>\n",
       "      <th>authorRankOneMonth</th>\n",
       "      <th>...</th>\n",
       "      <th>LZWCompressionRate</th>\n",
       "      <th>KLDOfCharDistribution</th>\n",
       "      <th>commentLength</th>\n",
       "      <th>userCommentLength</th>\n",
       "      <th>templateUseFlags</th>\n",
       "      <th>templateUseFifaFlags</th>\n",
       "      <th>templateUsePageLink</th>\n",
       "      <th>templateUseYesNo</th>\n",
       "      <th>revision_id</th>\n",
       "      <th>tag_id</th>\n",
       "    </tr>\n",
       "  </thead>\n",
       "  <tbody>\n",
       "    <tr>\n",
       "      <th>0</th>\n",
       "      <td>1.0</td>\n",
       "      <td>0.0</td>\n",
       "      <td>2.0</td>\n",
       "      <td>21.0</td>\n",
       "      <td>2.0</td>\n",
       "      <td>1.0</td>\n",
       "      <td>0.0</td>\n",
       "      <td>-1.0</td>\n",
       "      <td>-1.0</td>\n",
       "      <td>-1.0</td>\n",
       "      <td>...</td>\n",
       "      <td>0.338064</td>\n",
       "      <td>5.563610</td>\n",
       "      <td>14.0</td>\n",
       "      <td>14.0</td>\n",
       "      <td>0.0</td>\n",
       "      <td>0.0</td>\n",
       "      <td>0.0</td>\n",
       "      <td>0.0</td>\n",
       "      <td>721792503</td>\n",
       "      <td>6</td>\n",
       "    </tr>\n",
       "    <tr>\n",
       "      <th>1</th>\n",
       "      <td>1.0</td>\n",
       "      <td>0.0</td>\n",
       "      <td>6.0</td>\n",
       "      <td>2.0</td>\n",
       "      <td>4.0</td>\n",
       "      <td>4.0</td>\n",
       "      <td>0.0</td>\n",
       "      <td>-1.0</td>\n",
       "      <td>-1.0</td>\n",
       "      <td>-1.0</td>\n",
       "      <td>...</td>\n",
       "      <td>0.287100</td>\n",
       "      <td>515.060308</td>\n",
       "      <td>20.0</td>\n",
       "      <td>20.0</td>\n",
       "      <td>0.0</td>\n",
       "      <td>0.0</td>\n",
       "      <td>0.0</td>\n",
       "      <td>0.0</td>\n",
       "      <td>287001519</td>\n",
       "      <td>6</td>\n",
       "    </tr>\n",
       "    <tr>\n",
       "      <th>2</th>\n",
       "      <td>1.0</td>\n",
       "      <td>0.0</td>\n",
       "      <td>19.0</td>\n",
       "      <td>14.0</td>\n",
       "      <td>2.0</td>\n",
       "      <td>2.0</td>\n",
       "      <td>0.0</td>\n",
       "      <td>-1.0</td>\n",
       "      <td>-1.0</td>\n",
       "      <td>-1.0</td>\n",
       "      <td>...</td>\n",
       "      <td>0.327554</td>\n",
       "      <td>0.000000</td>\n",
       "      <td>0.0</td>\n",
       "      <td>0.0</td>\n",
       "      <td>0.0</td>\n",
       "      <td>0.0</td>\n",
       "      <td>2.0</td>\n",
       "      <td>0.0</td>\n",
       "      <td>139272254</td>\n",
       "      <td>6</td>\n",
       "    </tr>\n",
       "    <tr>\n",
       "      <th>3</th>\n",
       "      <td>1.0</td>\n",
       "      <td>0.0</td>\n",
       "      <td>20.0</td>\n",
       "      <td>2.0</td>\n",
       "      <td>6.0</td>\n",
       "      <td>7.0</td>\n",
       "      <td>0.0</td>\n",
       "      <td>-1.0</td>\n",
       "      <td>-1.0</td>\n",
       "      <td>-1.0</td>\n",
       "      <td>...</td>\n",
       "      <td>0.555396</td>\n",
       "      <td>367.149974</td>\n",
       "      <td>12.0</td>\n",
       "      <td>12.0</td>\n",
       "      <td>0.0</td>\n",
       "      <td>0.0</td>\n",
       "      <td>0.0</td>\n",
       "      <td>0.0</td>\n",
       "      <td>536243596</td>\n",
       "      <td>6</td>\n",
       "    </tr>\n",
       "    <tr>\n",
       "      <th>4</th>\n",
       "      <td>1.0</td>\n",
       "      <td>0.0</td>\n",
       "      <td>13.0</td>\n",
       "      <td>8.0</td>\n",
       "      <td>5.0</td>\n",
       "      <td>5.0</td>\n",
       "      <td>0.0</td>\n",
       "      <td>-1.0</td>\n",
       "      <td>-1.0</td>\n",
       "      <td>-1.0</td>\n",
       "      <td>...</td>\n",
       "      <td>0.352716</td>\n",
       "      <td>7.933723</td>\n",
       "      <td>7.0</td>\n",
       "      <td>7.0</td>\n",
       "      <td>0.0</td>\n",
       "      <td>0.0</td>\n",
       "      <td>0.0</td>\n",
       "      <td>0.0</td>\n",
       "      <td>321571480</td>\n",
       "      <td>6</td>\n",
       "    </tr>\n",
       "  </tbody>\n",
       "</table>\n",
       "<p>5 rows × 84 columns</p>\n",
       "</div>"
      ],
      "text/plain": [
       "   isContributorAnonymous  isBot  timeOfDay  localizedTimeOfDay  dayOfWeek  \\\n",
       "0                     1.0    0.0        2.0                21.0        2.0   \n",
       "1                     1.0    0.0        6.0                 2.0        4.0   \n",
       "2                     1.0    0.0       19.0                14.0        2.0   \n",
       "3                     1.0    0.0       20.0                 2.0        6.0   \n",
       "4                     1.0    0.0       13.0                 8.0        5.0   \n",
       "\n",
       "   localizedDayOfWeek  isMinorEdit  authorRank  authorRankOfLast200Edits  \\\n",
       "0                 1.0          0.0        -1.0                      -1.0   \n",
       "1                 4.0          0.0        -1.0                      -1.0   \n",
       "2                 2.0          0.0        -1.0                      -1.0   \n",
       "3                 7.0          0.0        -1.0                      -1.0   \n",
       "4                 5.0          0.0        -1.0                      -1.0   \n",
       "\n",
       "   authorRankOneMonth   ...    LZWCompressionRate  KLDOfCharDistribution  \\\n",
       "0                -1.0   ...              0.338064               5.563610   \n",
       "1                -1.0   ...              0.287100             515.060308   \n",
       "2                -1.0   ...              0.327554               0.000000   \n",
       "3                -1.0   ...              0.555396             367.149974   \n",
       "4                -1.0   ...              0.352716               7.933723   \n",
       "\n",
       "   commentLength  userCommentLength  templateUseFlags  templateUseFifaFlags  \\\n",
       "0           14.0               14.0               0.0                   0.0   \n",
       "1           20.0               20.0               0.0                   0.0   \n",
       "2            0.0                0.0               0.0                   0.0   \n",
       "3           12.0               12.0               0.0                   0.0   \n",
       "4            7.0                7.0               0.0                   0.0   \n",
       "\n",
       "   templateUsePageLink  templateUseYesNo  revision_id  tag_id  \n",
       "0                  0.0               0.0    721792503       6  \n",
       "1                  0.0               0.0    287001519       6  \n",
       "2                  2.0               0.0    139272254       6  \n",
       "3                  0.0               0.0    536243596       6  \n",
       "4                  0.0               0.0    321571480       6  \n",
       "\n",
       "[5 rows x 84 columns]"
      ]
     },
     "execution_count": 141,
     "metadata": {},
     "output_type": "execute_result"
    }
   ],
   "source": [
    "# Import dataset\n",
    "df = pd.read_csv('./data/features_modified_total6100.csv')\n",
    "tag_df = pd.read_csv('./data/tag.csv')\n",
    "labels = df.columns\n",
    "df.head()"
   ]
  },
  {
   "cell_type": "code",
   "execution_count": 142,
   "metadata": {},
   "outputs": [
    {
     "data": {
      "text/html": [
       "<div>\n",
       "<style scoped>\n",
       "    .dataframe tbody tr th:only-of-type {\n",
       "        vertical-align: middle;\n",
       "    }\n",
       "\n",
       "    .dataframe tbody tr th {\n",
       "        vertical-align: top;\n",
       "    }\n",
       "\n",
       "    .dataframe thead th {\n",
       "        text-align: right;\n",
       "    }\n",
       "</style>\n",
       "<table border=\"1\" class=\"dataframe\">\n",
       "  <thead>\n",
       "    <tr style=\"text-align: right;\">\n",
       "      <th></th>\n",
       "      <th>id</th>\n",
       "      <th>name</th>\n",
       "    </tr>\n",
       "  </thead>\n",
       "  <tbody>\n",
       "    <tr>\n",
       "      <th>0</th>\n",
       "      <td>1</td>\n",
       "      <td>Blanking</td>\n",
       "    </tr>\n",
       "    <tr>\n",
       "      <th>1</th>\n",
       "      <td>2</td>\n",
       "      <td>Nonsense</td>\n",
       "    </tr>\n",
       "    <tr>\n",
       "      <th>2</th>\n",
       "      <td>3</td>\n",
       "      <td>QualityIssue</td>\n",
       "    </tr>\n",
       "    <tr>\n",
       "      <th>3</th>\n",
       "      <td>4</td>\n",
       "      <td>PersonalStory</td>\n",
       "    </tr>\n",
       "    <tr>\n",
       "      <th>4</th>\n",
       "      <td>5</td>\n",
       "      <td>FalseFacts</td>\n",
       "    </tr>\n",
       "    <tr>\n",
       "      <th>5</th>\n",
       "      <td>6</td>\n",
       "      <td>Syntax</td>\n",
       "    </tr>\n",
       "    <tr>\n",
       "      <th>6</th>\n",
       "      <td>7</td>\n",
       "      <td>MergeConflict</td>\n",
       "    </tr>\n",
       "    <tr>\n",
       "      <th>7</th>\n",
       "      <td>8</td>\n",
       "      <td>Template</td>\n",
       "    </tr>\n",
       "    <tr>\n",
       "      <th>8</th>\n",
       "      <td>9</td>\n",
       "      <td>EditWars</td>\n",
       "    </tr>\n",
       "    <tr>\n",
       "      <th>9</th>\n",
       "      <td>10</td>\n",
       "      <td>SEO</td>\n",
       "    </tr>\n",
       "    <tr>\n",
       "      <th>10</th>\n",
       "      <td>11</td>\n",
       "      <td>Intention</td>\n",
       "    </tr>\n",
       "    <tr>\n",
       "      <th>11</th>\n",
       "      <td>12</td>\n",
       "      <td>constructive</td>\n",
       "    </tr>\n",
       "  </tbody>\n",
       "</table>\n",
       "</div>"
      ],
      "text/plain": [
       "    id           name\n",
       "0    1       Blanking\n",
       "1    2       Nonsense\n",
       "2    3   QualityIssue\n",
       "3    4  PersonalStory\n",
       "4    5     FalseFacts\n",
       "5    6         Syntax\n",
       "6    7  MergeConflict\n",
       "7    8       Template\n",
       "8    9       EditWars\n",
       "9   10            SEO\n",
       "10  11      Intention\n",
       "11  12   constructive"
      ]
     },
     "execution_count": 142,
     "metadata": {},
     "output_type": "execute_result"
    }
   ],
   "source": [
    "# Encode vandalism or no vandalism according to tags-of-interest\n",
    "TAG_IDS = [6]\n",
    "df['is_vandalism'] = df.tag_id.isin(TAG_IDS)\n",
    "tag_df"
   ]
  },
  {
   "cell_type": "code",
   "execution_count": 143,
   "metadata": {},
   "outputs": [],
   "source": [
    "X = df\n",
    "y = df['is_vandalism']\n",
    "labels = X.columns"
   ]
  },
  {
   "cell_type": "code",
   "execution_count": 144,
   "metadata": {},
   "outputs": [
    {
     "name": "stdout",
     "output_type": "stream",
     "text": [
      "Train X (69, 82)\n",
      "Train y (69,)\n",
      "Test X (23, 82)\n",
      "Test y (23,)\n"
     ]
    }
   ],
   "source": [
    "# Undersample class of 'constructive' samples\n",
    "sampler = RandomUnderSampler()\n",
    "X_resampled, y_resampled = sampler.fit_sample(X, y)\n",
    "\n",
    "# Convert sampler output to DF - rescue column names etc.\n",
    "X_resampled = pd.DataFrame(X_resampled, columns=X.columns)\n",
    "\n",
    "# Split dataset into training and test\n",
    "X_train_complete, X_test_complete, y_train, y_test = train_test_split(X_resampled, y_resampled)\n",
    "\n",
    "# Truncate metadata columns\n",
    "feature_columns = [x for x in X.columns if x not in ['is_vandalism', 'tag_id', 'revision_id']]\n",
    "X_train = X_train_complete[feature_columns]\n",
    "X_test = X_test_complete[feature_columns]\n",
    "\n",
    "print('Train X', X_train.shape)\n",
    "print('Train y', y_train.shape)\n",
    "\n",
    "print('Test X', X_test.shape)\n",
    "print('Test y', y_test.shape)"
   ]
  },
  {
   "cell_type": "code",
   "execution_count": 145,
   "metadata": {
    "scrolled": true
   },
   "outputs": [
    {
     "name": "stdout",
     "output_type": "stream",
     "text": [
      "Training scores:\n",
      "fit_time : 0.31 (+/- 0.11)\n",
      "score_time : 0.53 (+/- 0.01)\n",
      "test_f1 : 0.69 (+/- 0.17)\n",
      "test_precision : 0.62 (+/- 0.04)\n",
      "test_recall : 0.79 (+/- 0.35)\n",
      "test_roc_auc : 0.78 (+/- 0.01)\n",
      "test_accuracy : 0.67 (+/- 0.08)\n"
     ]
    }
   ],
   "source": [
    "# Build model and evaluate parameters using crossvalidation\n",
    "clf = RandomForestClassifier(n_estimators=100, class_weight='balanced', n_jobs = -1)\n",
    "\n",
    "scores = cross_validate(clf, X_train, y_train,\n",
    "                        scoring=['f1', 'precision', 'recall', 'roc_auc', 'accuracy'],\n",
    "                        cv=3, return_train_score=False)    \n",
    "\n",
    "print('Training scores:')\n",
    "for name, values in scores.items():\n",
    "    print(name, \": %0.2f (+/- %0.2f)\" % (values.mean(), values.std() * 2))"
   ]
  },
  {
   "cell_type": "code",
   "execution_count": 146,
   "metadata": {},
   "outputs": [
    {
     "name": "stdout",
     "output_type": "stream",
     "text": [
      "Training scores:\n"
     ]
    },
    {
     "data": {
      "text/html": [
       "<div>\n",
       "<style scoped>\n",
       "    .dataframe tbody tr th:only-of-type {\n",
       "        vertical-align: middle;\n",
       "    }\n",
       "\n",
       "    .dataframe tbody tr th {\n",
       "        vertical-align: top;\n",
       "    }\n",
       "\n",
       "    .dataframe thead th {\n",
       "        text-align: right;\n",
       "    }\n",
       "</style>\n",
       "<table border=\"1\" class=\"dataframe\">\n",
       "  <thead>\n",
       "    <tr style=\"text-align: right;\">\n",
       "      <th></th>\n",
       "      <th>Predicted No Vandalism</th>\n",
       "      <th>Predicted Vandalism</th>\n",
       "    </tr>\n",
       "  </thead>\n",
       "  <tbody>\n",
       "    <tr>\n",
       "      <th>True No Vandalism</th>\n",
       "      <td>22</td>\n",
       "      <td>13</td>\n",
       "    </tr>\n",
       "    <tr>\n",
       "      <th>True Vandalism</th>\n",
       "      <td>10</td>\n",
       "      <td>24</td>\n",
       "    </tr>\n",
       "  </tbody>\n",
       "</table>\n",
       "</div>"
      ],
      "text/plain": [
       "                   Predicted No Vandalism  Predicted Vandalism\n",
       "True No Vandalism                      22                   13\n",
       "True Vandalism                         10                   24"
      ]
     },
     "execution_count": 146,
     "metadata": {},
     "output_type": "execute_result"
    }
   ],
   "source": [
    "# Evaluate model parameters: Confusion matrix\n",
    "columns = ['Predicted No Vandalism', 'Predicted Vandalism']\n",
    "index = ['True No Vandalism', 'True Vandalism']\n",
    "classes = ['No Vandalism', 'Vandalism']\n",
    "\n",
    "y_train_predict = cross_val_predict(clf, X_train, y_train, cv=3)\n",
    "cf_matrix = confusion_matrix(y_train, y_train_predict)\n",
    "\n",
    "print('Training scores:')\n",
    "pd.DataFrame(cf_matrix, columns=columns, index=index)"
   ]
  },
  {
   "cell_type": "code",
   "execution_count": 147,
   "metadata": {
    "scrolled": false
   },
   "outputs": [
    {
     "name": "stdout",
     "output_type": "stream",
     "text": [
      "Training scores:\n",
      "              precision    recall  f1-score   support\n",
      "\n",
      "No Vandalism       0.69      0.63      0.66        35\n",
      "   Vandalism       0.65      0.71      0.68        34\n",
      "\n",
      " avg / total       0.67      0.67      0.67        69\n",
      "\n"
     ]
    }
   ],
   "source": [
    "# Evaluate model parameters: Classification report\n",
    "print('Training scores:')\n",
    "print(classification_report(y_train, y_train_predict, target_names=classes))"
   ]
  },
  {
   "cell_type": "code",
   "execution_count": 148,
   "metadata": {
    "scrolled": true
   },
   "outputs": [],
   "source": [
    "# Train model\n",
    "clf.fit(X_train, y_train)\n",
    "y_predict = clf.predict(X_test)\n",
    "y_predict_prob = clf.predict_proba(X_test)\n",
    "y_predict_vandalism = y_predict_prob[:,1]"
   ]
  },
  {
   "cell_type": "code",
   "execution_count": 149,
   "metadata": {},
   "outputs": [
    {
     "data": {
      "text/plain": [
       "0.38"
      ]
     },
     "execution_count": 149,
     "metadata": {},
     "output_type": "execute_result"
    }
   ],
   "source": [
    "y_predict_vandalism[10]"
   ]
  },
  {
   "cell_type": "code",
   "execution_count": 150,
   "metadata": {},
   "outputs": [
    {
     "name": "stdout",
     "output_type": "stream",
     "text": [
      "Precision and recall scores:\n"
     ]
    },
    {
     "data": {
      "image/png": "[encoded data removed]",
      "text/plain": [
       "<Figure size 432x288 with 1 Axes>"
      ]
     },
     "metadata": {},
     "output_type": "display_data"
    },
    {
     "name": "stdout",
     "output_type": "stream",
     "text": [
      "PR-AUC 0.6172354205248943\n"
     ]
    }
   ],
   "source": [
    "# Evaluate model: Precision & Recall\n",
    "print('Precision and recall scores:')\n",
    "\n",
    "precision, recall, thresholds = precision_recall_curve(y_test, y_predict_vandalism)\n",
    "average_precision = average_precision_score(y_test, y_predict_vandalism)\n",
    "\n",
    "plt.title('Precision-Recall: Average Precision=  %0.2f' % average_precision)\n",
    "plt.step(recall, precision, color='b', where='post')\n",
    "plt.xticks(np.arange(0, 1.1, 0.1))\n",
    "plt.yticks(np.arange(0, 1.1, 0.1))\n",
    "plt.ylabel('Precision')\n",
    "plt.xlabel('Recall')\n",
    "plt.show()\n",
    "\n",
    "print(\"PR-AUC\", auc(recall, precision))"
   ]
  },
  {
   "cell_type": "code",
   "execution_count": 151,
   "metadata": {},
   "outputs": [
    {
     "name": "stdout",
     "output_type": "stream",
     "text": [
      "Final model scores:\n"
     ]
    },
    {
     "data": {
      "text/html": [
       "<div>\n",
       "<style scoped>\n",
       "    .dataframe tbody tr th:only-of-type {\n",
       "        vertical-align: middle;\n",
       "    }\n",
       "\n",
       "    .dataframe tbody tr th {\n",
       "        vertical-align: top;\n",
       "    }\n",
       "\n",
       "    .dataframe thead th {\n",
       "        text-align: right;\n",
       "    }\n",
       "</style>\n",
       "<table border=\"1\" class=\"dataframe\">\n",
       "  <thead>\n",
       "    <tr style=\"text-align: right;\">\n",
       "      <th></th>\n",
       "      <th>Predicted No Vandalism</th>\n",
       "      <th>Predicted Vandalism</th>\n",
       "    </tr>\n",
       "  </thead>\n",
       "  <tbody>\n",
       "    <tr>\n",
       "      <th>True No Vandalism</th>\n",
       "      <td>7</td>\n",
       "      <td>4</td>\n",
       "    </tr>\n",
       "    <tr>\n",
       "      <th>True Vandalism</th>\n",
       "      <td>6</td>\n",
       "      <td>6</td>\n",
       "    </tr>\n",
       "  </tbody>\n",
       "</table>\n",
       "</div>"
      ],
      "text/plain": [
       "                   Predicted No Vandalism  Predicted Vandalism\n",
       "True No Vandalism                       7                    4\n",
       "True Vandalism                          6                    6"
      ]
     },
     "execution_count": 151,
     "metadata": {},
     "output_type": "execute_result"
    }
   ],
   "source": [
    "# Evaluate model: Confusion matrix\n",
    "columns = ['Predicted No Vandalism', 'Predicted Vandalism']\n",
    "index = ['True No Vandalism', 'True Vandalism']\n",
    "\n",
    "print('Final model scores:')\n",
    "pd.DataFrame(confusion_matrix(y_test, y_predict), columns=columns, index=index)"
   ]
  },
  {
   "cell_type": "code",
   "execution_count": 152,
   "metadata": {
    "scrolled": true
   },
   "outputs": [
    {
     "name": "stdout",
     "output_type": "stream",
     "text": [
      "Final model scores:\n",
      "              precision    recall  f1-score   support\n",
      "\n",
      "No Vandalism       0.54      0.64      0.58        11\n",
      "   Vandalism       0.60      0.50      0.55        12\n",
      "\n",
      " avg / total       0.57      0.57      0.56        23\n",
      "\n"
     ]
    }
   ],
   "source": [
    "# Evaluate model: Classification report\n",
    "print('Final model scores:')\n",
    "print(classification_report(y_test, y_predict, target_names=classes))"
   ]
  },
  {
   "cell_type": "code",
   "execution_count": 153,
   "metadata": {},
   "outputs": [
    {
     "name": "stdout",
     "output_type": "stream",
     "text": [
      "Final model scores:\n",
      "roc_auc 0.6893939393939393\n"
     ]
    },
    {
     "data": {
      "image/png": "[encoded data removed]",
      "text/plain": [
       "<Figure size 432x288 with 1 Axes>"
      ]
     },
     "metadata": {},
     "output_type": "display_data"
    }
   ],
   "source": [
    "false_positive_rate, true_positive_rate, thresholds = roc_curve(y_test, y_predict_vandalism)\n",
    "roc_auc = auc(false_positive_rate, true_positive_rate)\n",
    "print('Final model scores:')\n",
    "print('roc_auc', roc_auc)\n",
    "\n",
    "plt.title('Receiver Operating Characteristic')\n",
    "plt.plot(false_positive_rate, true_positive_rate, 'b', label = 'AUC = %0.2f' % roc_auc)\n",
    "plt.legend(loc = 'lower right')\n",
    "plt.plot([0, 1], [0, 1],'r--')\n",
    "plt.xlim([0, 1])\n",
    "plt.ylim([0, 1])\n",
    "plt.ylabel('True Positive Rate')\n",
    "plt.xlabel('False Positive Rate')\n",
    "plt.show()"
   ]
  },
  {
   "cell_type": "code",
   "execution_count": 154,
   "metadata": {},
   "outputs": [
    {
     "data": {
      "image/png": "[encoded data removed]",
      "text/plain": [
       "<Figure size 288x288 with 1 Axes>"
      ]
     },
     "metadata": {},
     "output_type": "display_data"
    }
   ],
   "source": [
    "# Error analysis\n",
    "y_train_predict = cross_val_predict(clf, X_train, y_train, cv=3)\n",
    "cf_matrix = confusion_matrix(y_train, y_train_predict)\n",
    "\n",
    "plt.matshow(cf_matrix, cmap=plt.cm.gray)\n",
    "plt.show()"
   ]
  },
  {
   "cell_type": "code",
   "execution_count": 155,
   "metadata": {},
   "outputs": [
    {
     "data": {
      "text/html": [
       "\n",
       "        Syntax: \n",
       "        <a href=\"http://en.wikipedia.org/w/index.php?diff=9899190\">\n",
       "          9899190 \n",
       "        </a>\n",
       "    ,&nbsp;\n",
       "        Syntax: \n",
       "        <a href=\"http://en.wikipedia.org/w/index.php?diff=713711004\">\n",
       "          713711004 \n",
       "        </a>\n",
       "    ,&nbsp;\n",
       "        Syntax: \n",
       "        <a href=\"http://en.wikipedia.org/w/index.php?diff=688616436\">\n",
       "          688616436 \n",
       "        </a>\n",
       "    ,&nbsp;\n",
       "        Syntax: \n",
       "        <a href=\"http://en.wikipedia.org/w/index.php?diff=78185318\">\n",
       "          78185318 \n",
       "        </a>\n",
       "    ,&nbsp;\n",
       "        Syntax: \n",
       "        <a href=\"http://en.wikipedia.org/w/index.php?diff=543802716\">\n",
       "          543802716 \n",
       "        </a>\n",
       "    ,&nbsp;\n",
       "        Syntax: \n",
       "        <a href=\"http://en.wikipedia.org/w/index.php?diff=571702669\">\n",
       "          571702669 \n",
       "        </a>\n",
       "    "
      ],
      "text/plain": [
       "<IPython.core.display.HTML object>"
      ]
     },
     "metadata": {},
     "output_type": "display_data"
    }
   ],
   "source": [
    "# Showing some instances not classifed correctly\n",
    "\n",
    "# False Negatives for the test set\n",
    "fn_test = X_test_complete[(y_test == 1) & (y_predict == 0)]\n",
    "fn_with_labels = fn_test.merge(tag_df, how='left', left_on='tag_id', right_on='id')\n",
    "#fn_with_labels[['revision_id', 'tag_id', 'name']]\n",
    "\n",
    "fn_html = []\n",
    "for _, item in fn_with_labels.iterrows():\n",
    "    item_html = \"\"\"\n",
    "        {tag}: \n",
    "        <a href=\"http://en.wikipedia.org/w/index.php?diff={rev_id}\">\n",
    "          {rev_id} \n",
    "        </a>\n",
    "    \"\"\".format(rev_id=int(item['revision_id']), tag=item['name'])\n",
    "    fn_html.append(item_html)\n",
    "display(HTML(',&nbsp;'.join(fn_html)))"
   ]
  },
  {
   "cell_type": "code",
   "execution_count": 156,
   "metadata": {},
   "outputs": [
    {
     "data": {
      "image/png": "[encoded data removed]",
      "text/plain": [
       "<Figure size 432x288 with 1 Axes>"
      ]
     },
     "metadata": {},
     "output_type": "display_data"
    }
   ],
   "source": [
    "fn_tag_counts = fn_with_labels.name.value_counts()\n",
    "fn_tag_x = np.arange(len(fn_tag_counts))\n",
    "plt.bar(fn_tag_x, fn_tag_counts.values)\n",
    "plt.xticks(fn_tag_x, fn_tag_counts.index, rotation=45)\n",
    "plt.show()"
   ]
  },
  {
   "cell_type": "code",
   "execution_count": 157,
   "metadata": {},
   "outputs": [
    {
     "data": {
      "text/html": [
       "<div>\n",
       "<style scoped>\n",
       "    .dataframe tbody tr th:only-of-type {\n",
       "        vertical-align: middle;\n",
       "    }\n",
       "\n",
       "    .dataframe tbody tr th {\n",
       "        vertical-align: top;\n",
       "    }\n",
       "\n",
       "    .dataframe thead th {\n",
       "        text-align: right;\n",
       "    }\n",
       "</style>\n",
       "<table border=\"1\" class=\"dataframe\">\n",
       "  <thead>\n",
       "    <tr style=\"text-align: right;\">\n",
       "      <th></th>\n",
       "      <th>revision_id</th>\n",
       "      <th>tag_id</th>\n",
       "      <th>name</th>\n",
       "    </tr>\n",
       "  </thead>\n",
       "  <tbody>\n",
       "    <tr>\n",
       "      <th>0</th>\n",
       "      <td>586811243.0</td>\n",
       "      <td>11.0</td>\n",
       "      <td>Intention</td>\n",
       "    </tr>\n",
       "    <tr>\n",
       "      <th>1</th>\n",
       "      <td>543863782.0</td>\n",
       "      <td>11.0</td>\n",
       "      <td>Intention</td>\n",
       "    </tr>\n",
       "    <tr>\n",
       "      <th>2</th>\n",
       "      <td>141060584.0</td>\n",
       "      <td>12.0</td>\n",
       "      <td>constructive</td>\n",
       "    </tr>\n",
       "    <tr>\n",
       "      <th>3</th>\n",
       "      <td>476528714.0</td>\n",
       "      <td>12.0</td>\n",
       "      <td>constructive</td>\n",
       "    </tr>\n",
       "  </tbody>\n",
       "</table>\n",
       "</div>"
      ],
      "text/plain": [
       "   revision_id  tag_id          name\n",
       "0  586811243.0    11.0     Intention\n",
       "1  543863782.0    11.0     Intention\n",
       "2  141060584.0    12.0  constructive\n",
       "3  476528714.0    12.0  constructive"
      ]
     },
     "execution_count": 157,
     "metadata": {},
     "output_type": "execute_result"
    }
   ],
   "source": [
    "# False Positives for the test set\n",
    "fp_test = X_test_complete[(y_test == 0) & (y_predict == 1)]\n",
    "fp_with_labels = fp_test.merge(tag_df, how='left', left_on='tag_id', right_on='id')\n",
    "fp_with_labels[['revision_id', 'tag_id', 'name']]"
   ]
  },
  {
   "cell_type": "code",
   "execution_count": 158,
   "metadata": {},
   "outputs": [
    {
     "data": {
      "image/png": "[encoded data removed]",
      "text/plain": [
       "<Figure size 432x288 with 1 Axes>"
      ]
     },
     "metadata": {},
     "output_type": "display_data"
    }
   ],
   "source": [
    "fp_tag_counts = fp_with_labels.name.value_counts()\n",
    "tag_x = np.arange(len(fp_tag_counts))\n",
    "plt.bar(tag_x, fp_tag_counts.values)\n",
    "plt.xticks(tag_x, fp_tag_counts.index, rotation=45)\n",
    "plt.show()"
   ]
  },
  {
   "cell_type": "code",
   "execution_count": 159,
   "metadata": {
    "scrolled": false
   },
   "outputs": [
    {
     "data": {
      "image/png": "[encoded data removed]",
      "text/plain": [
       "<Figure size 1008x432 with 1 Axes>"
      ]
     },
     "metadata": {},
     "output_type": "display_data"
    }
   ],
   "source": [
    "# Feature importance (weights in random forrest)\n",
    "feature_importance = clf.feature_importances_\n",
    "feature_labels = X_train.columns\n",
    "x_pos = np.arange(len(feature_importance)) \n",
    "\n",
    "plt.gcf().set_size_inches(14, 6)\n",
    "plt.bar(x_pos, feature_importance,align='center')\n",
    "plt.xticks(x_pos, feature_labels, rotation='vertical') \n",
    "plt.ylabel('Feature Importance')\n",
    "plt.show()"
   ]
  },
  {
   "cell_type": "code",
   "execution_count": null,
   "metadata": {},
   "outputs": [],
   "source": []
  },
  {
   "cell_type": "code",
   "execution_count": null,
   "metadata": {},
   "outputs": [],
   "source": []
  }
 ],
 "metadata": {
  "kernelspec": {
   "display_name": "Python 3",
   "language": "python",
   "name": "python3"
  },
  "language_info": {
   "codemirror_mode": {
    "name": "ipython",
    "version": 3
   },
   "file_extension": ".py",
   "mimetype": "text/x-python",
   "name": "python",
   "nbconvert_exporter": "python",
   "pygments_lexer": "ipython3",
   "version": "3.6.5"
  }
 },
 "nbformat": 4,
 "nbformat_minor": 2
}
