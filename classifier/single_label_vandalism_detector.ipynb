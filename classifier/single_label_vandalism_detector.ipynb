{
 "cells": [
  {
   "cell_type": "markdown",
   "metadata": {},
   "source": [
    "Improvements over binary classifier:\n",
    "\n",
    "- removed unused graphviz import\n",
    "- define labels to classify: simply encode (no) vandalism according to a set of labels\n",
    "- use features computed by rev 5f03bf5 of the vandalism detector, includes revision ID\n",
    "- use DataFrame - it works the same and retains column labels etc.\n",
    "- added plt.show() to error analysis to draw matrix\n",
    "- add example FP and FN (= misclassified revisions)\n",
    "- added plot for FP frequency per tag\n"
   ]
  },
  {
   "cell_type": "code",
   "execution_count": 1,
   "metadata": {},
   "outputs": [],
   "source": [
    "import pandas as pd\n",
    "import numpy as np\n",
    "import matplotlib.pyplot as plt\n",
    "from sklearn.model_selection import train_test_split, cross_validate, cross_val_predict\n",
    "from sklearn.ensemble import RandomForestClassifier\n",
    "from sklearn.feature_selection import SelectFromModel\n",
    "from sklearn.metrics import classification_report, accuracy_score, f1_score, precision_score, recall_score, roc_curve, auc, precision_recall_curve, confusion_matrix, average_precision_score\n",
    "from sklearn.pipeline import Pipeline"
   ]
  },
  {
   "cell_type": "code",
   "execution_count": 2,
   "metadata": {},
   "outputs": [
    {
     "data": {
      "text/html": [
       "<div>\n",
       "<style scoped>\n",
       "    .dataframe tbody tr th:only-of-type {\n",
       "        vertical-align: middle;\n",
       "    }\n",
       "\n",
       "    .dataframe tbody tr th {\n",
       "        vertical-align: top;\n",
       "    }\n",
       "\n",
       "    .dataframe thead th {\n",
       "        text-align: right;\n",
       "    }\n",
       "</style>\n",
       "<table border=\"1\" class=\"dataframe\">\n",
       "  <thead>\n",
       "    <tr style=\"text-align: right;\">\n",
       "      <th></th>\n",
       "      <th>isContributorAnonymous</th>\n",
       "      <th>isBot</th>\n",
       "      <th>timeOfDay</th>\n",
       "      <th>dayOfWeek</th>\n",
       "      <th>isMinorEdit</th>\n",
       "      <th>hasPreviousSameContributor</th>\n",
       "      <th>timeSinceLastArticleEdit</th>\n",
       "      <th>timeSinceLastArticleEditBySameContributor</th>\n",
       "      <th>revertCount</th>\n",
       "      <th>ratioOffAllEditsToContributorEdits</th>\n",
       "      <th>...</th>\n",
       "      <th>lengthOfLongestConsecutiveSequenceOfSingleChar</th>\n",
       "      <th>lengthOfLongestToken</th>\n",
       "      <th>averageRelativeFrequencyOfNewAddedWords</th>\n",
       "      <th>previousLength</th>\n",
       "      <th>sizeChange</th>\n",
       "      <th>LZWCompressionRate</th>\n",
       "      <th>KLDOfCharDistribution</th>\n",
       "      <th>commentLength</th>\n",
       "      <th>revision_id</th>\n",
       "      <th>tag_id</th>\n",
       "    </tr>\n",
       "  </thead>\n",
       "  <tbody>\n",
       "    <tr>\n",
       "      <th>0</th>\n",
       "      <td>1</td>\n",
       "      <td>0</td>\n",
       "      <td>2</td>\n",
       "      <td>2</td>\n",
       "      <td>0</td>\n",
       "      <td>1</td>\n",
       "      <td>2</td>\n",
       "      <td>2</td>\n",
       "      <td>0</td>\n",
       "      <td>0.006601</td>\n",
       "      <td>...</td>\n",
       "      <td>4</td>\n",
       "      <td>160</td>\n",
       "      <td>0.0</td>\n",
       "      <td>45027</td>\n",
       "      <td>7</td>\n",
       "      <td>0.338064</td>\n",
       "      <td>5.563610</td>\n",
       "      <td>14</td>\n",
       "      <td>721792503</td>\n",
       "      <td>6</td>\n",
       "    </tr>\n",
       "    <tr>\n",
       "      <th>1</th>\n",
       "      <td>0</td>\n",
       "      <td>0</td>\n",
       "      <td>11</td>\n",
       "      <td>7</td>\n",
       "      <td>1</td>\n",
       "      <td>0</td>\n",
       "      <td>66790</td>\n",
       "      <td>-1</td>\n",
       "      <td>0</td>\n",
       "      <td>0.008696</td>\n",
       "      <td>...</td>\n",
       "      <td>3</td>\n",
       "      <td>27</td>\n",
       "      <td>0.0</td>\n",
       "      <td>8197</td>\n",
       "      <td>-1</td>\n",
       "      <td>0.326897</td>\n",
       "      <td>0.000000</td>\n",
       "      <td>0</td>\n",
       "      <td>155191589</td>\n",
       "      <td>12</td>\n",
       "    </tr>\n",
       "    <tr>\n",
       "      <th>2</th>\n",
       "      <td>1</td>\n",
       "      <td>0</td>\n",
       "      <td>23</td>\n",
       "      <td>4</td>\n",
       "      <td>0</td>\n",
       "      <td>0</td>\n",
       "      <td>1681</td>\n",
       "      <td>-1</td>\n",
       "      <td>0</td>\n",
       "      <td>0.001276</td>\n",
       "      <td>...</td>\n",
       "      <td>2</td>\n",
       "      <td>27</td>\n",
       "      <td>0.0</td>\n",
       "      <td>549</td>\n",
       "      <td>-6</td>\n",
       "      <td>0.496466</td>\n",
       "      <td>233.782003</td>\n",
       "      <td>17</td>\n",
       "      <td>206360230</td>\n",
       "      <td>2</td>\n",
       "    </tr>\n",
       "    <tr>\n",
       "      <th>3</th>\n",
       "      <td>1</td>\n",
       "      <td>0</td>\n",
       "      <td>6</td>\n",
       "      <td>4</td>\n",
       "      <td>0</td>\n",
       "      <td>0</td>\n",
       "      <td>3412</td>\n",
       "      <td>-1</td>\n",
       "      <td>0</td>\n",
       "      <td>0.001495</td>\n",
       "      <td>...</td>\n",
       "      <td>3</td>\n",
       "      <td>91</td>\n",
       "      <td>0.0</td>\n",
       "      <td>6919</td>\n",
       "      <td>-5</td>\n",
       "      <td>0.287100</td>\n",
       "      <td>515.060308</td>\n",
       "      <td>20</td>\n",
       "      <td>287001519</td>\n",
       "      <td>6</td>\n",
       "    </tr>\n",
       "    <tr>\n",
       "      <th>4</th>\n",
       "      <td>0</td>\n",
       "      <td>0</td>\n",
       "      <td>11</td>\n",
       "      <td>3</td>\n",
       "      <td>0</td>\n",
       "      <td>0</td>\n",
       "      <td>1158</td>\n",
       "      <td>9676</td>\n",
       "      <td>0</td>\n",
       "      <td>0.004098</td>\n",
       "      <td>...</td>\n",
       "      <td>2</td>\n",
       "      <td>18</td>\n",
       "      <td>0.0</td>\n",
       "      <td>612</td>\n",
       "      <td>12</td>\n",
       "      <td>0.618250</td>\n",
       "      <td>1024.000000</td>\n",
       "      <td>0</td>\n",
       "      <td>438035365</td>\n",
       "      <td>12</td>\n",
       "    </tr>\n",
       "  </tbody>\n",
       "</table>\n",
       "<p>5 rows × 51 columns</p>\n",
       "</div>"
      ],
      "text/plain": [
       "   isContributorAnonymous  isBot  timeOfDay  dayOfWeek  isMinorEdit  \\\n",
       "0                       1      0          2          2            0   \n",
       "1                       0      0         11          7            1   \n",
       "2                       1      0         23          4            0   \n",
       "3                       1      0          6          4            0   \n",
       "4                       0      0         11          3            0   \n",
       "\n",
       "   hasPreviousSameContributor  timeSinceLastArticleEdit  \\\n",
       "0                           1                         2   \n",
       "1                           0                     66790   \n",
       "2                           0                      1681   \n",
       "3                           0                      3412   \n",
       "4                           0                      1158   \n",
       "\n",
       "   timeSinceLastArticleEditBySameContributor  revertCount  \\\n",
       "0                                          2            0   \n",
       "1                                         -1            0   \n",
       "2                                         -1            0   \n",
       "3                                         -1            0   \n",
       "4                                       9676            0   \n",
       "\n",
       "   ratioOffAllEditsToContributorEdits   ...    \\\n",
       "0                            0.006601   ...     \n",
       "1                            0.008696   ...     \n",
       "2                            0.001276   ...     \n",
       "3                            0.001495   ...     \n",
       "4                            0.004098   ...     \n",
       "\n",
       "   lengthOfLongestConsecutiveSequenceOfSingleChar  lengthOfLongestToken  \\\n",
       "0                                               4                   160   \n",
       "1                                               3                    27   \n",
       "2                                               2                    27   \n",
       "3                                               3                    91   \n",
       "4                                               2                    18   \n",
       "\n",
       "   averageRelativeFrequencyOfNewAddedWords  previousLength  sizeChange  \\\n",
       "0                                      0.0           45027           7   \n",
       "1                                      0.0            8197          -1   \n",
       "2                                      0.0             549          -6   \n",
       "3                                      0.0            6919          -5   \n",
       "4                                      0.0             612          12   \n",
       "\n",
       "   LZWCompressionRate  KLDOfCharDistribution  commentLength  revision_id  \\\n",
       "0            0.338064               5.563610             14    721792503   \n",
       "1            0.326897               0.000000              0    155191589   \n",
       "2            0.496466             233.782003             17    206360230   \n",
       "3            0.287100             515.060308             20    287001519   \n",
       "4            0.618250            1024.000000              0    438035365   \n",
       "\n",
       "   tag_id  \n",
       "0       6  \n",
       "1      12  \n",
       "2       2  \n",
       "3       6  \n",
       "4      12  \n",
       "\n",
       "[5 rows x 51 columns]"
      ]
     },
     "execution_count": 2,
     "metadata": {},
     "output_type": "execute_result"
    }
   ],
   "source": [
    "# Import dataset\n",
    "df = pd.read_csv('./data/features_modified_total6100.csv')\n",
    "tag_df = pd.read_csv('./data/tag.csv')\n",
    "labels = df.columns\n",
    "df.head()"
   ]
  },
  {
   "cell_type": "code",
   "execution_count": 3,
   "metadata": {},
   "outputs": [],
   "source": [
    "# Encode vandalism or no vandalism according to tags-of-interest\n",
    "TAG_IDS = [6]\n",
    "df['is_vandalism'] = df.tag_id.isin(TAG_IDS)"
   ]
  },
  {
   "cell_type": "code",
   "execution_count": 4,
   "metadata": {},
   "outputs": [],
   "source": [
    "X = df\n",
    "y = df['is_vandalism']\n",
    "labels = X.columns"
   ]
  },
  {
   "cell_type": "code",
   "execution_count": 5,
   "metadata": {},
   "outputs": [
    {
     "name": "stdout",
     "output_type": "stream",
     "text": [
      "Train X (74, 49)\n",
      "Train y (74,)\n",
      "Test X (25, 49)\n",
      "Test y (25,)\n"
     ]
    }
   ],
   "source": [
    "# Split dataset into training and test\n",
    "X_train_complete, X_test_complete, y_train, y_test = train_test_split(X, y)\n",
    "\n",
    "# Truncate metadata columns\n",
    "feature_columns = [x for x in X.columns if x not in ['is_vandalism', 'tag_id', 'revision_id']]\n",
    "X_train = X_train_complete[feature_columns]\n",
    "X_test = X_test_complete[feature_columns]\n",
    "\n",
    "print('Train X', X_train.shape)\n",
    "print('Train y', y_train.shape)\n",
    "\n",
    "print('Test X', X_test.shape)\n",
    "print('Test y', y_test.shape)"
   ]
  },
  {
   "cell_type": "code",
   "execution_count": 6,
   "metadata": {
    "scrolled": true
   },
   "outputs": [
    {
     "name": "stdout",
     "output_type": "stream",
     "text": [
      "Training scores:\n",
      "fit_time : 0.04 (+/- 0.05)\n",
      "score_time : 0.02 (+/- 0.02)\n",
      "test_f1 : 0.42 (+/- 0.06)\n",
      "test_precision : 0.48 (+/- 0.04)\n",
      "test_recall : 0.37 (+/- 0.09)\n",
      "test_roc_auc : 0.46 (+/- 0.07)\n",
      "test_accuracy : 0.47 (+/- 0.05)\n"
     ]
    }
   ],
   "source": [
    "# Build model and evaluate parameters using crossvalidation\n",
    "clf = RandomForestClassifier(class_weight='balanced')\n",
    "\n",
    "scores = cross_validate(clf, X_train, y_train,\n",
    "                        scoring=['f1', 'precision', 'recall', 'roc_auc', 'accuracy'],\n",
    "                        cv=3, return_train_score=False)    \n",
    "\n",
    "print('Training scores:')\n",
    "for name, values in scores.items():\n",
    "    print(name, \": %0.2f (+/- %0.2f)\" % (values.mean(), values.std() * 2))"
   ]
  },
  {
   "cell_type": "code",
   "execution_count": 7,
   "metadata": {},
   "outputs": [
    {
     "name": "stdout",
     "output_type": "stream",
     "text": [
      "Training scores:\n"
     ]
    },
    {
     "data": {
      "text/html": [
       "<div>\n",
       "<style scoped>\n",
       "    .dataframe tbody tr th:only-of-type {\n",
       "        vertical-align: middle;\n",
       "    }\n",
       "\n",
       "    .dataframe tbody tr th {\n",
       "        vertical-align: top;\n",
       "    }\n",
       "\n",
       "    .dataframe thead th {\n",
       "        text-align: right;\n",
       "    }\n",
       "</style>\n",
       "<table border=\"1\" class=\"dataframe\">\n",
       "  <thead>\n",
       "    <tr style=\"text-align: right;\">\n",
       "      <th></th>\n",
       "      <th>Predicted No Vandalism</th>\n",
       "      <th>Predicted Vandalism</th>\n",
       "    </tr>\n",
       "  </thead>\n",
       "  <tbody>\n",
       "    <tr>\n",
       "      <th>True No Vandalism</th>\n",
       "      <td>27</td>\n",
       "      <td>9</td>\n",
       "    </tr>\n",
       "    <tr>\n",
       "      <th>True Vandalism</th>\n",
       "      <td>23</td>\n",
       "      <td>15</td>\n",
       "    </tr>\n",
       "  </tbody>\n",
       "</table>\n",
       "</div>"
      ],
      "text/plain": [
       "                   Predicted No Vandalism  Predicted Vandalism\n",
       "True No Vandalism                      27                    9\n",
       "True Vandalism                         23                   15"
      ]
     },
     "execution_count": 7,
     "metadata": {},
     "output_type": "execute_result"
    }
   ],
   "source": [
    "# Evaluate model parameters: Confusion matrix\n",
    "columns = ['Predicted No Vandalism', 'Predicted Vandalism']\n",
    "index = ['True No Vandalism', 'True Vandalism']\n",
    "classes = ['No Vandalism', 'Vandalism']\n",
    "\n",
    "y_train_predict = cross_val_predict(clf, X_train, y_train, cv=3)\n",
    "cf_matrix = confusion_matrix(y_train, y_train_predict)\n",
    "\n",
    "print('Training scores:')\n",
    "pd.DataFrame(cf_matrix, columns=columns, index=index)"
   ]
  },
  {
   "cell_type": "code",
   "execution_count": 8,
   "metadata": {
    "scrolled": false
   },
   "outputs": [
    {
     "name": "stdout",
     "output_type": "stream",
     "text": [
      "Training scores:\n",
      "              precision    recall  f1-score   support\n",
      "\n",
      "No Vandalism       0.54      0.75      0.63        36\n",
      "   Vandalism       0.62      0.39      0.48        38\n",
      "\n",
      " avg / total       0.58      0.57      0.55        74\n",
      "\n"
     ]
    }
   ],
   "source": [
    "# Evaluate model parameters: Classification report\n",
    "print('Training scores:')\n",
    "print(classification_report(y_train, y_train_predict, target_names=classes))"
   ]
  },
  {
   "cell_type": "code",
   "execution_count": 9,
   "metadata": {
    "scrolled": true
   },
   "outputs": [],
   "source": [
    "# Train model\n",
    "clf.fit(X_train, y_train)\n",
    "y_predict = clf.predict(X_test)\n",
    "y_predict_prob = clf.predict_proba(X_test)\n",
    "y_predict_vandalism = y_predict_prob[:,1]"
   ]
  },
  {
   "cell_type": "code",
   "execution_count": 10,
   "metadata": {},
   "outputs": [
    {
     "name": "stdout",
     "output_type": "stream",
     "text": [
      "Precision and recall scores:\n"
     ]
    },
    {
     "data": {
      "image/png": "[encoded data removed]",
      "text/plain": [
       "<Figure size 432x288 with 1 Axes>"
      ]
     },
     "metadata": {},
     "output_type": "display_data"
    }
   ],
   "source": [
    "# Evaluate model: Precision & Recall\n",
    "print('Precision and recall scores:')\n",
    "\n",
    "precision, recall, thresholds = precision_recall_curve(y_test, y_predict_vandalism)\n",
    "average_precision = average_precision_score(y_test, y_predict_vandalism)\n",
    "\n",
    "plt.title('Precision-Recall: Average Precision=  %0.2f' % average_precision)\n",
    "plt.step(recall, precision, color='b', where='post')\n",
    "plt.xticks(np.arange(0, 1.1, 0.1))\n",
    "plt.yticks(np.arange(0, 1.1, 0.1))\n",
    "plt.ylabel('Precision')\n",
    "plt.xlabel('Recall')\n",
    "plt.show()"
   ]
  },
  {
   "cell_type": "code",
   "execution_count": 11,
   "metadata": {},
   "outputs": [
    {
     "name": "stdout",
     "output_type": "stream",
     "text": [
      "Final model scores:\n"
     ]
    },
    {
     "data": {
      "text/html": [
       "<div>\n",
       "<style scoped>\n",
       "    .dataframe tbody tr th:only-of-type {\n",
       "        vertical-align: middle;\n",
       "    }\n",
       "\n",
       "    .dataframe tbody tr th {\n",
       "        vertical-align: top;\n",
       "    }\n",
       "\n",
       "    .dataframe thead th {\n",
       "        text-align: right;\n",
       "    }\n",
       "</style>\n",
       "<table border=\"1\" class=\"dataframe\">\n",
       "  <thead>\n",
       "    <tr style=\"text-align: right;\">\n",
       "      <th></th>\n",
       "      <th>Predicted No Vandalism</th>\n",
       "      <th>Predicted Vandalism</th>\n",
       "    </tr>\n",
       "  </thead>\n",
       "  <tbody>\n",
       "    <tr>\n",
       "      <th>True No Vandalism</th>\n",
       "      <td>12</td>\n",
       "      <td>5</td>\n",
       "    </tr>\n",
       "    <tr>\n",
       "      <th>True Vandalism</th>\n",
       "      <td>3</td>\n",
       "      <td>5</td>\n",
       "    </tr>\n",
       "  </tbody>\n",
       "</table>\n",
       "</div>"
      ],
      "text/plain": [
       "                   Predicted No Vandalism  Predicted Vandalism\n",
       "True No Vandalism                      12                    5\n",
       "True Vandalism                          3                    5"
      ]
     },
     "execution_count": 11,
     "metadata": {},
     "output_type": "execute_result"
    }
   ],
   "source": [
    "# Evaluate model: Confusion matrix\n",
    "columns = ['Predicted No Vandalism', 'Predicted Vandalism']\n",
    "index = ['True No Vandalism', 'True Vandalism']\n",
    "\n",
    "print('Final model scores:')\n",
    "pd.DataFrame(confusion_matrix(y_test, y_predict), columns=columns, index=index)"
   ]
  },
  {
   "cell_type": "code",
   "execution_count": 12,
   "metadata": {},
   "outputs": [
    {
     "name": "stdout",
     "output_type": "stream",
     "text": [
      "Final model scores:\n",
      "              precision    recall  f1-score   support\n",
      "\n",
      "No Vandalism       0.80      0.71      0.75        17\n",
      "   Vandalism       0.50      0.62      0.56         8\n",
      "\n",
      " avg / total       0.70      0.68      0.69        25\n",
      "\n"
     ]
    }
   ],
   "source": [
    "# Evaluate model: Classification report\n",
    "print('Final model scores:')\n",
    "print(classification_report(y_test, y_predict, target_names=classes))"
   ]
  },
  {
   "cell_type": "code",
   "execution_count": 13,
   "metadata": {},
   "outputs": [
    {
     "name": "stdout",
     "output_type": "stream",
     "text": [
      "Final model scores:\n",
      "roc_auc 0.7389705882352942\n"
     ]
    },
    {
     "data": {
      "image/png": "[encoded data removed]",
      "text/plain": [
       "<Figure size 432x288 with 1 Axes>"
      ]
     },
     "metadata": {},
     "output_type": "display_data"
    }
   ],
   "source": [
    "false_positive_rate, true_positive_rate, thresholds = roc_curve(y_test, y_predict_vandalism)\n",
    "roc_auc = auc(false_positive_rate, true_positive_rate)\n",
    "print('Final model scores:')\n",
    "print('roc_auc', roc_auc)\n",
    "\n",
    "plt.title('Receiver Operating Characteristic')\n",
    "plt.plot(false_positive_rate, true_positive_rate, 'b', label = 'AUC = %0.2f' % roc_auc)\n",
    "plt.legend(loc = 'lower right')\n",
    "plt.plot([0, 1], [0, 1],'r--')\n",
    "plt.xlim([0, 1])\n",
    "plt.ylim([0, 1])\n",
    "plt.ylabel('True Positive Rate')\n",
    "plt.xlabel('False Positive Rate')\n",
    "plt.show()"
   ]
  },
  {
   "cell_type": "code",
   "execution_count": 14,
   "metadata": {},
   "outputs": [
    {
     "data": {
      "image/png": "[encoded data removed]",
      "text/plain": [
       "<Figure size 288x288 with 1 Axes>"
      ]
     },
     "metadata": {},
     "output_type": "display_data"
    }
   ],
   "source": [
    "# Error analysis\n",
    "y_train_predict = cross_val_predict(clf, X_train, y_train, cv=3)\n",
    "cf_matrix = confusion_matrix(y_train, y_train_predict)\n",
    "\n",
    "plt.matshow(cf_matrix, cmap=plt.cm.gray)\n",
    "plt.show()"
   ]
  },
  {
   "cell_type": "code",
   "execution_count": 15,
   "metadata": {},
   "outputs": [
    {
     "data": {
      "text/html": [
       "<div>\n",
       "<style scoped>\n",
       "    .dataframe tbody tr th:only-of-type {\n",
       "        vertical-align: middle;\n",
       "    }\n",
       "\n",
       "    .dataframe tbody tr th {\n",
       "        vertical-align: top;\n",
       "    }\n",
       "\n",
       "    .dataframe thead th {\n",
       "        text-align: right;\n",
       "    }\n",
       "</style>\n",
       "<table border=\"1\" class=\"dataframe\">\n",
       "  <thead>\n",
       "    <tr style=\"text-align: right;\">\n",
       "      <th></th>\n",
       "      <th>revision_id</th>\n",
       "      <th>tag_id</th>\n",
       "      <th>name</th>\n",
       "    </tr>\n",
       "  </thead>\n",
       "  <tbody>\n",
       "    <tr>\n",
       "      <th>0</th>\n",
       "      <td>671922115</td>\n",
       "      <td>6</td>\n",
       "      <td>Syntax</td>\n",
       "    </tr>\n",
       "    <tr>\n",
       "      <th>1</th>\n",
       "      <td>340014589</td>\n",
       "      <td>6</td>\n",
       "      <td>Syntax</td>\n",
       "    </tr>\n",
       "    <tr>\n",
       "      <th>2</th>\n",
       "      <td>687099447</td>\n",
       "      <td>6</td>\n",
       "      <td>Syntax</td>\n",
       "    </tr>\n",
       "  </tbody>\n",
       "</table>\n",
       "</div>"
      ],
      "text/plain": [
       "   revision_id  tag_id    name\n",
       "0    671922115       6  Syntax\n",
       "1    340014589       6  Syntax\n",
       "2    687099447       6  Syntax"
      ]
     },
     "execution_count": 15,
     "metadata": {},
     "output_type": "execute_result"
    }
   ],
   "source": [
    "# Showing some instances not classifed correctly\n",
    "\n",
    "# False Negatives for the test set\n",
    "fn_test = X_test_complete[(y_test == 1) & (y_predict == 0)]\n",
    "fn_with_labels = fn_test.merge(tag_df, how='left', left_on='tag_id', right_on='id')\n",
    "fn_with_labels[['revision_id', 'tag_id', 'name']]"
   ]
  },
  {
   "cell_type": "code",
   "execution_count": 16,
   "metadata": {},
   "outputs": [
    {
     "data": {
      "image/png": "[encoded data removed]",
      "text/plain": [
       "<Figure size 432x288 with 1 Axes>"
      ]
     },
     "metadata": {},
     "output_type": "display_data"
    }
   ],
   "source": [
    "fn_tag_counts = fn_with_labels.name.value_counts()\n",
    "fn_tag_x = np.arange(len(fn_tag_counts))\n",
    "plt.bar(fn_tag_x, fn_tag_counts.values)\n",
    "plt.xticks(fn_tag_x, fn_tag_counts.index, rotation=45)\n",
    "plt.show()"
   ]
  },
  {
   "cell_type": "code",
   "execution_count": 17,
   "metadata": {},
   "outputs": [
    {
     "data": {
      "text/html": [
       "<div>\n",
       "<style scoped>\n",
       "    .dataframe tbody tr th:only-of-type {\n",
       "        vertical-align: middle;\n",
       "    }\n",
       "\n",
       "    .dataframe tbody tr th {\n",
       "        vertical-align: top;\n",
       "    }\n",
       "\n",
       "    .dataframe thead th {\n",
       "        text-align: right;\n",
       "    }\n",
       "</style>\n",
       "<table border=\"1\" class=\"dataframe\">\n",
       "  <thead>\n",
       "    <tr style=\"text-align: right;\">\n",
       "      <th></th>\n",
       "      <th>revision_id</th>\n",
       "      <th>tag_id</th>\n",
       "      <th>name</th>\n",
       "    </tr>\n",
       "  </thead>\n",
       "  <tbody>\n",
       "    <tr>\n",
       "      <th>0</th>\n",
       "      <td>584428801</td>\n",
       "      <td>9</td>\n",
       "      <td>EditWars</td>\n",
       "    </tr>\n",
       "    <tr>\n",
       "      <th>1</th>\n",
       "      <td>472293194</td>\n",
       "      <td>12</td>\n",
       "      <td>constructive</td>\n",
       "    </tr>\n",
       "    <tr>\n",
       "      <th>2</th>\n",
       "      <td>594741263</td>\n",
       "      <td>11</td>\n",
       "      <td>Intention</td>\n",
       "    </tr>\n",
       "    <tr>\n",
       "      <th>3</th>\n",
       "      <td>206360230</td>\n",
       "      <td>2</td>\n",
       "      <td>Nonsense</td>\n",
       "    </tr>\n",
       "    <tr>\n",
       "      <th>4</th>\n",
       "      <td>583830213</td>\n",
       "      <td>11</td>\n",
       "      <td>Intention</td>\n",
       "    </tr>\n",
       "  </tbody>\n",
       "</table>\n",
       "</div>"
      ],
      "text/plain": [
       "   revision_id  tag_id          name\n",
       "0    584428801       9      EditWars\n",
       "1    472293194      12  constructive\n",
       "2    594741263      11     Intention\n",
       "3    206360230       2      Nonsense\n",
       "4    583830213      11     Intention"
      ]
     },
     "execution_count": 17,
     "metadata": {},
     "output_type": "execute_result"
    }
   ],
   "source": [
    "# False Positives for the test set\n",
    "fp_test = X_test_complete[(y_test == 0) & (y_predict == 1)]\n",
    "fp_with_labels = fp_test.merge(tag_df, how='left', left_on='tag_id', right_on='id')\n",
    "fp_with_labels[['revision_id', 'tag_id', 'name']]"
   ]
  },
  {
   "cell_type": "code",
   "execution_count": 18,
   "metadata": {},
   "outputs": [
    {
     "data": {
      "image/png": "[encoded data removed]",
      "text/plain": [
       "<Figure size 432x288 with 1 Axes>"
      ]
     },
     "metadata": {},
     "output_type": "display_data"
    }
   ],
   "source": [
    "fp_tag_counts = fp_with_labels.name.value_counts()\n",
    "tag_x = np.arange(len(fp_tag_counts))\n",
    "plt.bar(tag_x, fp_tag_counts.values)\n",
    "plt.xticks(tag_x, fp_tag_counts.index, rotation=45)\n",
    "plt.show()"
   ]
  },
  {
   "cell_type": "code",
   "execution_count": 19,
   "metadata": {},
   "outputs": [
    {
     "data": {
      "text/html": [
       "<div>\n",
       "<style scoped>\n",
       "    .dataframe tbody tr th:only-of-type {\n",
       "        vertical-align: middle;\n",
       "    }\n",
       "\n",
       "    .dataframe tbody tr th {\n",
       "        vertical-align: top;\n",
       "    }\n",
       "\n",
       "    .dataframe thead th {\n",
       "        text-align: right;\n",
       "    }\n",
       "</style>\n",
       "<table border=\"1\" class=\"dataframe\">\n",
       "  <thead>\n",
       "    <tr style=\"text-align: right;\">\n",
       "      <th></th>\n",
       "      <th>isContributorAnonymous</th>\n",
       "      <th>isBot</th>\n",
       "      <th>timeOfDay</th>\n",
       "      <th>dayOfWeek</th>\n",
       "      <th>isMinorEdit</th>\n",
       "      <th>hasPreviousSameContributor</th>\n",
       "      <th>timeSinceLastArticleEdit</th>\n",
       "      <th>timeSinceLastArticleEditBySameContributor</th>\n",
       "      <th>revertCount</th>\n",
       "      <th>ratioOffAllEditsToContributorEdits</th>\n",
       "      <th>...</th>\n",
       "      <th>previousLength</th>\n",
       "      <th>sizeChange</th>\n",
       "      <th>LZWCompressionRate</th>\n",
       "      <th>KLDOfCharDistribution</th>\n",
       "      <th>commentLength</th>\n",
       "      <th>revision_id</th>\n",
       "      <th>tag_id</th>\n",
       "      <th>is_vandalism</th>\n",
       "      <th>id</th>\n",
       "      <th>name</th>\n",
       "    </tr>\n",
       "  </thead>\n",
       "  <tbody>\n",
       "  </tbody>\n",
       "</table>\n",
       "<p>0 rows × 54 columns</p>\n",
       "</div>"
      ],
      "text/plain": [
       "Empty DataFrame\n",
       "Columns: [isContributorAnonymous, isBot, timeOfDay, dayOfWeek, isMinorEdit, hasPreviousSameContributor, timeSinceLastArticleEdit, timeSinceLastArticleEditBySameContributor, revertCount, ratioOffAllEditsToContributorEdits, contributorRevertedBeforeInThatArticleCount, currentRowCount, currentColumnCount, currentCellCount, unmatchedTableRatio, unmatchedRowRatio, cellCountChange, rowCountChange, columnCountChange, sharedCellRatio, isRankChange, personalPronounFrequencyInComment, personalPronounFrequencyInTable, personalPronounImpactInTable, vulgarWordFrequencyInComment, vulgarWordFrequencyInTables, vulgarWordImpactInTables, sexualWordFrequencyInComment, sexualWordFrequencyInTables, sexualWordImpactInTables, nonDictionaryWordFrequencyInComment, nonDictionaryWordFrequencyInTable, nonDictionaryWordImpactInTable, superlativeWordFrequencyInTable, superlativeWordImpactInTable, superlativeWordFrequencyInComment, revertInComment, ratioOfNumericalCharsToAllChars, ratioOfAlphanumericCharsToAllChars, ratioOfUppercaseCharsToAllChars, ratioOfUppercaseCharsToLowercaseChars, lengthOfLongestConsecutiveSequenceOfSingleChar, lengthOfLongestToken, averageRelativeFrequencyOfNewAddedWords, previousLength, sizeChange, LZWCompressionRate, KLDOfCharDistribution, commentLength, revision_id, tag_id, is_vandalism, id, name]\n",
       "Index: []\n",
       "\n",
       "[0 rows x 54 columns]"
      ]
     },
     "execution_count": 19,
     "metadata": {},
     "output_type": "execute_result"
    }
   ],
   "source": [
    "fp_with_labels[fp_with_labels.name == 'FalseFacts']"
   ]
  },
  {
   "cell_type": "code",
   "execution_count": 20,
   "metadata": {
    "scrolled": false
   },
   "outputs": [
    {
     "data": {
      "image/png": "[encoded data removed]",
      "text/plain": [
       "<Figure size 1008x432 with 1 Axes>"
      ]
     },
     "metadata": {},
     "output_type": "display_data"
    }
   ],
   "source": [
    "# Feature importance (weights in random forrest)\n",
    "feature_importance = clf.feature_importances_\n",
    "feature_labels = labels\n",
    "x_pos = np.arange(len(feature_importance)) \n",
    "\n",
    "plt.gcf().set_size_inches(14, 6)\n",
    "plt.bar(x_pos, feature_importance,align='center')\n",
    "plt.xticks(x_pos, feature_labels, rotation='vertical') \n",
    "plt.ylabel('Feature Importance')\n",
    "plt.show()"
   ]
  },
  {
   "cell_type": "code",
   "execution_count": null,
   "metadata": {},
   "outputs": [],
   "source": []
  },
  {
   "cell_type": "code",
   "execution_count": null,
   "metadata": {},
   "outputs": [],
   "source": []
  }
 ],
 "metadata": {
  "kernelspec": {
   "display_name": "Python 3",
   "language": "python",
   "name": "python3"
  },
  "language_info": {
   "codemirror_mode": {
    "name": "ipython",
    "version": 3
   },
   "file_extension": ".py",
   "mimetype": "text/x-python",
   "name": "python",
   "nbconvert_exporter": "python",
   "pygments_lexer": "ipython3",
   "version": "3.6.5"
  }
 },
 "nbformat": 4,
 "nbformat_minor": 2
}
