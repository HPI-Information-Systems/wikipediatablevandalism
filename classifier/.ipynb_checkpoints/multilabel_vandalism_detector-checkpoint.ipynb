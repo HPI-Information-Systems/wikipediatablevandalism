{
 "cells": [
  {
   "cell_type": "code",
   "execution_count": 78,
   "metadata": {},
   "outputs": [],
   "source": [
    "import pandas as pd\n",
    "import numpy as np\n",
    "import matplotlib.pyplot as plt\n",
    "from sklearn.ensemble import RandomForestClassifier\n",
    "from sklearn.model_selection import cross_validate, train_test_split\n",
    "from sklearn.metrics import precision_recall_curve, average_precision_score, confusion_matrix\n",
    "from sklearn.preprocessing import normalize\n",
    "from pprint import pprint"
   ]
  },
  {
   "cell_type": "code",
   "execution_count": 63,
   "metadata": {},
   "outputs": [
    {
     "data": {
      "text/html": [
       "<div>\n",
       "<style scoped>\n",
       "    .dataframe tbody tr th:only-of-type {\n",
       "        vertical-align: middle;\n",
       "    }\n",
       "\n",
       "    .dataframe tbody tr th {\n",
       "        vertical-align: top;\n",
       "    }\n",
       "\n",
       "    .dataframe thead th {\n",
       "        text-align: right;\n",
       "    }\n",
       "</style>\n",
       "<table border=\"1\" class=\"dataframe\">\n",
       "  <thead>\n",
       "    <tr style=\"text-align: right;\">\n",
       "      <th></th>\n",
       "      <th>is_contributor_anonymous</th>\n",
       "      <th>is_contributor_deleted</th>\n",
       "      <th>time_of_day</th>\n",
       "      <th>day_of_week</th>\n",
       "      <th>is_minor_edit</th>\n",
       "      <th>comment_length</th>\n",
       "      <th>is_comment_deleted</th>\n",
       "      <th>is_previous_same_contributor</th>\n",
       "      <th>time_since_last_article_edit</th>\n",
       "      <th>size_change</th>\n",
       "      <th>size_ratio</th>\n",
       "      <th>tableGeometryChange</th>\n",
       "      <th>tag_id</th>\n",
       "    </tr>\n",
       "  </thead>\n",
       "  <tbody>\n",
       "    <tr>\n",
       "      <th>0</th>\n",
       "      <td>0</td>\n",
       "      <td>0</td>\n",
       "      <td>0</td>\n",
       "      <td>2</td>\n",
       "      <td>1</td>\n",
       "      <td>142</td>\n",
       "      <td>0</td>\n",
       "      <td>0</td>\n",
       "      <td>1485</td>\n",
       "      <td>1782</td>\n",
       "      <td>1.046369</td>\n",
       "      <td>-9.0</td>\n",
       "      <td>12</td>\n",
       "    </tr>\n",
       "    <tr>\n",
       "      <th>1</th>\n",
       "      <td>1</td>\n",
       "      <td>0</td>\n",
       "      <td>12</td>\n",
       "      <td>5</td>\n",
       "      <td>0</td>\n",
       "      <td>7</td>\n",
       "      <td>0</td>\n",
       "      <td>1</td>\n",
       "      <td>212</td>\n",
       "      <td>8</td>\n",
       "      <td>1.000020</td>\n",
       "      <td>0.0</td>\n",
       "      <td>12</td>\n",
       "    </tr>\n",
       "    <tr>\n",
       "      <th>2</th>\n",
       "      <td>1</td>\n",
       "      <td>0</td>\n",
       "      <td>14</td>\n",
       "      <td>3</td>\n",
       "      <td>0</td>\n",
       "      <td>19</td>\n",
       "      <td>0</td>\n",
       "      <td>1</td>\n",
       "      <td>12454</td>\n",
       "      <td>-1245</td>\n",
       "      <td>0.979904</td>\n",
       "      <td>-9.0</td>\n",
       "      <td>1</td>\n",
       "    </tr>\n",
       "    <tr>\n",
       "      <th>3</th>\n",
       "      <td>1</td>\n",
       "      <td>0</td>\n",
       "      <td>14</td>\n",
       "      <td>3</td>\n",
       "      <td>0</td>\n",
       "      <td>19</td>\n",
       "      <td>0</td>\n",
       "      <td>1</td>\n",
       "      <td>12454</td>\n",
       "      <td>-1245</td>\n",
       "      <td>0.979904</td>\n",
       "      <td>-9.0</td>\n",
       "      <td>11</td>\n",
       "    </tr>\n",
       "    <tr>\n",
       "      <th>4</th>\n",
       "      <td>0</td>\n",
       "      <td>0</td>\n",
       "      <td>19</td>\n",
       "      <td>7</td>\n",
       "      <td>0</td>\n",
       "      <td>79</td>\n",
       "      <td>0</td>\n",
       "      <td>1</td>\n",
       "      <td>12015</td>\n",
       "      <td>3</td>\n",
       "      <td>1.000020</td>\n",
       "      <td>0.0</td>\n",
       "      <td>12</td>\n",
       "    </tr>\n",
       "  </tbody>\n",
       "</table>\n",
       "</div>"
      ],
      "text/plain": [
       "   is_contributor_anonymous  is_contributor_deleted  time_of_day  day_of_week  \\\n",
       "0                         0                       0            0            2   \n",
       "1                         1                       0           12            5   \n",
       "2                         1                       0           14            3   \n",
       "3                         1                       0           14            3   \n",
       "4                         0                       0           19            7   \n",
       "\n",
       "   is_minor_edit  comment_length  is_comment_deleted  \\\n",
       "0              1             142                   0   \n",
       "1              0               7                   0   \n",
       "2              0              19                   0   \n",
       "3              0              19                   0   \n",
       "4              0              79                   0   \n",
       "\n",
       "   is_previous_same_contributor  time_since_last_article_edit  size_change  \\\n",
       "0                             0                          1485         1782   \n",
       "1                             1                           212            8   \n",
       "2                             1                         12454        -1245   \n",
       "3                             1                         12454        -1245   \n",
       "4                             1                         12015            3   \n",
       "\n",
       "   size_ratio  tableGeometryChange  tag_id  \n",
       "0    1.046369                 -9.0      12  \n",
       "1    1.000020                  0.0      12  \n",
       "2    0.979904                 -9.0       1  \n",
       "3    0.979904                 -9.0      11  \n",
       "4    1.000020                  0.0      12  "
      ]
     },
     "execution_count": 63,
     "metadata": {},
     "output_type": "execute_result"
    }
   ],
   "source": [
    "# Import dataset\n",
    "df = pd.read_csv('./data/features-modified-total.csv')\n",
    "tag_df = pd.read_csv('./data/tag.csv')\n",
    "labels = df.columns\n",
    "df.head()"
   ]
  },
  {
   "cell_type": "code",
   "execution_count": 64,
   "metadata": {},
   "outputs": [],
   "source": [
    "# Convert from pandas to numpy arrays\n",
    "X = df.drop(['tag_id'], axis=1)\n",
    "y = df['tag_id']\n",
    "X = X.values\n",
    "y = y.values\n",
    "feature_labels = df.columns"
   ]
  },
  {
   "cell_type": "code",
   "execution_count": 83,
   "metadata": {},
   "outputs": [],
   "source": [
    "# Util methods\n",
    "def get_tag_ids():\n",
    "    tags = df['tag_id'].unique()\n",
    "    tags.sort()\n",
    "    return tags\n",
    "\n",
    "def get_tag_by_id(tag_id):\n",
    "    return tag_df[tag_df['id'] == tag_id]['name'].values[0]\n",
    "\n",
    "def filter_by_tag(y, tag_id):\n",
    "    return np.array([1 if tag == tag_id else 0 for tag in y])\n",
    "\n",
    "def cross_validate_model(model, X, y):    \n",
    "    return cross_validate(model, X, y, \n",
    "                          scoring=['precision', 'accuracy', 'f1'],\n",
    "                          cv=2, return_train_score=False)\n",
    "\n",
    "def precision_recall_graph(y_test, y_predict):\n",
    "    precision, recall, thresholds = precision_recall_curve(y_test, y_predict)\n",
    "    average_precision = average_precision_score(y_test, y_predict)\n",
    "\n",
    "    plt.title('Precision-Recall: Average Precision=  %0.2f' % average_precision)\n",
    "    plt.step(recall, precision, color='b', where='post')\n",
    "    plt.xticks(np.arange(0, 1.1, 0.1))\n",
    "    plt.yticks(np.arange(0, 1.1, 0.1))\n",
    "    plt.ylabel('Precision')\n",
    "    plt.xlabel('Recall')\n",
    "    plt.show()\n",
    "    \n",
    "def confusion_matrx(y_test, y_predict):\n",
    "    # Evaluate model: Confusion matrix\n",
    "    columns = ['Predicted No Vandalism', 'Predicted Vandalism']\n",
    "    index = ['True No Vandalism', 'True Vandalism']\n",
    "\n",
    "    print('Final model scores:')\n",
    "    pd.DataFrame(confusion_matrix(y_test, y_predict), columns=columns, index=index)\n",
    "    print(pd.head\n"
   ]
  },
  {
   "cell_type": "code",
   "execution_count": 71,
   "metadata": {},
   "outputs": [],
   "source": [
    "# TODO: Normalize\n",
    "X = normalize(X)\n",
    "\n",
    "# Split Dataset\n",
    "X_train, X_test, y_train, y_test = train_test_split(X, y)"
   ]
  },
  {
   "cell_type": "code",
   "execution_count": 84,
   "metadata": {
    "scrolled": true
   },
   "outputs": [
    {
     "name": "stdout",
     "output_type": "stream",
     "text": [
      "Training model for tag id 1 Blanking\n",
      "Training model for tag id 2 Nonsense\n",
      "Training model for tag id 3 QualityIssue\n",
      "Training model for tag id 4 PersonalStory\n",
      "Training model for tag id 5 FalseFacts\n",
      "Training model for tag id 6 Syntax\n",
      "Training model for tag id 8 Template\n"
     ]
    },
    {
     "name": "stderr",
     "output_type": "stream",
     "text": [
      "/Users/philipphager/.local/share/virtualenvs/classifier-EavwNepm/lib/python3.6/site-packages/sklearn/metrics/classification.py:1135: UndefinedMetricWarning: Precision is ill-defined and being set to 0.0 due to no predicted samples.\n",
      "  'precision', 'predicted', average, warn_for)\n",
      "/Users/philipphager/.local/share/virtualenvs/classifier-EavwNepm/lib/python3.6/site-packages/sklearn/metrics/classification.py:1135: UndefinedMetricWarning: F-score is ill-defined and being set to 0.0 due to no predicted samples.\n",
      "  'precision', 'predicted', average, warn_for)\n",
      "/Users/philipphager/.local/share/virtualenvs/classifier-EavwNepm/lib/python3.6/site-packages/sklearn/metrics/classification.py:1135: UndefinedMetricWarning: Precision is ill-defined and being set to 0.0 due to no predicted samples.\n",
      "  'precision', 'predicted', average, warn_for)\n",
      "/Users/philipphager/.local/share/virtualenvs/classifier-EavwNepm/lib/python3.6/site-packages/sklearn/metrics/classification.py:1135: UndefinedMetricWarning: F-score is ill-defined and being set to 0.0 due to no predicted samples.\n",
      "  'precision', 'predicted', average, warn_for)\n",
      "/Users/philipphager/.local/share/virtualenvs/classifier-EavwNepm/lib/python3.6/site-packages/sklearn/metrics/classification.py:1135: UndefinedMetricWarning: Precision is ill-defined and being set to 0.0 due to no predicted samples.\n",
      "  'precision', 'predicted', average, warn_for)\n",
      "/Users/philipphager/.local/share/virtualenvs/classifier-EavwNepm/lib/python3.6/site-packages/sklearn/metrics/classification.py:1135: UndefinedMetricWarning: F-score is ill-defined and being set to 0.0 due to no predicted samples.\n",
      "  'precision', 'predicted', average, warn_for)\n"
     ]
    },
    {
     "name": "stdout",
     "output_type": "stream",
     "text": [
      "Training model for tag id 9 EditWars\n",
      "Training model for tag id 10 SEO\n",
      "Training model for tag id 11 Intention\n",
      "Training model for tag id 12 constructive\n"
     ]
    }
   ],
   "source": [
    "# Build models for every tag\n",
    "models = dict()\n",
    "\n",
    "for tag_id in get_tag_ids():\n",
    "    tag_label = get_tag_by_id(tag_id)\n",
    "    y_chunk = filter_by_tag(y_train, tag_id)\n",
    "\n",
    "    print(f'Training model for tag id {tag_id} {tag_label}')\n",
    "    model = RandomForestClassifier(class_weight='balanced')\n",
    "    scores = cross_validate_model(model, X_train, y_chunk)\n",
    "    models[tag_id] = model"
   ]
  },
  {
   "cell_type": "code",
   "execution_count": 85,
   "metadata": {},
   "outputs": [
    {
     "name": "stdout",
     "output_type": "stream",
     "text": [
      "Train model for tag Blanking\n"
     ]
    },
    {
     "data": {
      "image/png": "[encoded data removed]",
      "text/plain": [
       "<Figure size 432x288 with 1 Axes>"
      ]
     },
     "metadata": {},
     "output_type": "display_data"
    },
    {
     "name": "stdout",
     "output_type": "stream",
     "text": [
      "Final model scores:\n"
     ]
    },
    {
     "ename": "AttributeError",
     "evalue": "module 'pandas' has no attribute 'head'",
     "output_type": "error",
     "traceback": [
      "\u001b[0;31m-----------------------------------------------------------\u001b[0m",
      "\u001b[0;31mAttributeError\u001b[0m            Traceback (most recent call last)",
      "\u001b[0;32m<ipython-input-85-de1d538fd98d>\u001b[0m in \u001b[0;36m<module>\u001b[0;34m()\u001b[0m\n\u001b[1;32m     11\u001b[0m     \u001b[0my_predict_vandalism\u001b[0m \u001b[0;34m=\u001b[0m \u001b[0my_predict_prob\u001b[0m\u001b[0;34m[\u001b[0m\u001b[0;34m:\u001b[0m\u001b[0;34m,\u001b[0m\u001b[0;36m1\u001b[0m\u001b[0;34m]\u001b[0m\u001b[0;34m\u001b[0m\u001b[0m\n\u001b[1;32m     12\u001b[0m     \u001b[0mprecision_recall_graph\u001b[0m\u001b[0;34m(\u001b[0m\u001b[0my_test_tag\u001b[0m\u001b[0;34m,\u001b[0m \u001b[0my_predict_vandalism\u001b[0m\u001b[0;34m)\u001b[0m\u001b[0;34m\u001b[0m\u001b[0m\n\u001b[0;32m---> 13\u001b[0;31m     \u001b[0mconfusion_matrx\u001b[0m\u001b[0;34m(\u001b[0m\u001b[0my_test_tag\u001b[0m\u001b[0;34m,\u001b[0m \u001b[0my_predict\u001b[0m\u001b[0;34m)\u001b[0m\u001b[0;34m\u001b[0m\u001b[0m\n\u001b[0m",
      "\u001b[0;32m<ipython-input-83-6fbe64f192dd>\u001b[0m in \u001b[0;36mconfusion_matrx\u001b[0;34m(y_test, y_predict)\u001b[0m\n\u001b[1;32m     35\u001b[0m     \u001b[0mprint\u001b[0m\u001b[0;34m(\u001b[0m\u001b[0;34m'Final model scores:'\u001b[0m\u001b[0;34m)\u001b[0m\u001b[0;34m\u001b[0m\u001b[0m\n\u001b[1;32m     36\u001b[0m     \u001b[0mpd\u001b[0m\u001b[0;34m.\u001b[0m\u001b[0mDataFrame\u001b[0m\u001b[0;34m(\u001b[0m\u001b[0mconfusion_matrix\u001b[0m\u001b[0;34m(\u001b[0m\u001b[0my_test\u001b[0m\u001b[0;34m,\u001b[0m \u001b[0my_predict\u001b[0m\u001b[0;34m)\u001b[0m\u001b[0;34m,\u001b[0m \u001b[0mcolumns\u001b[0m\u001b[0;34m=\u001b[0m\u001b[0mcolumns\u001b[0m\u001b[0;34m,\u001b[0m \u001b[0mindex\u001b[0m\u001b[0;34m=\u001b[0m\u001b[0mindex\u001b[0m\u001b[0;34m)\u001b[0m\u001b[0;34m\u001b[0m\u001b[0m\n\u001b[0;32m---> 37\u001b[0;31m     \u001b[0mprint\u001b[0m\u001b[0;34m(\u001b[0m\u001b[0mpd\u001b[0m\u001b[0;34m.\u001b[0m\u001b[0mhead\u001b[0m\u001b[0;34m(\u001b[0m\u001b[0;34m)\u001b[0m\u001b[0;34m)\u001b[0m\u001b[0;34m\u001b[0m\u001b[0m\n\u001b[0m",
      "\u001b[0;31mAttributeError\u001b[0m: module 'pandas' has no attribute 'head'"
     ]
    }
   ],
   "source": [
    "# Evaluate models:\n",
    "for tag_id in get_tag_ids():\n",
    "    print('Train model for tag', get_tag_by_id(tag_id))\n",
    "    model = models[tag_id]\n",
    "    y_train_tag = filter_by_tag(y_train, tag_id)\n",
    "    y_test_tag = filter_by_tag(y_test, tag_id)\n",
    "\n",
    "    model.fit(X_train, y_train_tag)\n",
    "    y_predict = model.predict(X_test)\n",
    "    y_predict_prob = model.predict_proba(X_test)\n",
    "    y_predict_vandalism = y_predict_prob[:,1]\n",
    "    precision_recall_graph(y_test_tag, y_predict_vandalism)\n",
    "    confusion_matrx(y_test_tag, y_predict)"
   ]
  }
 ],
 "metadata": {
  "kernelspec": {
   "display_name": "Python 3",
   "language": "python",
   "name": "python3"
  },
  "language_info": {
   "codemirror_mode": {
    "name": "ipython",
    "version": 3
   },
   "file_extension": ".py",
   "mimetype": "text/x-python",
   "name": "python",
   "nbconvert_exporter": "python",
   "pygments_lexer": "ipython3",
   "version": "3.6.0"
  }
 },
 "nbformat": 4,
 "nbformat_minor": 2
}
