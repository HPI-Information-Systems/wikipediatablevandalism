{
 "cells": [
  {
   "cell_type": "code",
   "execution_count": 125,
   "metadata": {},
   "outputs": [],
   "source": [
    "import pandas as pd\n",
    "import numpy as np\n",
    "import matplotlib.pyplot as plt\n",
    "import graphviz\n",
    "from sklearn.model_selection import train_test_split, cross_validate, cross_val_predict\n",
    "from sklearn.ensemble import RandomForestClassifier\n",
    "from sklearn.feature_selection import SelectFromModel\n",
    "from sklearn.metrics import classification_report, accuracy_score, f1_score, precision_score, recall_score, roc_curve, auc, precision_recall_curve, confusion_matrix, average_precision_score\n",
    "from sklearn.pipeline import Pipeline"
   ]
  },
  {
   "cell_type": "code",
   "execution_count": 126,
   "metadata": {},
   "outputs": [
    {
     "data": {
      "text/html": [
       "<div>\n",
       "<style scoped>\n",
       "    .dataframe tbody tr th:only-of-type {\n",
       "        vertical-align: middle;\n",
       "    }\n",
       "\n",
       "    .dataframe tbody tr th {\n",
       "        vertical-align: top;\n",
       "    }\n",
       "\n",
       "    .dataframe thead th {\n",
       "        text-align: right;\n",
       "    }\n",
       "</style>\n",
       "<table border=\"1\" class=\"dataframe\">\n",
       "  <thead>\n",
       "    <tr style=\"text-align: right;\">\n",
       "      <th></th>\n",
       "      <th>is_contributor_anonymous</th>\n",
       "      <th>is_contributor_deleted</th>\n",
       "      <th>time_of_day</th>\n",
       "      <th>day_of_week</th>\n",
       "      <th>is_minor_edit</th>\n",
       "      <th>comment_length</th>\n",
       "      <th>is_comment_deleted</th>\n",
       "      <th>is_previous_same_contributor</th>\n",
       "      <th>time_since_last_article_edit</th>\n",
       "      <th>size_change</th>\n",
       "      <th>size_ratio</th>\n",
       "      <th>tableGeometryChange</th>\n",
       "      <th>tag_id</th>\n",
       "    </tr>\n",
       "  </thead>\n",
       "  <tbody>\n",
       "    <tr>\n",
       "      <th>0</th>\n",
       "      <td>0</td>\n",
       "      <td>0</td>\n",
       "      <td>0</td>\n",
       "      <td>2</td>\n",
       "      <td>1</td>\n",
       "      <td>142</td>\n",
       "      <td>0</td>\n",
       "      <td>0</td>\n",
       "      <td>1485</td>\n",
       "      <td>1782</td>\n",
       "      <td>1.046369</td>\n",
       "      <td>-9.0</td>\n",
       "      <td>12</td>\n",
       "    </tr>\n",
       "    <tr>\n",
       "      <th>1</th>\n",
       "      <td>1</td>\n",
       "      <td>0</td>\n",
       "      <td>12</td>\n",
       "      <td>5</td>\n",
       "      <td>0</td>\n",
       "      <td>7</td>\n",
       "      <td>0</td>\n",
       "      <td>1</td>\n",
       "      <td>212</td>\n",
       "      <td>8</td>\n",
       "      <td>1.000020</td>\n",
       "      <td>0.0</td>\n",
       "      <td>12</td>\n",
       "    </tr>\n",
       "    <tr>\n",
       "      <th>2</th>\n",
       "      <td>1</td>\n",
       "      <td>0</td>\n",
       "      <td>14</td>\n",
       "      <td>3</td>\n",
       "      <td>0</td>\n",
       "      <td>19</td>\n",
       "      <td>0</td>\n",
       "      <td>1</td>\n",
       "      <td>12454</td>\n",
       "      <td>-1245</td>\n",
       "      <td>0.979904</td>\n",
       "      <td>-9.0</td>\n",
       "      <td>1</td>\n",
       "    </tr>\n",
       "    <tr>\n",
       "      <th>3</th>\n",
       "      <td>1</td>\n",
       "      <td>0</td>\n",
       "      <td>14</td>\n",
       "      <td>3</td>\n",
       "      <td>0</td>\n",
       "      <td>19</td>\n",
       "      <td>0</td>\n",
       "      <td>1</td>\n",
       "      <td>12454</td>\n",
       "      <td>-1245</td>\n",
       "      <td>0.979904</td>\n",
       "      <td>-9.0</td>\n",
       "      <td>11</td>\n",
       "    </tr>\n",
       "    <tr>\n",
       "      <th>4</th>\n",
       "      <td>0</td>\n",
       "      <td>0</td>\n",
       "      <td>19</td>\n",
       "      <td>7</td>\n",
       "      <td>0</td>\n",
       "      <td>79</td>\n",
       "      <td>0</td>\n",
       "      <td>1</td>\n",
       "      <td>12015</td>\n",
       "      <td>3</td>\n",
       "      <td>1.000020</td>\n",
       "      <td>0.0</td>\n",
       "      <td>12</td>\n",
       "    </tr>\n",
       "  </tbody>\n",
       "</table>\n",
       "</div>"
      ],
      "text/plain": [
       "   is_contributor_anonymous  is_contributor_deleted  time_of_day  day_of_week  \\\n",
       "0                         0                       0            0            2   \n",
       "1                         1                       0           12            5   \n",
       "2                         1                       0           14            3   \n",
       "3                         1                       0           14            3   \n",
       "4                         0                       0           19            7   \n",
       "\n",
       "   is_minor_edit  comment_length  is_comment_deleted  \\\n",
       "0              1             142                   0   \n",
       "1              0               7                   0   \n",
       "2              0              19                   0   \n",
       "3              0              19                   0   \n",
       "4              0              79                   0   \n",
       "\n",
       "   is_previous_same_contributor  time_since_last_article_edit  size_change  \\\n",
       "0                             0                          1485         1782   \n",
       "1                             1                           212            8   \n",
       "2                             1                         12454        -1245   \n",
       "3                             1                         12454        -1245   \n",
       "4                             1                         12015            3   \n",
       "\n",
       "   size_ratio  tableGeometryChange  tag_id  \n",
       "0    1.046369                 -9.0      12  \n",
       "1    1.000020                  0.0      12  \n",
       "2    0.979904                 -9.0       1  \n",
       "3    0.979904                 -9.0      11  \n",
       "4    1.000020                  0.0      12  "
      ]
     },
     "execution_count": 126,
     "metadata": {},
     "output_type": "execute_result"
    }
   ],
   "source": [
    "# Import dataset\n",
    "df = pd.read_csv('./data/features-modified-total.csv')\n",
    "tag_df = pd.read_csv('./data/tag.csv')\n",
    "labels = df.columns\n",
    "df.head()"
   ]
  },
  {
   "cell_type": "code",
   "execution_count": 127,
   "metadata": {},
   "outputs": [],
   "source": [
    "# Encode vandalism or no vandalism. Tag_id 12 is 'constructive'\n",
    "df['tag_id'] = df['tag_id'].map(lambda x: 0 if x == 12 else 1)"
   ]
  },
  {
   "cell_type": "code",
   "execution_count": 128,
   "metadata": {},
   "outputs": [],
   "source": [
    "# Convert from pandas to numpy arrays\n",
    "X = df.drop(['tag_id'], axis=1)\n",
    "y = df['tag_id']\n",
    "labels = X.columns\n",
    "X = X.values\n",
    "y = y.values"
   ]
  },
  {
   "cell_type": "code",
   "execution_count": 129,
   "metadata": {},
   "outputs": [
    {
     "name": "stdout",
     "output_type": "stream",
     "text": [
      "Train X (2775, 12)\n",
      "Train y (2775,)\n",
      "Test X (926, 12)\n",
      "Test y (926,)\n"
     ]
    }
   ],
   "source": [
    "# Split dataset into training and test\n",
    "X_train, X_test, y_train, y_test = train_test_split(X, y)\n",
    "\n",
    "print('Train X', X_train.shape)\n",
    "print('Train y', y_train.shape)\n",
    "\n",
    "print('Test X', X_test.shape)\n",
    "print('Test y', y_test.shape)"
   ]
  },
  {
   "cell_type": "code",
   "execution_count": 139,
   "metadata": {
    "scrolled": true
   },
   "outputs": [
    {
     "name": "stdout",
     "output_type": "stream",
     "text": [
      "Training scores:\n",
      "fit_time : 0.04 (+/- 0.02)\n",
      "score_time : 0.02 (+/- 0.01)\n",
      "test_f1 : 0.72 (+/- 0.00)\n",
      "test_precision : 0.74 (+/- 0.00)\n",
      "test_recall : 0.69 (+/- 0.01)\n",
      "test_roc_auc : 0.82 (+/- 0.02)\n",
      "test_accuracy : 0.76 (+/- 0.00)\n"
     ]
    }
   ],
   "source": [
    "# Build model and evaluate parameters using crossvalidation\n",
    "clf = RandomForestClassifier(class_weight='balanced')\n",
    "\n",
    "scores = cross_validate(clf, X_train, y_train,\n",
    "                        scoring=['f1', 'precision', 'recall', 'roc_auc', 'accuracy'],\n",
    "                        cv=3, return_train_score=False)    \n",
    "\n",
    "print('Training scores:')\n",
    "for name, values in scores.items():\n",
    "    print(name, \": %0.2f (+/- %0.2f)\" % (values.mean(), values.std() * 2))"
   ]
  },
  {
   "cell_type": "code",
   "execution_count": 140,
   "metadata": {},
   "outputs": [
    {
     "name": "stdout",
     "output_type": "stream",
     "text": [
      "Training scores:\n"
     ]
    },
    {
     "data": {
      "text/html": [
       "<div>\n",
       "<style scoped>\n",
       "    .dataframe tbody tr th:only-of-type {\n",
       "        vertical-align: middle;\n",
       "    }\n",
       "\n",
       "    .dataframe tbody tr th {\n",
       "        vertical-align: top;\n",
       "    }\n",
       "\n",
       "    .dataframe thead th {\n",
       "        text-align: right;\n",
       "    }\n",
       "</style>\n",
       "<table border=\"1\" class=\"dataframe\">\n",
       "  <thead>\n",
       "    <tr style=\"text-align: right;\">\n",
       "      <th></th>\n",
       "      <th>Predicted No Vandalism</th>\n",
       "      <th>Predicted Vandalism</th>\n",
       "    </tr>\n",
       "  </thead>\n",
       "  <tbody>\n",
       "    <tr>\n",
       "      <th>True No Vandalism</th>\n",
       "      <td>1283</td>\n",
       "      <td>286</td>\n",
       "    </tr>\n",
       "    <tr>\n",
       "      <th>True Vandalism</th>\n",
       "      <td>375</td>\n",
       "      <td>831</td>\n",
       "    </tr>\n",
       "  </tbody>\n",
       "</table>\n",
       "</div>"
      ],
      "text/plain": [
       "                   Predicted No Vandalism  Predicted Vandalism\n",
       "True No Vandalism                    1283                  286\n",
       "True Vandalism                        375                  831"
      ]
     },
     "execution_count": 140,
     "metadata": {},
     "output_type": "execute_result"
    }
   ],
   "source": [
    "# Evaluate model parameters: Confusion matrix\n",
    "columns = ['Predicted No Vandalism', 'Predicted Vandalism']\n",
    "index = ['True No Vandalism', 'True Vandalism']\n",
    "classes = ['No Vandalism', 'Vandalism']\n",
    "\n",
    "y_train_predict = cross_val_predict(clf, X_train, y_train, cv=3)\n",
    "cf_matrix = confusion_matrix(y_train, y_train_predict)\n",
    "\n",
    "print('Training scores:')\n",
    "pd.DataFrame(cf_matrix, columns=columns, index=index)"
   ]
  },
  {
   "cell_type": "code",
   "execution_count": 141,
   "metadata": {
    "scrolled": false
   },
   "outputs": [
    {
     "name": "stdout",
     "output_type": "stream",
     "text": [
      "Training scores:\n",
      "              precision    recall  f1-score   support\n",
      "\n",
      "No Vandalism       0.77      0.82      0.80      1569\n",
      "   Vandalism       0.74      0.69      0.72      1206\n",
      "\n",
      " avg / total       0.76      0.76      0.76      2775\n",
      "\n"
     ]
    }
   ],
   "source": [
    "# Evaluate model parameters: Classification report\n",
    "print('Training scores:')\n",
    "print(classification_report(y_train, y_train_predict, target_names=classes))"
   ]
  },
  {
   "cell_type": "code",
   "execution_count": 142,
   "metadata": {
    "scrolled": true
   },
   "outputs": [],
   "source": [
    "# Train model\n",
    "clf.fit(X_train, y_train)\n",
    "y_predict = clf.predict(X_test)\n",
    "y_predict_prob = clf.predict_proba(X_test)\n",
    "y_predict_vandalism = y_predict_prob[:,1]"
   ]
  },
  {
   "cell_type": "code",
   "execution_count": 143,
   "metadata": {},
   "outputs": [
    {
     "name": "stdout",
     "output_type": "stream",
     "text": [
      "Precision and recall scores:\n"
     ]
    },
    {
     "data": {
      "image/png": "[encoded data removed]",
      "text/plain": [
       "<Figure size 432x288 with 1 Axes>"
      ]
     },
     "metadata": {},
     "output_type": "display_data"
    }
   ],
   "source": [
    "# Evaluate model: Precision & Recall\n",
    "print('Precision and recall scores:')\n",
    "\n",
    "precision, recall, thresholds = precision_recall_curve(y_test, y_predict_vandalism)\n",
    "average_precision = average_precision_score(y_test, y_predict_vandalism)\n",
    "\n",
    "plt.title('Precision-Recall: Average Precision=  %0.2f' % average_precision)\n",
    "plt.step(recall, precision, color='b', where='post')\n",
    "plt.xticks(np.arange(0, 1.1, 0.1))\n",
    "plt.yticks(np.arange(0, 1.1, 0.1))\n",
    "plt.ylabel('Precision')\n",
    "plt.xlabel('Recall')\n",
    "plt.show()"
   ]
  },
  {
   "cell_type": "code",
   "execution_count": 145,
   "metadata": {},
   "outputs": [
    {
     "name": "stdout",
     "output_type": "stream",
     "text": [
      "Final model scores:\n"
     ]
    },
    {
     "data": {
      "text/html": [
       "<div>\n",
       "<style scoped>\n",
       "    .dataframe tbody tr th:only-of-type {\n",
       "        vertical-align: middle;\n",
       "    }\n",
       "\n",
       "    .dataframe tbody tr th {\n",
       "        vertical-align: top;\n",
       "    }\n",
       "\n",
       "    .dataframe thead th {\n",
       "        text-align: right;\n",
       "    }\n",
       "</style>\n",
       "<table border=\"1\" class=\"dataframe\">\n",
       "  <thead>\n",
       "    <tr style=\"text-align: right;\">\n",
       "      <th></th>\n",
       "      <th>Predicted No Vandalism</th>\n",
       "      <th>Predicted Vandalism</th>\n",
       "    </tr>\n",
       "  </thead>\n",
       "  <tbody>\n",
       "    <tr>\n",
       "      <th>True No Vandalism</th>\n",
       "      <td>458</td>\n",
       "      <td>88</td>\n",
       "    </tr>\n",
       "    <tr>\n",
       "      <th>True Vandalism</th>\n",
       "      <td>100</td>\n",
       "      <td>280</td>\n",
       "    </tr>\n",
       "  </tbody>\n",
       "</table>\n",
       "</div>"
      ],
      "text/plain": [
       "                   Predicted No Vandalism  Predicted Vandalism\n",
       "True No Vandalism                     458                   88\n",
       "True Vandalism                        100                  280"
      ]
     },
     "execution_count": 145,
     "metadata": {},
     "output_type": "execute_result"
    }
   ],
   "source": [
    "# Evaluate model: Confusion matrix\n",
    "columns = ['Predicted No Vandalism', 'Predicted Vandalism']\n",
    "index = ['True No Vandalism', 'True Vandalism']\n",
    "\n",
    "print('Final model scores:')\n",
    "pd.DataFrame(confusion_matrix(y_test, y_predict), columns=columns, index=index)"
   ]
  },
  {
   "cell_type": "code",
   "execution_count": 146,
   "metadata": {},
   "outputs": [
    {
     "name": "stdout",
     "output_type": "stream",
     "text": [
      "Final model scores:\n",
      "              precision    recall  f1-score   support\n",
      "\n",
      "No Vandalism       0.82      0.84      0.83       546\n",
      "   Vandalism       0.76      0.74      0.75       380\n",
      "\n",
      " avg / total       0.80      0.80      0.80       926\n",
      "\n"
     ]
    }
   ],
   "source": [
    "# Evaluate model: Classification report\n",
    "print('Final model scores:')\n",
    "print(classification_report(y_test, y_predict, target_names=classes))"
   ]
  },
  {
   "cell_type": "code",
   "execution_count": 147,
   "metadata": {},
   "outputs": [
    {
     "name": "stdout",
     "output_type": "stream",
     "text": [
      "Final model scores:\n",
      "roc_auc 0.8640013495276654\n"
     ]
    },
    {
     "data": {
      "image/png": "[encoded data removed]",
      "text/plain": [
       "<Figure size 432x288 with 1 Axes>"
      ]
     },
     "metadata": {},
     "output_type": "display_data"
    }
   ],
   "source": [
    "false_positive_rate, true_positive_rate, thresholds = roc_curve(y_test, y_predict_vandalism)\n",
    "roc_auc = auc(false_positive_rate, true_positive_rate)\n",
    "print('Final model scores:')\n",
    "print('roc_auc', roc_auc)\n",
    "\n",
    "plt.title('Receiver Operating Characteristic')\n",
    "plt.plot(false_positive_rate, true_positive_rate, 'b', label = 'AUC = %0.2f' % roc_auc)\n",
    "plt.legend(loc = 'lower right')\n",
    "plt.plot([0, 1], [0, 1],'r--')\n",
    "plt.xlim([0, 1])\n",
    "plt.ylim([0, 1])\n",
    "plt.ylabel('True Positive Rate')\n",
    "plt.xlabel('False Positive Rate')\n",
    "plt.show()"
   ]
  },
  {
   "cell_type": "code",
   "execution_count": 148,
   "metadata": {},
   "outputs": [
    {
     "data": {
      "text/plain": [
       "<matplotlib.image.AxesImage at 0x107c305f8>"
      ]
     },
     "execution_count": 148,
     "metadata": {},
     "output_type": "execute_result"
    },
    {
     "data": {
      "image/png": "[encoded data removed]",
      "text/plain": [
       "<Figure size 288x288 with 1 Axes>"
      ]
     },
     "metadata": {},
     "output_type": "display_data"
    }
   ],
   "source": [
    "# Error analysis\n",
    "y_train_predict = cross_val_predict(clf, X_train, y_train, cv=3)\n",
    "cf_matrix = confusion_matrix(y_train, y_train_predict)\n",
    "\n",
    "plt.matshow(cf_matrix, cmap=plt.cm.gray)"
   ]
  }
 ],
 "metadata": {
  "kernelspec": {
   "display_name": "Python 3",
   "language": "python",
   "name": "python3"
  },
  "language_info": {
   "codemirror_mode": {
    "name": "ipython",
    "version": 3
   },
   "file_extension": ".py",
   "mimetype": "text/x-python",
   "name": "python",
   "nbconvert_exporter": "python",
   "pygments_lexer": "ipython3",
   "version": "3.6.0"
  }
 },
 "nbformat": 4,
 "nbformat_minor": 2
}
