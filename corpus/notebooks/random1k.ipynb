{
 "cells": [
  {
   "cell_type": "code",
   "execution_count": 97,
   "metadata": {},
   "outputs": [],
   "source": [
    "import numpy as np\n",
    "import os\n",
    "import pandas as pd\n",
    "import matplotlib.pyplot as plt\n",
    "from IPython.display import display\n",
    "import seaborn as sns"
   ]
  },
  {
   "cell_type": "code",
   "execution_count": 98,
   "metadata": {},
   "outputs": [],
   "source": [
    "CORPUS_ID = 'v2'\n",
    "\n",
    "if CORPUS_ID == 'v1':\n",
    "    CORPUS_PATH = '../wiki-corpus'\n",
    "elif CORPUS_ID == 'v2':\n",
    "    CORPUS_PATH = '../wiki-corpus-v2'"
   ]
  },
  {
   "cell_type": "code",
   "execution_count": 99,
   "metadata": {},
   "outputs": [],
   "source": [
    "tags = pd.read_csv(os.path.join(CORPUS_PATH, 'tag.csv'), index_col=0)\n",
    "tags = tags[tags.name != 'Constructive']"
   ]
  },
  {
   "cell_type": "code",
   "execution_count": 100,
   "metadata": {},
   "outputs": [
    {
     "data": {
      "text/html": [
       "<div>\n",
       "<style scoped>\n",
       "    .dataframe tbody tr th:only-of-type {\n",
       "        vertical-align: middle;\n",
       "    }\n",
       "\n",
       "    .dataframe tbody tr th {\n",
       "        vertical-align: top;\n",
       "    }\n",
       "\n",
       "    .dataframe thead th {\n",
       "        text-align: right;\n",
       "    }\n",
       "</style>\n",
       "<table border=\"1\" class=\"dataframe\">\n",
       "  <thead>\n",
       "    <tr style=\"text-align: right;\">\n",
       "      <th></th>\n",
       "      <th>name</th>\n",
       "    </tr>\n",
       "    <tr>\n",
       "      <th>id</th>\n",
       "      <th></th>\n",
       "    </tr>\n",
       "  </thead>\n",
       "  <tbody>\n",
       "    <tr>\n",
       "      <th>1</th>\n",
       "      <td>Blanking</td>\n",
       "    </tr>\n",
       "    <tr>\n",
       "      <th>2</th>\n",
       "      <td>Nonsense</td>\n",
       "    </tr>\n",
       "    <tr>\n",
       "      <th>3</th>\n",
       "      <td>QualityIssue</td>\n",
       "    </tr>\n",
       "    <tr>\n",
       "      <th>5</th>\n",
       "      <td>FalseFact</td>\n",
       "    </tr>\n",
       "    <tr>\n",
       "      <th>6</th>\n",
       "      <td>Syntax</td>\n",
       "    </tr>\n",
       "    <tr>\n",
       "      <th>9</th>\n",
       "      <td>EditWar</td>\n",
       "    </tr>\n",
       "    <tr>\n",
       "      <th>11</th>\n",
       "      <td>Intention</td>\n",
       "    </tr>\n",
       "  </tbody>\n",
       "</table>\n",
       "</div>"
      ],
      "text/plain": [
       "            name\n",
       "id              \n",
       "1       Blanking\n",
       "2       Nonsense\n",
       "3   QualityIssue\n",
       "5      FalseFact\n",
       "6         Syntax\n",
       "9        EditWar\n",
       "11     Intention"
      ]
     },
     "execution_count": 100,
     "metadata": {},
     "output_type": "execute_result"
    }
   ],
   "source": [
    "tags"
   ]
  },
  {
   "cell_type": "code",
   "execution_count": 101,
   "metadata": {},
   "outputs": [
    {
     "data": {
      "text/html": [
       "<div>\n",
       "<style scoped>\n",
       "    .dataframe tbody tr th:only-of-type {\n",
       "        vertical-align: middle;\n",
       "    }\n",
       "\n",
       "    .dataframe tbody tr th {\n",
       "        vertical-align: top;\n",
       "    }\n",
       "\n",
       "    .dataframe thead th {\n",
       "        text-align: right;\n",
       "    }\n",
       "</style>\n",
       "<table border=\"1\" class=\"dataframe\">\n",
       "  <thead>\n",
       "    <tr style=\"text-align: right;\">\n",
       "      <th></th>\n",
       "      <th>revision_page_id</th>\n",
       "      <th>tag_id</th>\n",
       "    </tr>\n",
       "    <tr>\n",
       "      <th>revision_id</th>\n",
       "      <th></th>\n",
       "      <th></th>\n",
       "    </tr>\n",
       "  </thead>\n",
       "  <tbody>\n",
       "    <tr>\n",
       "      <th>378014666</th>\n",
       "      <td>27080072</td>\n",
       "      <td>12</td>\n",
       "    </tr>\n",
       "    <tr>\n",
       "      <th>616838898</th>\n",
       "      <td>2888188</td>\n",
       "      <td>12</td>\n",
       "    </tr>\n",
       "  </tbody>\n",
       "</table>\n",
       "</div>"
      ],
      "text/plain": [
       "             revision_page_id  tag_id\n",
       "revision_id                          \n",
       "378014666            27080072      12\n",
       "616838898             2888188      12"
      ]
     },
     "metadata": {},
     "output_type": "display_data"
    },
    {
     "data": {
      "text/html": [
       "<div>\n",
       "<style scoped>\n",
       "    .dataframe tbody tr th:only-of-type {\n",
       "        vertical-align: middle;\n",
       "    }\n",
       "\n",
       "    .dataframe tbody tr th {\n",
       "        vertical-align: top;\n",
       "    }\n",
       "\n",
       "    .dataframe thead th {\n",
       "        text-align: right;\n",
       "    }\n",
       "</style>\n",
       "<table border=\"1\" class=\"dataframe\">\n",
       "  <thead>\n",
       "    <tr style=\"text-align: right;\">\n",
       "      <th></th>\n",
       "      <th>revision_page_id</th>\n",
       "      <th>tag_id</th>\n",
       "    </tr>\n",
       "    <tr>\n",
       "      <th>revision_id</th>\n",
       "      <th></th>\n",
       "      <th></th>\n",
       "    </tr>\n",
       "  </thead>\n",
       "  <tbody>\n",
       "    <tr>\n",
       "      <th>7078112</th>\n",
       "      <td>1066808</td>\n",
       "      <td>12</td>\n",
       "    </tr>\n",
       "    <tr>\n",
       "      <th>7750035</th>\n",
       "      <td>19985174</td>\n",
       "      <td>12</td>\n",
       "    </tr>\n",
       "  </tbody>\n",
       "</table>\n",
       "</div>"
      ],
      "text/plain": [
       "             revision_page_id  tag_id\n",
       "revision_id                          \n",
       "7078112               1066808      12\n",
       "7750035              19985174      12"
      ]
     },
     "metadata": {},
     "output_type": "display_data"
    },
    {
     "data": {
      "text/html": [
       "<div>\n",
       "<style scoped>\n",
       "    .dataframe tbody tr th:only-of-type {\n",
       "        vertical-align: middle;\n",
       "    }\n",
       "\n",
       "    .dataframe tbody tr th {\n",
       "        vertical-align: top;\n",
       "    }\n",
       "\n",
       "    .dataframe thead th {\n",
       "        text-align: right;\n",
       "    }\n",
       "</style>\n",
       "<table border=\"1\" class=\"dataframe\">\n",
       "  <thead>\n",
       "    <tr style=\"text-align: right;\">\n",
       "      <th></th>\n",
       "      <th>revision_page_id</th>\n",
       "      <th>tag_id</th>\n",
       "    </tr>\n",
       "    <tr>\n",
       "      <th>revision_id</th>\n",
       "      <th></th>\n",
       "      <th></th>\n",
       "    </tr>\n",
       "  </thead>\n",
       "  <tbody>\n",
       "    <tr>\n",
       "      <th>256987527</th>\n",
       "      <td>1272844</td>\n",
       "      <td>12</td>\n",
       "    </tr>\n",
       "    <tr>\n",
       "      <th>419184617</th>\n",
       "      <td>23103900</td>\n",
       "      <td>12</td>\n",
       "    </tr>\n",
       "  </tbody>\n",
       "</table>\n",
       "</div>"
      ],
      "text/plain": [
       "             revision_page_id  tag_id\n",
       "revision_id                          \n",
       "256987527             1272844      12\n",
       "419184617            23103900      12"
      ]
     },
     "metadata": {},
     "output_type": "display_data"
    }
   ],
   "source": [
    "def read_revisiontag(path):\n",
    "    df = pd.read_csv(os.path.join(CORPUS_PATH, path), index_col=0)\n",
    "    display(df.head(2))\n",
    "    return df\n",
    "\n",
    "created = read_revisiontag('created/revisiontag_created_1k.csv')\n",
    "modified = read_revisiontag('modified/revisiontag_modified_1k.csv')\n",
    "deleted = read_revisiontag('deleted/revisiontag_deleted_1k.csv')"
   ]
  },
  {
   "cell_type": "code",
   "execution_count": 102,
   "metadata": {},
   "outputs": [
    {
     "data": {
      "text/plain": [
       "83"
      ]
     },
     "execution_count": 102,
     "metadata": {},
     "output_type": "execute_result"
    }
   ],
   "source": [
    "len(created[created.tag_id != 12].index)"
   ]
  },
  {
   "cell_type": "code",
   "execution_count": 103,
   "metadata": {},
   "outputs": [
    {
     "data": {
      "text/plain": [
       "id\n",
       "1      0.0\n",
       "2      4.0\n",
       "3     38.0\n",
       "5      2.0\n",
       "6     27.0\n",
       "9      3.0\n",
       "11     9.0\n",
       "Name: tag_id, dtype: float64"
      ]
     },
     "metadata": {},
     "output_type": "display_data"
    },
    {
     "data": {
      "text/plain": [
       "id\n",
       "1      5\n",
       "2      4\n",
       "3     12\n",
       "5     18\n",
       "6      7\n",
       "9      3\n",
       "11    22\n",
       "Name: tag_id, dtype: int64"
      ]
     },
     "metadata": {},
     "output_type": "display_data"
    },
    {
     "data": {
      "text/plain": [
       "id\n",
       "1     351\n",
       "2     156\n",
       "3      24\n",
       "5       9\n",
       "6      46\n",
       "9      26\n",
       "11    281\n",
       "Name: tag_id, dtype: int64"
      ]
     },
     "metadata": {},
     "output_type": "display_data"
    }
   ],
   "source": [
    "def tag_counts(df):\n",
    "    counts = df['tag_id'].value_counts().reindex(tags.index)\n",
    "    counts.fillna(0, inplace=True)\n",
    "    display(counts)\n",
    "    return counts\n",
    "\n",
    "created_tag_count = tag_counts(created)\n",
    "modified_tag_count = tag_counts(modified)\n",
    "deleted_tag_count = tag_counts(deleted)"
   ]
  },
  {
   "cell_type": "code",
   "execution_count": 104,
   "metadata": {},
   "outputs": [
    {
     "data": {
      "text/html": [
       "<div>\n",
       "<style scoped>\n",
       "    .dataframe tbody tr th:only-of-type {\n",
       "        vertical-align: middle;\n",
       "    }\n",
       "\n",
       "    .dataframe tbody tr th {\n",
       "        vertical-align: top;\n",
       "    }\n",
       "\n",
       "    .dataframe thead th {\n",
       "        text-align: right;\n",
       "    }\n",
       "</style>\n",
       "<table border=\"1\" class=\"dataframe\">\n",
       "  <thead>\n",
       "    <tr style=\"text-align: right;\">\n",
       "      <th></th>\n",
       "      <th>created</th>\n",
       "      <th>modified</th>\n",
       "      <th>deleted</th>\n",
       "    </tr>\n",
       "    <tr>\n",
       "      <th>id</th>\n",
       "      <th></th>\n",
       "      <th></th>\n",
       "      <th></th>\n",
       "    </tr>\n",
       "  </thead>\n",
       "  <tbody>\n",
       "    <tr>\n",
       "      <th>1</th>\n",
       "      <td>0.0</td>\n",
       "      <td>5</td>\n",
       "      <td>351</td>\n",
       "    </tr>\n",
       "    <tr>\n",
       "      <th>2</th>\n",
       "      <td>4.0</td>\n",
       "      <td>4</td>\n",
       "      <td>156</td>\n",
       "    </tr>\n",
       "    <tr>\n",
       "      <th>3</th>\n",
       "      <td>38.0</td>\n",
       "      <td>12</td>\n",
       "      <td>24</td>\n",
       "    </tr>\n",
       "    <tr>\n",
       "      <th>5</th>\n",
       "      <td>2.0</td>\n",
       "      <td>18</td>\n",
       "      <td>9</td>\n",
       "    </tr>\n",
       "    <tr>\n",
       "      <th>6</th>\n",
       "      <td>27.0</td>\n",
       "      <td>7</td>\n",
       "      <td>46</td>\n",
       "    </tr>\n",
       "    <tr>\n",
       "      <th>9</th>\n",
       "      <td>3.0</td>\n",
       "      <td>3</td>\n",
       "      <td>26</td>\n",
       "    </tr>\n",
       "    <tr>\n",
       "      <th>11</th>\n",
       "      <td>9.0</td>\n",
       "      <td>22</td>\n",
       "      <td>281</td>\n",
       "    </tr>\n",
       "  </tbody>\n",
       "</table>\n",
       "</div>"
      ],
      "text/plain": [
       "    created  modified  deleted\n",
       "id                            \n",
       "1       0.0         5      351\n",
       "2       4.0         4      156\n",
       "3      38.0        12       24\n",
       "5       2.0        18        9\n",
       "6      27.0         7       46\n",
       "9       3.0         3       26\n",
       "11      9.0        22      281"
      ]
     },
     "execution_count": 104,
     "metadata": {},
     "output_type": "execute_result"
    }
   ],
   "source": [
    "combined = pd.concat([\n",
    "    created_tag_count.rename('created'),\n",
    "    modified_tag_count.rename('modified'),\n",
    "    deleted_tag_count.rename('deleted')\n",
    "], axis=1)\n",
    "\n",
    "combined"
   ]
  },
  {
   "cell_type": "code",
   "execution_count": 105,
   "metadata": {},
   "outputs": [],
   "source": [
    "def export(export_name, png=False):\n",
    "    \n",
    "    folder = 'export/random1k'\n",
    "    if not os.path.exists(folder):\n",
    "        os.makedirs(folder)\n",
    "    \n",
    "    filename = '%s-%s.pdf' % (export_name, CORPUS_ID)\n",
    "    \n",
    "    path = os.path.join(folder, filename)\n",
    "    plt.savefig(path, format='pdf', bbox_inches='tight')\n",
    "    \n",
    "    if png:\n",
    "        filename = '%s-%s.png' % (export_name, CORPUS_ID)\n",
    "        path = os.path.join(folder, filename)\n",
    "        plt.savefig(path, format='png', dpi=200, bbox_inches='tight')\n",
    "        \n",
    "    plt.show()\n",
    "    plt.clf()"
   ]
  },
  {
   "cell_type": "code",
   "execution_count": 106,
   "metadata": {},
   "outputs": [],
   "source": [
    "def plot_hbars(dataset, title, export_name):\n",
    "    x = range(len(dataset))    \n",
    "    bars = []\n",
    "    last_series = np.repeat(0, len(tags))\n",
    "    \n",
    "    for col in dataset.columns:\n",
    "        series = dataset[col]\n",
    "        ref = plt.barh(x, series, left=last_series)\n",
    "        bars.append(ref)\n",
    "        last_series += series\n",
    "    \n",
    "    plt.yticks(x, tags['name'])\n",
    "    plt.legend(bars,\n",
    "               ['Created', 'Modified', 'Deleted'],\n",
    "               loc='lower center',\n",
    "               ncol=3,\n",
    "               bbox_to_anchor=(.5, -0.22))\n",
    "    plt.title(title)\n",
    "    export(export_name)"
   ]
  },
  {
   "cell_type": "markdown",
   "metadata": {},
   "source": [
    "Simply plot shares of c, m, d given a certain tag.\n",
    "Read: given tag t, x% are in created, y% in modified, etc.\n",
    "This over-represents the deleted set, for which we have many more instances\n",
    "of vandalism."
   ]
  },
  {
   "cell_type": "code",
   "execution_count": 107,
   "metadata": {},
   "outputs": [
    {
     "data": {
      "image/png": "[encoded data removed]",
      "text/plain": [
       "<Figure size 432x288 with 1 Axes>"
      ]
     },
     "metadata": {},
     "output_type": "display_data"
    },
    {
     "data": {
      "text/plain": [
       "<Figure size 432x288 with 0 Axes>"
      ]
     },
     "metadata": {},
     "output_type": "display_data"
    }
   ],
   "source": [
    "tag_counts = combined.sum(axis=1)\n",
    "relative_counts = combined.divide(tag_counts, axis=0)\n",
    "plot_hbars(relative_counts,\n",
    "           'Tags by Dataset',\n",
    "           'hbar_relative_tags_by_dataset')"
   ]
  },
  {
   "cell_type": "markdown",
   "metadata": {},
   "source": [
    "Attempt a balanced view given the different vandalism rates in c, m, d.\n",
    "First find out, what was the proportion of the tag given the dataset, e.g.,\n",
    "x% of the created set have been an edit war.\n",
    "Second, compare the tag rates with the other datasets.\n",
    "Read: it was much more likely to encounter a Template vandalism in the \n",
    "created than in deleted set."
   ]
  },
  {
   "cell_type": "code",
   "execution_count": 108,
   "metadata": {},
   "outputs": [
    {
     "data": {
      "image/png": "[encoded data removed]",
      "text/plain": [
       "<Figure size 432x288 with 1 Axes>"
      ]
     },
     "metadata": {},
     "output_type": "display_data"
    },
    {
     "data": {
      "text/plain": [
       "<Figure size 432x288 with 0 Axes>"
      ]
     },
     "metadata": {},
     "output_type": "display_data"
    }
   ],
   "source": [
    "relative_to_dataset = combined / combined.sum()\n",
    "relative_sums = relative_to_dataset.sum(axis=1)\n",
    "relative_to_dataset_and_tag = relative_to_dataset.divide(relative_sums, axis=0)\n",
    "\n",
    "plot_hbars(relative_to_dataset_and_tag,\n",
    "           'Comparison of Tag Rates by Dataset',\n",
    "           'hbar_tag_rate_comparison')"
   ]
  },
  {
   "cell_type": "code",
   "execution_count": 109,
   "metadata": {},
   "outputs": [
    {
     "name": "stderr",
     "output_type": "stream",
     "text": [
      "/Users/falco/.local/share/virtualenvs/notebooks-Ad9Pllzq/lib/python3.7/site-packages/matplotlib/cbook/deprecation.py:107: MatplotlibDeprecationWarning: Adding an axes using the same arguments as a previous axes currently reuses the earlier instance.  In a future version, a new instance will always be created and returned.  Meanwhile, this warning can be suppressed, and the future behavior ensured, by passing a unique label to each axes instance.\n",
      "  warnings.warn(message, mplDeprecation, stacklevel=1)\n"
     ]
    },
    {
     "data": {
      "image/png": "[encoded data removed]",
      "text/plain": [
       "<Figure size 432x288 with 1 Axes>"
      ]
     },
     "metadata": {},
     "output_type": "display_data"
    },
    {
     "data": {
      "image/png": "[encoded data removed]",
      "text/plain": [
       "<Figure size 432x288 with 1 Axes>"
      ]
     },
     "metadata": {},
     "output_type": "display_data"
    },
    {
     "data": {
      "image/png": "[encoded data removed]",
      "text/plain": [
       "<Figure size 432x288 with 1 Axes>"
      ]
     },
     "metadata": {},
     "output_type": "display_data"
    },
    {
     "data": {
      "image/png": "[encoded data removed]",
      "text/plain": [
       "<Figure size 432x288 with 1 Axes>"
      ]
     },
     "metadata": {},
     "output_type": "display_data"
    },
    {
     "data": {
      "text/plain": [
       "<Figure size 432x288 with 0 Axes>"
      ]
     },
     "metadata": {},
     "output_type": "display_data"
    }
   ],
   "source": [
    "def plot_vbars(data, title, export_name, logscale=False, normalized=True):\n",
    "    plt.title(title)\n",
    "    \n",
    "    ax = plt.subplot(111)\n",
    "    \n",
    "    bars = []\n",
    "    w = .1\n",
    "    pad = .2\n",
    "    x = np.arange(0,\n",
    "                  len(tags) * w * 3 + len(tags) * pad, # total width\n",
    "                  w * 3 + pad)\n",
    "    \n",
    "    x2 = x - w\n",
    "    \n",
    "    for index, tag in enumerate(data):\n",
    "        bar = ax.bar(x2 + w * index,\n",
    "                     data[tag],\n",
    "                     width=w,\n",
    "                     align='center',\n",
    "                     log=logscale)\n",
    "        \n",
    "        bars.append(bar)\n",
    "        \n",
    "    plt.legend(bars,\n",
    "               ('Created', 'Modified', 'Deleted'),\n",
    "               loc='lower center',\n",
    "               ncol=3,\n",
    "               bbox_to_anchor=(0.5, -0.45))\n",
    "    \n",
    "    plt.xticks(x, tags['name'], rotation=45)\n",
    "    if normalized:\n",
    "        plt.ylim(0, 1.0)\n",
    "    export(export_name)\n",
    "\n",
    "\n",
    "plot_vbars(relative_counts,\n",
    "           'Tag Counts by Dataset',\n",
    "           'vbar_relative_tags_by_dataset')\n",
    "\n",
    "plot_vbars(relative_to_dataset_and_tag,\n",
    "           'Comparison of Tag Rates by Dataset',\n",
    "           'vbar_tag_rate_comparision')\n",
    "\n",
    "plot_vbars(combined,\n",
    "           'Vandalism Instances',\n",
    "           'vbar_vandalism_counts',\n",
    "           normalized=False)\n",
    "\n",
    "plot_vbars(combined,\n",
    "           'Vandalism Instances',\n",
    "           'vbar_vandalism_counts_log',\n",
    "           logscale=True,\n",
    "           normalized=False)"
   ]
  },
  {
   "cell_type": "markdown",
   "metadata": {},
   "source": [
    "Attempt to plot the real distribution by dataset (meaning many colors encoding\n",
    "individual tags)"
   ]
  },
  {
   "cell_type": "code",
   "execution_count": 110,
   "metadata": {},
   "outputs": [
    {
     "data": {
      "image/png": "[encoded data removed]",
      "text/plain": [
       "<Figure size 432x288 with 1 Axes>"
      ]
     },
     "metadata": {},
     "output_type": "display_data"
    },
    {
     "data": {
      "text/plain": [
       "<Figure size 432x288 with 0 Axes>"
      ]
     },
     "metadata": {},
     "output_type": "display_data"
    }
   ],
   "source": [
    "def plot_stacked(data, title, export_name):\n",
    "    colors = plt.get_cmap('tab20').colors\n",
    "    plt.title(title)\n",
    "    \n",
    "    last_series = np.repeat(0, len(data))\n",
    "    bars = []\n",
    "    for column in data.columns:\n",
    "        values = data[column]\n",
    "        bar = plt.bar(np.arange(len(values)),\n",
    "                      data[column],\n",
    "                      bottom=last_series,\n",
    "                      color = colors[column - 1])\n",
    "        bars.append(bar)\n",
    "        last_series += data[column]\n",
    "    \n",
    "    plt.legend(bars[::-1], tags['name'])\n",
    "    plt.xticks(np.arange(3),\n",
    "              ['Created', 'Modified', 'Deleted'])\n",
    "    export(export_name)\n",
    "\n",
    "plot_stacked(combined.T, 'Tag Distribution', 'tag_distribution')"
   ]
  },
  {
   "cell_type": "code",
   "execution_count": 111,
   "metadata": {},
   "outputs": [
    {
     "data": {
      "image/png": "[encoded data removed]",
      "text/plain": [
       "<Figure size 432x288 with 3 Axes>"
      ]
     },
     "metadata": {},
     "output_type": "display_data"
    },
    {
     "data": {
      "text/plain": [
       "<Figure size 432x288 with 0 Axes>"
      ]
     },
     "metadata": {},
     "output_type": "display_data"
    }
   ],
   "source": [
    "def plot_multi():\n",
    "    colors = plt.get_cmap('tab20').colors\n",
    "    fig, (ax1, ax2, ax3) = plt.subplots(1, 3) \n",
    "    sns.despine(fig, left=True, bottom=True)#, top=True, right=True)\n",
    "    \n",
    "    def plot(label, data, ax):\n",
    "        last_value = 0\n",
    "        bars = []\n",
    "        for (tag, count) in zip(data.index, data):\n",
    "            bar = ax.bar([label],\n",
    "                  count,\n",
    "                  bottom=last_value,\n",
    "                  color=colors[tag - 1])\n",
    "            last_value += count\n",
    "            bars.append(bar)\n",
    "        return bars\n",
    "    \n",
    "    plot('Created', created_tag_count, ax1)\n",
    "    plot('Modified', modified_tag_count, ax2)\n",
    "    bars = plot('Deleted', deleted_tag_count, ax3)\n",
    "        \n",
    "    fig.subplots_adjust(wspace=0.35)\n",
    "    plt.legend(bars[::-1],\n",
    "               tags.name[::-1],\n",
    "               bbox_to_anchor=(2.35, 0.5),\n",
    "               loc='right',\n",
    "               frameon=False)\n",
    "    export('tag-distribution-stacked', png=True)\n",
    "\n",
    "plot_multi()"
   ]
  },
  {
   "cell_type": "code",
   "execution_count": 112,
   "metadata": {},
   "outputs": [
    {
     "name": "stdout",
     "output_type": "stream",
     "text": [
      "['QualityIssue', 'Syntax'] 5\n",
      "['Nonsense', 'Syntax', 'Intention'] 2\n",
      "\n",
      "['FalseFact', 'Intention'] 10\n",
      "['Nonsense', 'Intention'] 3\n",
      "['QualityIssue', 'Intention'] 2\n",
      "['Blanking', 'Intention'] 2\n",
      "\n",
      "['Blanking', 'Nonsense', 'Intention'] 147\n",
      "['Blanking', 'Intention'] 96\n",
      "['Blanking', 'EditWar'] 13\n",
      "['Blanking', 'EditWar', 'Intention'] 8\n",
      "['Blanking', 'QualityIssue', 'Intention'] 7\n",
      "['Blanking', 'QualityIssue'] 5\n",
      "['Syntax', 'Intention'] 5\n",
      "['Nonsense', 'Intention'] 4\n",
      "['FalseFact', 'Intention'] 3\n",
      "['Blanking', 'Syntax'] 2\n",
      "['FalseFact', 'Syntax', 'Intention'] 2\n",
      "['Blanking', 'Syntax', 'Intention'] 2\n"
     ]
    }
   ],
   "source": [
    "from collections import OrderedDict\n",
    "\n",
    "def find_co(frame):\n",
    "    by_revision = frame[frame['tag_id'] != 12].groupby('revision_id')\n",
    "    revision_to_tags = by_revision.apply(lambda x: tuple(x.tag_id.sort_values()))\n",
    "    counts = revision_to_tags.value_counts().sort_values(ascending=False)\n",
    "    return OrderedDict({tags: count for tags, count in counts.items() if len(tags) >= 2 and count > 1})\n",
    "\n",
    "def plot_co(co):\n",
    "    for tag_group, count in co.items():\n",
    "        tag_names = [tags.loc[tag_id]['name'] for tag_id in tag_group]\n",
    "        print(tag_names, count)\n",
    "\n",
    "plot_co(find_co(created))\n",
    "print()\n",
    "plot_co(find_co(modified))\n",
    "print()\n",
    "plot_co(find_co(deleted))"
   ]
  }
 ],
 "metadata": {
  "kernelspec": {
   "display_name": "Python 3",
   "language": "python",
   "name": "python3"
  },
  "language_info": {
   "codemirror_mode": {
    "name": "ipython",
    "version": 3
   },
   "file_extension": ".py",
   "mimetype": "text/x-python",
   "name": "python",
   "nbconvert_exporter": "python",
   "pygments_lexer": "ipython3",
   "version": "3.7.0"
  }
 },
 "nbformat": 4,
 "nbformat_minor": 2
}
