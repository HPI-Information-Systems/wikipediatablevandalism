{
 "cells": [
  {
   "cell_type": "code",
   "execution_count": 1,
   "metadata": {},
   "outputs": [],
   "source": [
    "import numpy as np\n",
    "import os\n",
    "import pandas as pd\n",
    "import matplotlib.pyplot as plt\n",
    "from IPython.display import display\n",
    "import seaborn as sns"
   ]
  },
  {
   "cell_type": "code",
   "execution_count": 2,
   "metadata": {},
   "outputs": [],
   "source": [
    "tags = pd.read_csv('../wiki-corpus/tag.csv', index_col=0)\n",
    "tags = tags[tags.name != 'constructive']"
   ]
  },
  {
   "cell_type": "code",
   "execution_count": 3,
   "metadata": {},
   "outputs": [
    {
     "data": {
      "text/html": [
       "<div>\n",
       "<style scoped>\n",
       "    .dataframe tbody tr th:only-of-type {\n",
       "        vertical-align: middle;\n",
       "    }\n",
       "\n",
       "    .dataframe tbody tr th {\n",
       "        vertical-align: top;\n",
       "    }\n",
       "\n",
       "    .dataframe thead th {\n",
       "        text-align: right;\n",
       "    }\n",
       "</style>\n",
       "<table border=\"1\" class=\"dataframe\">\n",
       "  <thead>\n",
       "    <tr style=\"text-align: right;\">\n",
       "      <th></th>\n",
       "      <th>name</th>\n",
       "    </tr>\n",
       "    <tr>\n",
       "      <th>id</th>\n",
       "      <th></th>\n",
       "    </tr>\n",
       "  </thead>\n",
       "  <tbody>\n",
       "    <tr>\n",
       "      <th>1</th>\n",
       "      <td>Blanking</td>\n",
       "    </tr>\n",
       "    <tr>\n",
       "      <th>2</th>\n",
       "      <td>Nonsense</td>\n",
       "    </tr>\n",
       "    <tr>\n",
       "      <th>3</th>\n",
       "      <td>QualityIssue</td>\n",
       "    </tr>\n",
       "    <tr>\n",
       "      <th>4</th>\n",
       "      <td>PersonalStory</td>\n",
       "    </tr>\n",
       "    <tr>\n",
       "      <th>5</th>\n",
       "      <td>FalseFacts</td>\n",
       "    </tr>\n",
       "    <tr>\n",
       "      <th>6</th>\n",
       "      <td>Syntax</td>\n",
       "    </tr>\n",
       "    <tr>\n",
       "      <th>7</th>\n",
       "      <td>MergeConflict</td>\n",
       "    </tr>\n",
       "    <tr>\n",
       "      <th>8</th>\n",
       "      <td>Template</td>\n",
       "    </tr>\n",
       "    <tr>\n",
       "      <th>9</th>\n",
       "      <td>EditWars</td>\n",
       "    </tr>\n",
       "    <tr>\n",
       "      <th>10</th>\n",
       "      <td>SEO</td>\n",
       "    </tr>\n",
       "    <tr>\n",
       "      <th>11</th>\n",
       "      <td>Intention</td>\n",
       "    </tr>\n",
       "  </tbody>\n",
       "</table>\n",
       "</div>"
      ],
      "text/plain": [
       "             name\n",
       "id               \n",
       "1        Blanking\n",
       "2        Nonsense\n",
       "3    QualityIssue\n",
       "4   PersonalStory\n",
       "5      FalseFacts\n",
       "6          Syntax\n",
       "7   MergeConflict\n",
       "8        Template\n",
       "9        EditWars\n",
       "10            SEO\n",
       "11      Intention"
      ]
     },
     "execution_count": 3,
     "metadata": {},
     "output_type": "execute_result"
    }
   ],
   "source": [
    "tags"
   ]
  },
  {
   "cell_type": "code",
   "execution_count": 4,
   "metadata": {},
   "outputs": [
    {
     "data": {
      "text/html": [
       "<div>\n",
       "<style scoped>\n",
       "    .dataframe tbody tr th:only-of-type {\n",
       "        vertical-align: middle;\n",
       "    }\n",
       "\n",
       "    .dataframe tbody tr th {\n",
       "        vertical-align: top;\n",
       "    }\n",
       "\n",
       "    .dataframe thead th {\n",
       "        text-align: right;\n",
       "    }\n",
       "</style>\n",
       "<table border=\"1\" class=\"dataframe\">\n",
       "  <thead>\n",
       "    <tr style=\"text-align: right;\">\n",
       "      <th></th>\n",
       "      <th>revision_page_id</th>\n",
       "      <th>tag_id</th>\n",
       "    </tr>\n",
       "    <tr>\n",
       "      <th>revision_id</th>\n",
       "      <th></th>\n",
       "      <th></th>\n",
       "    </tr>\n",
       "  </thead>\n",
       "  <tbody>\n",
       "    <tr>\n",
       "      <th>378014666</th>\n",
       "      <td>27080072</td>\n",
       "      <td>12</td>\n",
       "    </tr>\n",
       "    <tr>\n",
       "      <th>616838898</th>\n",
       "      <td>2888188</td>\n",
       "      <td>12</td>\n",
       "    </tr>\n",
       "  </tbody>\n",
       "</table>\n",
       "</div>"
      ],
      "text/plain": [
       "             revision_page_id  tag_id\n",
       "revision_id                          \n",
       "378014666            27080072      12\n",
       "616838898             2888188      12"
      ]
     },
     "metadata": {},
     "output_type": "display_data"
    },
    {
     "data": {
      "text/html": [
       "<div>\n",
       "<style scoped>\n",
       "    .dataframe tbody tr th:only-of-type {\n",
       "        vertical-align: middle;\n",
       "    }\n",
       "\n",
       "    .dataframe tbody tr th {\n",
       "        vertical-align: top;\n",
       "    }\n",
       "\n",
       "    .dataframe thead th {\n",
       "        text-align: right;\n",
       "    }\n",
       "</style>\n",
       "<table border=\"1\" class=\"dataframe\">\n",
       "  <thead>\n",
       "    <tr style=\"text-align: right;\">\n",
       "      <th></th>\n",
       "      <th>revision_page_id</th>\n",
       "      <th>tag_id</th>\n",
       "    </tr>\n",
       "    <tr>\n",
       "      <th>revision_id</th>\n",
       "      <th></th>\n",
       "      <th></th>\n",
       "    </tr>\n",
       "  </thead>\n",
       "  <tbody>\n",
       "    <tr>\n",
       "      <th>7078112</th>\n",
       "      <td>1066808</td>\n",
       "      <td>12</td>\n",
       "    </tr>\n",
       "    <tr>\n",
       "      <th>7750035</th>\n",
       "      <td>19985174</td>\n",
       "      <td>12</td>\n",
       "    </tr>\n",
       "  </tbody>\n",
       "</table>\n",
       "</div>"
      ],
      "text/plain": [
       "             revision_page_id  tag_id\n",
       "revision_id                          \n",
       "7078112               1066808      12\n",
       "7750035              19985174      12"
      ]
     },
     "metadata": {},
     "output_type": "display_data"
    },
    {
     "data": {
      "text/html": [
       "<div>\n",
       "<style scoped>\n",
       "    .dataframe tbody tr th:only-of-type {\n",
       "        vertical-align: middle;\n",
       "    }\n",
       "\n",
       "    .dataframe tbody tr th {\n",
       "        vertical-align: top;\n",
       "    }\n",
       "\n",
       "    .dataframe thead th {\n",
       "        text-align: right;\n",
       "    }\n",
       "</style>\n",
       "<table border=\"1\" class=\"dataframe\">\n",
       "  <thead>\n",
       "    <tr style=\"text-align: right;\">\n",
       "      <th></th>\n",
       "      <th>revision_page_id</th>\n",
       "      <th>tag_id</th>\n",
       "    </tr>\n",
       "    <tr>\n",
       "      <th>revision_id</th>\n",
       "      <th></th>\n",
       "      <th></th>\n",
       "    </tr>\n",
       "  </thead>\n",
       "  <tbody>\n",
       "    <tr>\n",
       "      <th>256987527</th>\n",
       "      <td>1272844</td>\n",
       "      <td>12</td>\n",
       "    </tr>\n",
       "    <tr>\n",
       "      <th>419184617</th>\n",
       "      <td>23103900</td>\n",
       "      <td>12</td>\n",
       "    </tr>\n",
       "  </tbody>\n",
       "</table>\n",
       "</div>"
      ],
      "text/plain": [
       "             revision_page_id  tag_id\n",
       "revision_id                          \n",
       "256987527             1272844      12\n",
       "419184617            23103900      12"
      ]
     },
     "metadata": {},
     "output_type": "display_data"
    }
   ],
   "source": [
    "def read_revisiontag(path):\n",
    "    df = pd.read_csv(os.path.join('../wiki-corpus/', path), index_col=0)\n",
    "    display(df.head(2))\n",
    "    return df\n",
    "\n",
    "created = read_revisiontag('../wiki-corpus/created/revisiontag_created_1k.csv')\n",
    "modified = read_revisiontag('../wiki-corpus/modified/revisiontag_modified_1k.csv')\n",
    "deleted = read_revisiontag('../wiki-corpus/deleted/revisiontag_deleted_1k.csv')"
   ]
  },
  {
   "cell_type": "code",
   "execution_count": 5,
   "metadata": {},
   "outputs": [
    {
     "data": {
      "text/plain": [
       "83"
      ]
     },
     "execution_count": 5,
     "metadata": {},
     "output_type": "execute_result"
    }
   ],
   "source": [
    "len(created[created.tag_id != 12].index)"
   ]
  },
  {
   "cell_type": "code",
   "execution_count": 6,
   "metadata": {},
   "outputs": [
    {
     "data": {
      "text/plain": [
       "id\n",
       "1      0.0\n",
       "2      4.0\n",
       "3     38.0\n",
       "4      0.0\n",
       "5      2.0\n",
       "6     18.0\n",
       "7      0.0\n",
       "8      9.0\n",
       "9      3.0\n",
       "10     0.0\n",
       "11     9.0\n",
       "Name: tag_id, dtype: float64"
      ]
     },
     "metadata": {},
     "output_type": "display_data"
    },
    {
     "data": {
      "text/plain": [
       "id\n",
       "1      5.0\n",
       "2      4.0\n",
       "3     11.0\n",
       "4      1.0\n",
       "5     18.0\n",
       "6      6.0\n",
       "7      0.0\n",
       "8      1.0\n",
       "9      3.0\n",
       "10     1.0\n",
       "11    22.0\n",
       "Name: tag_id, dtype: float64"
      ]
     },
     "metadata": {},
     "output_type": "display_data"
    },
    {
     "data": {
      "text/plain": [
       "id\n",
       "1     357\n",
       "2     155\n",
       "3      18\n",
       "4       4\n",
       "5       9\n",
       "6      42\n",
       "7       1\n",
       "8       6\n",
       "9      28\n",
       "10      5\n",
       "11    282\n",
       "Name: tag_id, dtype: int64"
      ]
     },
     "metadata": {},
     "output_type": "display_data"
    }
   ],
   "source": [
    "def tag_counts(df):\n",
    "    counts = df['tag_id'].value_counts().reindex(tags.index)\n",
    "    counts.fillna(0, inplace=True)\n",
    "    display(counts)\n",
    "    return counts\n",
    "\n",
    "created_tag_count = tag_counts(created)\n",
    "modified_tag_count = tag_counts(modified)\n",
    "deleted_tag_count = tag_counts(deleted)"
   ]
  },
  {
   "cell_type": "code",
   "execution_count": 7,
   "metadata": {},
   "outputs": [
    {
     "data": {
      "text/html": [
       "<div>\n",
       "<style scoped>\n",
       "    .dataframe tbody tr th:only-of-type {\n",
       "        vertical-align: middle;\n",
       "    }\n",
       "\n",
       "    .dataframe tbody tr th {\n",
       "        vertical-align: top;\n",
       "    }\n",
       "\n",
       "    .dataframe thead th {\n",
       "        text-align: right;\n",
       "    }\n",
       "</style>\n",
       "<table border=\"1\" class=\"dataframe\">\n",
       "  <thead>\n",
       "    <tr style=\"text-align: right;\">\n",
       "      <th></th>\n",
       "      <th>created</th>\n",
       "      <th>modified</th>\n",
       "      <th>deleted</th>\n",
       "    </tr>\n",
       "    <tr>\n",
       "      <th>id</th>\n",
       "      <th></th>\n",
       "      <th></th>\n",
       "      <th></th>\n",
       "    </tr>\n",
       "  </thead>\n",
       "  <tbody>\n",
       "    <tr>\n",
       "      <th>1</th>\n",
       "      <td>0.0</td>\n",
       "      <td>5.0</td>\n",
       "      <td>357</td>\n",
       "    </tr>\n",
       "    <tr>\n",
       "      <th>2</th>\n",
       "      <td>4.0</td>\n",
       "      <td>4.0</td>\n",
       "      <td>155</td>\n",
       "    </tr>\n",
       "    <tr>\n",
       "      <th>3</th>\n",
       "      <td>38.0</td>\n",
       "      <td>11.0</td>\n",
       "      <td>18</td>\n",
       "    </tr>\n",
       "    <tr>\n",
       "      <th>4</th>\n",
       "      <td>0.0</td>\n",
       "      <td>1.0</td>\n",
       "      <td>4</td>\n",
       "    </tr>\n",
       "    <tr>\n",
       "      <th>5</th>\n",
       "      <td>2.0</td>\n",
       "      <td>18.0</td>\n",
       "      <td>9</td>\n",
       "    </tr>\n",
       "    <tr>\n",
       "      <th>6</th>\n",
       "      <td>18.0</td>\n",
       "      <td>6.0</td>\n",
       "      <td>42</td>\n",
       "    </tr>\n",
       "    <tr>\n",
       "      <th>7</th>\n",
       "      <td>0.0</td>\n",
       "      <td>0.0</td>\n",
       "      <td>1</td>\n",
       "    </tr>\n",
       "    <tr>\n",
       "      <th>8</th>\n",
       "      <td>9.0</td>\n",
       "      <td>1.0</td>\n",
       "      <td>6</td>\n",
       "    </tr>\n",
       "    <tr>\n",
       "      <th>9</th>\n",
       "      <td>3.0</td>\n",
       "      <td>3.0</td>\n",
       "      <td>28</td>\n",
       "    </tr>\n",
       "    <tr>\n",
       "      <th>10</th>\n",
       "      <td>0.0</td>\n",
       "      <td>1.0</td>\n",
       "      <td>5</td>\n",
       "    </tr>\n",
       "    <tr>\n",
       "      <th>11</th>\n",
       "      <td>9.0</td>\n",
       "      <td>22.0</td>\n",
       "      <td>282</td>\n",
       "    </tr>\n",
       "  </tbody>\n",
       "</table>\n",
       "</div>"
      ],
      "text/plain": [
       "    created  modified  deleted\n",
       "id                            \n",
       "1       0.0       5.0      357\n",
       "2       4.0       4.0      155\n",
       "3      38.0      11.0       18\n",
       "4       0.0       1.0        4\n",
       "5       2.0      18.0        9\n",
       "6      18.0       6.0       42\n",
       "7       0.0       0.0        1\n",
       "8       9.0       1.0        6\n",
       "9       3.0       3.0       28\n",
       "10      0.0       1.0        5\n",
       "11      9.0      22.0      282"
      ]
     },
     "execution_count": 7,
     "metadata": {},
     "output_type": "execute_result"
    }
   ],
   "source": [
    "combined = pd.concat([\n",
    "    created_tag_count.rename('created'),\n",
    "    modified_tag_count.rename('modified'),\n",
    "    deleted_tag_count.rename('deleted')\n",
    "], axis=1)\n",
    "\n",
    "combined"
   ]
  },
  {
   "cell_type": "code",
   "execution_count": 8,
   "metadata": {},
   "outputs": [],
   "source": [
    "def export(export_name, png=False):\n",
    "    \n",
    "    folder = 'export'\n",
    "    if not os.path.exists(folder):\n",
    "        os.mkdir(folder)\n",
    "    \n",
    "    filename = export_name + '.pdf'\n",
    "    \n",
    "    path = os.path.join(folder, filename)\n",
    "    plt.savefig(path, format='pdf', bbox_inches='tight')\n",
    "    \n",
    "    if png:\n",
    "        filename = export_name + '.png'\n",
    "        path = os.path.join(folder, filename)\n",
    "        plt.savefig(path, format='png', dpi=200, bbox_inches='tight')\n",
    "        \n",
    "    plt.show()\n",
    "    plt.clf()"
   ]
  },
  {
   "cell_type": "code",
   "execution_count": 9,
   "metadata": {},
   "outputs": [],
   "source": [
    "def plot_hbars(dataset, title, export_name):\n",
    "    x = range(len(dataset))    \n",
    "    bars = []\n",
    "    last_series = np.repeat(0, len(tags))\n",
    "    \n",
    "    for col in dataset.columns:\n",
    "        series = dataset[col]\n",
    "        ref = plt.barh(x, series, left=last_series)\n",
    "        bars.append(ref)\n",
    "        last_series += series\n",
    "    \n",
    "    plt.yticks(x, tags['name'])\n",
    "    plt.legend(bars,\n",
    "               ['Created', 'Modified', 'Deleted'],\n",
    "               loc='lower center',\n",
    "               ncol=3,\n",
    "               bbox_to_anchor=(.5, -0.22))\n",
    "    plt.title(title)\n",
    "    export(export_name)"
   ]
  },
  {
   "cell_type": "markdown",
   "metadata": {},
   "source": [
    "Simply plot shares of c, m, d given a certain tag.\n",
    "Read: given tag t, x% are in created, y% in modified, etc.\n",
    "This over-represents the deleted set, for which we have many more instances\n",
    "of vandalism."
   ]
  },
  {
   "cell_type": "code",
   "execution_count": 10,
   "metadata": {},
   "outputs": [
    {
     "data": {
      "image/png": "[encoded data removed]",
      "text/plain": [
       "<Figure size 432x288 with 1 Axes>"
      ]
     },
     "metadata": {},
     "output_type": "display_data"
    },
    {
     "data": {
      "text/plain": [
       "<Figure size 432x288 with 0 Axes>"
      ]
     },
     "metadata": {},
     "output_type": "display_data"
    }
   ],
   "source": [
    "tag_counts = combined.sum(axis=1)\n",
    "relative_counts = combined.divide(tag_counts, axis=0)\n",
    "plot_hbars(relative_counts,\n",
    "           'Tags by Dataset',\n",
    "           'hbar_relative_tags_by_dataset')"
   ]
  },
  {
   "cell_type": "markdown",
   "metadata": {},
   "source": [
    "Attempt a balanced view given the different vandalism rates in c, m, d.\n",
    "First find out, what was the proportion of the tag given the dataset, e.g.,\n",
    "x% of the created set have been an edit war.\n",
    "Second, compare the tag rates with the other datasets.\n",
    "Read: it was much more likely to encounter a Template vandalism in the \n",
    "created than in deleted set."
   ]
  },
  {
   "cell_type": "code",
   "execution_count": 11,
   "metadata": {},
   "outputs": [
    {
     "data": {
      "image/png": "[encoded data removed]",
      "text/plain": [
       "<Figure size 432x288 with 1 Axes>"
      ]
     },
     "metadata": {},
     "output_type": "display_data"
    },
    {
     "data": {
      "text/plain": [
       "<Figure size 432x288 with 0 Axes>"
      ]
     },
     "metadata": {},
     "output_type": "display_data"
    }
   ],
   "source": [
    "relative_to_dataset = combined / combined.sum()\n",
    "relative_sums = relative_to_dataset.sum(axis=1)\n",
    "relative_to_dataset_and_tag = relative_to_dataset.divide(relative_sums, axis=0)\n",
    "\n",
    "plot_hbars(relative_to_dataset_and_tag,\n",
    "           'Comparison of Tag Rates by Dataset',\n",
    "           'hbar_tag_rate_comparison')"
   ]
  },
  {
   "cell_type": "code",
   "execution_count": 12,
   "metadata": {},
   "outputs": [
    {
     "name": "stderr",
     "output_type": "stream",
     "text": [
      "/Users/falco/.local/share/virtualenvs/notebooks-Ad9Pllzq/lib/python3.7/site-packages/matplotlib/cbook/deprecation.py:107: MatplotlibDeprecationWarning: Adding an axes using the same arguments as a previous axes currently reuses the earlier instance.  In a future version, a new instance will always be created and returned.  Meanwhile, this warning can be suppressed, and the future behavior ensured, by passing a unique label to each axes instance.\n",
      "  warnings.warn(message, mplDeprecation, stacklevel=1)\n"
     ]
    },
    {
     "data": {
      "image/png": "[encoded data removed]",
      "text/plain": [
       "<Figure size 432x288 with 1 Axes>"
      ]
     },
     "metadata": {},
     "output_type": "display_data"
    },
    {
     "data": {
      "image/png": "[encoded data removed]",
      "text/plain": [
       "<Figure size 432x288 with 1 Axes>"
      ]
     },
     "metadata": {},
     "output_type": "display_data"
    },
    {
     "data": {
      "image/png": "[encoded data removed]",
      "text/plain": [
       "<Figure size 432x288 with 1 Axes>"
      ]
     },
     "metadata": {},
     "output_type": "display_data"
    },
    {
     "data": {
      "image/png": "[encoded data removed]",
      "text/plain": [
       "<Figure size 432x288 with 1 Axes>"
      ]
     },
     "metadata": {},
     "output_type": "display_data"
    },
    {
     "data": {
      "text/plain": [
       "<Figure size 432x288 with 0 Axes>"
      ]
     },
     "metadata": {},
     "output_type": "display_data"
    }
   ],
   "source": [
    "def plot_vbars(data, title, export_name, logscale=False, normalized=True):\n",
    "    plt.title(title)\n",
    "    \n",
    "    ax = plt.subplot(111)\n",
    "    \n",
    "    bars = []\n",
    "    w = .1\n",
    "    pad = .2\n",
    "    x = np.arange(0,\n",
    "                  len(tags) * w * 3 + len(tags) * pad, # total width\n",
    "                  w * 3 + pad)\n",
    "    \n",
    "    x2 = x - w\n",
    "    \n",
    "    for index, tag in enumerate(data):\n",
    "        bar = ax.bar(x2 + w * index,\n",
    "                     data[tag],\n",
    "                     width=w,\n",
    "                     align='center',\n",
    "                     log=logscale)\n",
    "        \n",
    "        bars.append(bar)\n",
    "        \n",
    "    plt.legend(bars,\n",
    "               ('Created', 'Modified', 'Deleted'),\n",
    "               loc='lower center',\n",
    "               ncol=3,\n",
    "               bbox_to_anchor=(0.5, -0.45))\n",
    "    \n",
    "    plt.xticks(x, tags['name'], rotation=45)\n",
    "    if normalized:\n",
    "        plt.ylim(0, 1.0)\n",
    "    export(export_name)\n",
    "\n",
    "\n",
    "plot_vbars(relative_counts,\n",
    "           'Tag Counts by Dataset',\n",
    "           'vbar_relative_tags_by_dataset')\n",
    "\n",
    "plot_vbars(relative_to_dataset_and_tag,\n",
    "           'Comparison of Tag Rates by Dataset',\n",
    "           'vbar_tag_rate_comparision')\n",
    "\n",
    "plot_vbars(combined,\n",
    "           'Vandalism Instances',\n",
    "           'vbar_vandalism_counts',\n",
    "           normalized=False)\n",
    "\n",
    "plot_vbars(combined,\n",
    "           'Vandalism Instances',\n",
    "           'vbar_vandalism_counts_log',\n",
    "           logscale=True,\n",
    "           normalized=False)"
   ]
  },
  {
   "cell_type": "markdown",
   "metadata": {},
   "source": [
    "Attempt to plot the real distribution by dataset (meaning many colors encoding\n",
    "individual tags)"
   ]
  },
  {
   "cell_type": "code",
   "execution_count": 13,
   "metadata": {},
   "outputs": [
    {
     "data": {
      "image/png": "[encoded data removed]",
      "text/plain": [
       "<Figure size 432x288 with 1 Axes>"
      ]
     },
     "metadata": {},
     "output_type": "display_data"
    },
    {
     "data": {
      "text/plain": [
       "<Figure size 432x288 with 0 Axes>"
      ]
     },
     "metadata": {},
     "output_type": "display_data"
    }
   ],
   "source": [
    "def plot_stacked(data, title, export_name):\n",
    "    colors = plt.get_cmap('tab20').colors\n",
    "    plt.title(title)\n",
    "    \n",
    "    last_series = np.repeat(0, len(data))\n",
    "    bars = []\n",
    "    for index, column in enumerate(data.columns):\n",
    "        values = data[column]\n",
    "        bar = plt.bar(np.arange(len(values)),\n",
    "                      data[column],\n",
    "                      bottom=last_series,\n",
    "                      color = colors[index])\n",
    "        bars.append(bar)\n",
    "        last_series += data[column]\n",
    "    \n",
    "    plt.legend(bars[::-1], tags['name'])\n",
    "    plt.xticks(np.arange(3),\n",
    "              ['Created', 'Modified', 'Deleted'])\n",
    "    export(export_name)\n",
    "\n",
    "plot_stacked(combined.T, 'Tag Distribution', 'tag_distribution')"
   ]
  },
  {
   "cell_type": "code",
   "execution_count": 14,
   "metadata": {},
   "outputs": [
    {
     "data": {
      "image/png": "[encoded data removed]",
      "text/plain": [
       "<Figure size 432x288 with 3 Axes>"
      ]
     },
     "metadata": {},
     "output_type": "display_data"
    },
    {
     "data": {
      "text/plain": [
       "<Figure size 432x288 with 0 Axes>"
      ]
     },
     "metadata": {},
     "output_type": "display_data"
    }
   ],
   "source": [
    "def plot_multi():\n",
    "    colors = plt.get_cmap('tab20').colors\n",
    "    fig, (ax1, ax2, ax3) = plt.subplots(1, 3) \n",
    "    sns.despine(fig, left=True, bottom=True)#, top=True, right=True)\n",
    "    \n",
    "    def plot(label, data, ax):\n",
    "        last_value = 0\n",
    "        bars = []\n",
    "        for index, (tag, count) in enumerate(zip(data.index, data)):\n",
    "            bar = ax.bar([label],\n",
    "                  count,\n",
    "                  bottom=last_value,\n",
    "                  color=colors[index])\n",
    "            last_value += count\n",
    "            bars.append(bar)\n",
    "        return bars\n",
    "    \n",
    "    plot('Created', created_tag_count, ax1)\n",
    "    plot('Modified', modified_tag_count, ax2)\n",
    "    bars = plot('Deleted', deleted_tag_count, ax3)\n",
    "        \n",
    "    fig.subplots_adjust(wspace=0.35)\n",
    "    plt.legend(bars[::-1],\n",
    "               tags.name[::-1],\n",
    "               bbox_to_anchor=(2.35, 0.5),\n",
    "               loc='right',\n",
    "               frameon=False)\n",
    "    export('multi', png=True)\n",
    "\n",
    "plot_multi()"
   ]
  },
  {
   "cell_type": "code",
   "execution_count": 15,
   "metadata": {},
   "outputs": [
    {
     "name": "stdout",
     "output_type": "stream",
     "text": [
      "['QualityIssue', 'Template'] 3\n",
      "['Nonsense', 'Syntax', 'Intention'] 2\n",
      "['QualityIssue', 'Syntax'] 2\n",
      "\n",
      "['FalseFacts', 'Intention'] 10\n",
      "['Nonsense', 'Intention'] 3\n",
      "['QualityIssue', 'Intention'] 2\n",
      "['Blanking', 'Intention'] 2\n",
      "\n",
      "['Blanking', 'Nonsense', 'Intention'] 144\n",
      "['Blanking', 'Intention'] 96\n",
      "['Blanking', 'EditWars'] 13\n",
      "['Blanking', 'EditWars', 'Intention'] 8\n",
      "['Blanking', 'QualityIssue'] 5\n",
      "['Nonsense', 'Intention'] 4\n",
      "['Syntax', 'Intention'] 4\n",
      "['FalseFacts', 'Intention'] 3\n",
      "['Blanking', 'QualityIssue', 'Intention'] 3\n",
      "['Blanking', 'SEO', 'Intention'] 3\n",
      "['Blanking', 'Nonsense', 'PersonalStory', 'Intention'] 2\n",
      "['Blanking', 'FalseFacts', 'Intention'] 2\n",
      "['Blanking', 'Syntax'] 2\n",
      "['FalseFacts', 'Syntax', 'Intention'] 2\n",
      "['Blanking', 'PersonalStory', 'Intention'] 2\n"
     ]
    }
   ],
   "source": [
    "from collections import OrderedDict\n",
    "\n",
    "def find_co(frame):\n",
    "    by_revision = frame[frame['tag_id'] != 12].groupby('revision_id')\n",
    "    revision_to_tags = by_revision.apply(lambda x: tuple(x.tag_id.sort_values()))\n",
    "    counts = revision_to_tags.value_counts().sort_values(ascending=False)\n",
    "    return OrderedDict({tags: count for tags, count in counts.items() if len(tags) >= 2 and count > 1})\n",
    "\n",
    "def plot_co(co):\n",
    "    for tag_group, count in co.items():\n",
    "        tag_names = [tags.loc[tag_id]['name'] for tag_id in tag_group]\n",
    "        print(tag_names, count)\n",
    "\n",
    "plot_co(find_co(created))\n",
    "print()\n",
    "plot_co(find_co(modified))\n",
    "print()\n",
    "plot_co(find_co(deleted))"
   ]
  }
 ],
 "metadata": {
  "kernelspec": {
   "display_name": "Python 3",
   "language": "python",
   "name": "python3"
  },
  "language_info": {
   "codemirror_mode": {
    "name": "ipython",
    "version": 3
   },
   "file_extension": ".py",
   "mimetype": "text/x-python",
   "name": "python",
   "nbconvert_exporter": "python",
   "pygments_lexer": "ipython3",
   "version": "3.7.0"
  }
 },
 "nbformat": 4,
 "nbformat_minor": 2
}
